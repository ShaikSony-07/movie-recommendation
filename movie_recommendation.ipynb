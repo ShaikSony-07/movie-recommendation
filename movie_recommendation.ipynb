{
  "nbformat": 4,
  "nbformat_minor": 0,
  "metadata": {
    "colab": {
      "provenance": [],
      "include_colab_link": true
    },
    "kernelspec": {
      "name": "python3",
      "display_name": "Python 3"
    },
    "language_info": {
      "name": "python"
    }
  },
  "cells": [
    {
      "cell_type": "markdown",
      "metadata": {
        "id": "view-in-github",
        "colab_type": "text"
      },
      "source": [
        "<a href=\"https://colab.research.google.com/github/ShaikSony-07/movie-recommendation/blob/main/movie_recommendation.ipynb\" target=\"_parent\"><img src=\"https://colab.research.google.com/assets/colab-badge.svg\" alt=\"Open In Colab\"/></a>"
      ]
    },
    {
      "cell_type": "markdown",
      "source": [
        "\n",
        "\n",
        "\n",
        "\n",
        "\n",
        "\n",
        "\n",
        "\n",
        "\n",
        "\n",
        "\n",
        "\n",
        "\n",
        "\n",
        "\n",
        "\n",
        "\n",
        "\n",
        "\n",
        "\n",
        "\n",
        "\n",
        "\n",
        "\n",
        "\n",
        "\n",
        "\n",
        "\n",
        "\n",
        "\n",
        "\n",
        "\n",
        "\n",
        "\n",
        "\n",
        "\n",
        "\n",
        "\n",
        "\n",
        "\n",
        "\n",
        "\n",
        "\n",
        "\n",
        "\n",
        "\n",
        "\n",
        "\n",
        "\n",
        "\n",
        "\n",
        "\n",
        "\n",
        "\n",
        "**Movie Recommendation System**"
      ],
      "metadata": {
        "id": "16jWtNcL_Im_"
      }
    },
    {
      "cell_type": "markdown",
      "source": [
        "**Recommender System** is a system that seeks to predict or filter preferences according to the user's choices.Recommender systems are utilized in a variety of areas including movies,music,news,books,research atrticles,search queries,social tags,abd products in general.Recommender system produce a list of recommendations in any of the two ways-\n",
        "\n",
        "**Collaborative filtering:** Collaborative filtering approaches build a model from the user's past behavior(i.e.items purchased or searched by the user)as well as similar decisions made by the other users.this model is then used to predict items(or rating for items)that users may have an interest in.\n",
        "\n",
        "**Content-based filtering:** Content-based filtering approaches uses a series of discrete characteristics of an item in order to recommend additional items with similar properties.Content-based filtering methods are totally based on a description of the item and a profile of the user's preferences.It recommends items based on the user's past preferences.Let's develop a basic recommendation system using python and pandas.\n",
        "\n",
        "Let's develop a basic recommendation system by suggesting items that are most similar to a paricular item,in this case,movie.It just tells what movies/items are most similar to user's movie choice."
      ],
      "metadata": {
        "id": "ITX0fLS9_sL3"
      }
    },
    {
      "cell_type": "markdown",
      "source": [
        "**Import Library**"
      ],
      "metadata": {
        "id": "9Wyq18ugEHsz"
      }
    },
    {
      "cell_type": "code",
      "source": [
        "import pandas as pd"
      ],
      "metadata": {
        "id": "yTXz0jGPERpp"
      },
      "execution_count": null,
      "outputs": []
    },
    {
      "cell_type": "code",
      "source": [
        "import numpy as np"
      ],
      "metadata": {
        "id": "uU5dlnuQFrhT"
      },
      "execution_count": null,
      "outputs": []
    },
    {
      "cell_type": "code",
      "source": [
        "df=pd.read_csv(r'https://raw.githubusercontent.com/YBI-Foundation/Dataset/main/Movies%20Recommendation.csv')"
      ],
      "metadata": {
        "id": "Triw2IsoHBiK"
      },
      "execution_count": null,
      "outputs": []
    },
    {
      "cell_type": "code",
      "source": [
        "df.head()"
      ],
      "metadata": {
        "colab": {
          "base_uri": "https://localhost:8080/",
          "height": 716
        },
        "id": "0dcR9a-KHzEd",
        "outputId": "a290590a-de3f-491a-e5b4-0cce24de6471"
      },
      "execution_count": null,
      "outputs": [
        {
          "output_type": "execute_result",
          "data": {
            "text/plain": [
              "   Movie_ID      Movie_Title                       Movie_Genre Movie_Language  \\\n",
              "0         1       Four Rooms                      Crime Comedy             en   \n",
              "1         2        Star Wars  Adventure Action Science Fiction             en   \n",
              "2         3     Finding Nemo                  Animation Family             en   \n",
              "3         4     Forrest Gump              Comedy Drama Romance             en   \n",
              "4         5  American Beauty                             Drama             en   \n",
              "\n",
              "   Movie_Budget  Movie_Popularity Movie_Release_Date  Movie_Revenue  \\\n",
              "0       4000000         22.876230         09-12-1995        4300000   \n",
              "1      11000000        126.393695         25-05-1977      775398007   \n",
              "2      94000000         85.688789         30-05-2003      940335536   \n",
              "3      55000000        138.133331         06-07-1994      677945399   \n",
              "4      15000000         80.878605         15-09-1999      356296601   \n",
              "\n",
              "   Movie_Runtime  Movie_Vote  ...  \\\n",
              "0           98.0         6.5  ...   \n",
              "1          121.0         8.1  ...   \n",
              "2          100.0         7.6  ...   \n",
              "3          142.0         8.2  ...   \n",
              "4          122.0         7.9  ...   \n",
              "\n",
              "                                      Movie_Homepage  \\\n",
              "0                                                NaN   \n",
              "1  http://www.starwars.com/films/star-wars-episod...   \n",
              "2              http://movies.disney.com/finding-nemo   \n",
              "3                                                NaN   \n",
              "4                      http://www.dreamworks.com/ab/   \n",
              "\n",
              "                                      Movie_Keywords  \\\n",
              "0          hotel new year's eve witch bet hotel room   \n",
              "1        android galaxy hermit death star lightsaber   \n",
              "2  father son relationship harbor underwater fish...   \n",
              "3  vietnam veteran hippie mentally disabled runni...   \n",
              "4  male nudity female nudity adultery midlife cri...   \n",
              "\n",
              "                                      Movie_Overview  \\\n",
              "0  It's Ted the Bellhop's first night on the job....   \n",
              "1  Princess Leia is captured and held hostage by ...   \n",
              "2  Nemo, an adventurous young clownfish, is unexp...   \n",
              "3  A man with a low IQ has accomplished great thi...   \n",
              "4  Lester Burnham, a depressed suburban father in...   \n",
              "\n",
              "                              Movie_Production_House  \\\n",
              "0  [{\"name\": \"Miramax Films\", \"id\": 14}, {\"name\":...   \n",
              "1  [{\"name\": \"Lucasfilm\", \"id\": 1}, {\"name\": \"Twe...   \n",
              "2     [{\"name\": \"Pixar Animation Studios\", \"id\": 3}]   \n",
              "3          [{\"name\": \"Paramount Pictures\", \"id\": 4}]   \n",
              "4  [{\"name\": \"DreamWorks SKG\", \"id\": 27}, {\"name\"...   \n",
              "\n",
              "                            Movie_Production_Country  \\\n",
              "0  [{\"iso_3166_1\": \"US\", \"name\": \"United States o...   \n",
              "1  [{\"iso_3166_1\": \"US\", \"name\": \"United States o...   \n",
              "2  [{\"iso_3166_1\": \"US\", \"name\": \"United States o...   \n",
              "3  [{\"iso_3166_1\": \"US\", \"name\": \"United States o...   \n",
              "4  [{\"iso_3166_1\": \"US\", \"name\": \"United States o...   \n",
              "\n",
              "                      Movie_Spoken_Language  \\\n",
              "0  [{\"iso_639_1\": \"en\", \"name\": \"English\"}]   \n",
              "1  [{\"iso_639_1\": \"en\", \"name\": \"English\"}]   \n",
              "2  [{\"iso_639_1\": \"en\", \"name\": \"English\"}]   \n",
              "3  [{\"iso_639_1\": \"en\", \"name\": \"English\"}]   \n",
              "4  [{\"iso_639_1\": \"en\", \"name\": \"English\"}]   \n",
              "\n",
              "                                       Movie_Tagline  \\\n",
              "0  Twelve outrageous guests. Four scandalous requ...   \n",
              "1       A long time ago in a galaxy far, far away...   \n",
              "2  There are 3.7 trillion fish in the ocean, they...   \n",
              "3  The world will never be the same, once you've ...   \n",
              "4                                       Look closer.   \n",
              "\n",
              "                                          Movie_Cast  \\\n",
              "0  Tim Roth Antonio Banderas Jennifer Beals Madon...   \n",
              "1  Mark Hamill Harrison Ford Carrie Fisher Peter ...   \n",
              "2  Albert Brooks Ellen DeGeneres Alexander Gould ...   \n",
              "3  Tom Hanks Robin Wright Gary Sinise Mykelti Wil...   \n",
              "4  Kevin Spacey Annette Bening Thora Birch Wes Be...   \n",
              "\n",
              "                                          Movie_Crew   Movie_Director  \n",
              "0  [{'name': 'Allison Anders', 'gender': 1, 'depa...   Allison Anders  \n",
              "1  [{'name': 'George Lucas', 'gender': 2, 'depart...     George Lucas  \n",
              "2  [{'name': 'Andrew Stanton', 'gender': 2, 'depa...   Andrew Stanton  \n",
              "3  [{'name': 'Alan Silvestri', 'gender': 2, 'depa...  Robert Zemeckis  \n",
              "4  [{'name': 'Thomas Newman', 'gender': 2, 'depar...       Sam Mendes  \n",
              "\n",
              "[5 rows x 21 columns]"
            ],
            "text/html": [
              "\n",
              "  <div id=\"df-d2c79cd6-99e3-44e2-ad6f-dffaa8910f76\">\n",
              "    <div class=\"colab-df-container\">\n",
              "      <div>\n",
              "<style scoped>\n",
              "    .dataframe tbody tr th:only-of-type {\n",
              "        vertical-align: middle;\n",
              "    }\n",
              "\n",
              "    .dataframe tbody tr th {\n",
              "        vertical-align: top;\n",
              "    }\n",
              "\n",
              "    .dataframe thead th {\n",
              "        text-align: right;\n",
              "    }\n",
              "</style>\n",
              "<table border=\"1\" class=\"dataframe\">\n",
              "  <thead>\n",
              "    <tr style=\"text-align: right;\">\n",
              "      <th></th>\n",
              "      <th>Movie_ID</th>\n",
              "      <th>Movie_Title</th>\n",
              "      <th>Movie_Genre</th>\n",
              "      <th>Movie_Language</th>\n",
              "      <th>Movie_Budget</th>\n",
              "      <th>Movie_Popularity</th>\n",
              "      <th>Movie_Release_Date</th>\n",
              "      <th>Movie_Revenue</th>\n",
              "      <th>Movie_Runtime</th>\n",
              "      <th>Movie_Vote</th>\n",
              "      <th>...</th>\n",
              "      <th>Movie_Homepage</th>\n",
              "      <th>Movie_Keywords</th>\n",
              "      <th>Movie_Overview</th>\n",
              "      <th>Movie_Production_House</th>\n",
              "      <th>Movie_Production_Country</th>\n",
              "      <th>Movie_Spoken_Language</th>\n",
              "      <th>Movie_Tagline</th>\n",
              "      <th>Movie_Cast</th>\n",
              "      <th>Movie_Crew</th>\n",
              "      <th>Movie_Director</th>\n",
              "    </tr>\n",
              "  </thead>\n",
              "  <tbody>\n",
              "    <tr>\n",
              "      <th>0</th>\n",
              "      <td>1</td>\n",
              "      <td>Four Rooms</td>\n",
              "      <td>Crime Comedy</td>\n",
              "      <td>en</td>\n",
              "      <td>4000000</td>\n",
              "      <td>22.876230</td>\n",
              "      <td>09-12-1995</td>\n",
              "      <td>4300000</td>\n",
              "      <td>98.0</td>\n",
              "      <td>6.5</td>\n",
              "      <td>...</td>\n",
              "      <td>NaN</td>\n",
              "      <td>hotel new year's eve witch bet hotel room</td>\n",
              "      <td>It's Ted the Bellhop's first night on the job....</td>\n",
              "      <td>[{\"name\": \"Miramax Films\", \"id\": 14}, {\"name\":...</td>\n",
              "      <td>[{\"iso_3166_1\": \"US\", \"name\": \"United States o...</td>\n",
              "      <td>[{\"iso_639_1\": \"en\", \"name\": \"English\"}]</td>\n",
              "      <td>Twelve outrageous guests. Four scandalous requ...</td>\n",
              "      <td>Tim Roth Antonio Banderas Jennifer Beals Madon...</td>\n",
              "      <td>[{'name': 'Allison Anders', 'gender': 1, 'depa...</td>\n",
              "      <td>Allison Anders</td>\n",
              "    </tr>\n",
              "    <tr>\n",
              "      <th>1</th>\n",
              "      <td>2</td>\n",
              "      <td>Star Wars</td>\n",
              "      <td>Adventure Action Science Fiction</td>\n",
              "      <td>en</td>\n",
              "      <td>11000000</td>\n",
              "      <td>126.393695</td>\n",
              "      <td>25-05-1977</td>\n",
              "      <td>775398007</td>\n",
              "      <td>121.0</td>\n",
              "      <td>8.1</td>\n",
              "      <td>...</td>\n",
              "      <td>http://www.starwars.com/films/star-wars-episod...</td>\n",
              "      <td>android galaxy hermit death star lightsaber</td>\n",
              "      <td>Princess Leia is captured and held hostage by ...</td>\n",
              "      <td>[{\"name\": \"Lucasfilm\", \"id\": 1}, {\"name\": \"Twe...</td>\n",
              "      <td>[{\"iso_3166_1\": \"US\", \"name\": \"United States o...</td>\n",
              "      <td>[{\"iso_639_1\": \"en\", \"name\": \"English\"}]</td>\n",
              "      <td>A long time ago in a galaxy far, far away...</td>\n",
              "      <td>Mark Hamill Harrison Ford Carrie Fisher Peter ...</td>\n",
              "      <td>[{'name': 'George Lucas', 'gender': 2, 'depart...</td>\n",
              "      <td>George Lucas</td>\n",
              "    </tr>\n",
              "    <tr>\n",
              "      <th>2</th>\n",
              "      <td>3</td>\n",
              "      <td>Finding Nemo</td>\n",
              "      <td>Animation Family</td>\n",
              "      <td>en</td>\n",
              "      <td>94000000</td>\n",
              "      <td>85.688789</td>\n",
              "      <td>30-05-2003</td>\n",
              "      <td>940335536</td>\n",
              "      <td>100.0</td>\n",
              "      <td>7.6</td>\n",
              "      <td>...</td>\n",
              "      <td>http://movies.disney.com/finding-nemo</td>\n",
              "      <td>father son relationship harbor underwater fish...</td>\n",
              "      <td>Nemo, an adventurous young clownfish, is unexp...</td>\n",
              "      <td>[{\"name\": \"Pixar Animation Studios\", \"id\": 3}]</td>\n",
              "      <td>[{\"iso_3166_1\": \"US\", \"name\": \"United States o...</td>\n",
              "      <td>[{\"iso_639_1\": \"en\", \"name\": \"English\"}]</td>\n",
              "      <td>There are 3.7 trillion fish in the ocean, they...</td>\n",
              "      <td>Albert Brooks Ellen DeGeneres Alexander Gould ...</td>\n",
              "      <td>[{'name': 'Andrew Stanton', 'gender': 2, 'depa...</td>\n",
              "      <td>Andrew Stanton</td>\n",
              "    </tr>\n",
              "    <tr>\n",
              "      <th>3</th>\n",
              "      <td>4</td>\n",
              "      <td>Forrest Gump</td>\n",
              "      <td>Comedy Drama Romance</td>\n",
              "      <td>en</td>\n",
              "      <td>55000000</td>\n",
              "      <td>138.133331</td>\n",
              "      <td>06-07-1994</td>\n",
              "      <td>677945399</td>\n",
              "      <td>142.0</td>\n",
              "      <td>8.2</td>\n",
              "      <td>...</td>\n",
              "      <td>NaN</td>\n",
              "      <td>vietnam veteran hippie mentally disabled runni...</td>\n",
              "      <td>A man with a low IQ has accomplished great thi...</td>\n",
              "      <td>[{\"name\": \"Paramount Pictures\", \"id\": 4}]</td>\n",
              "      <td>[{\"iso_3166_1\": \"US\", \"name\": \"United States o...</td>\n",
              "      <td>[{\"iso_639_1\": \"en\", \"name\": \"English\"}]</td>\n",
              "      <td>The world will never be the same, once you've ...</td>\n",
              "      <td>Tom Hanks Robin Wright Gary Sinise Mykelti Wil...</td>\n",
              "      <td>[{'name': 'Alan Silvestri', 'gender': 2, 'depa...</td>\n",
              "      <td>Robert Zemeckis</td>\n",
              "    </tr>\n",
              "    <tr>\n",
              "      <th>4</th>\n",
              "      <td>5</td>\n",
              "      <td>American Beauty</td>\n",
              "      <td>Drama</td>\n",
              "      <td>en</td>\n",
              "      <td>15000000</td>\n",
              "      <td>80.878605</td>\n",
              "      <td>15-09-1999</td>\n",
              "      <td>356296601</td>\n",
              "      <td>122.0</td>\n",
              "      <td>7.9</td>\n",
              "      <td>...</td>\n",
              "      <td>http://www.dreamworks.com/ab/</td>\n",
              "      <td>male nudity female nudity adultery midlife cri...</td>\n",
              "      <td>Lester Burnham, a depressed suburban father in...</td>\n",
              "      <td>[{\"name\": \"DreamWorks SKG\", \"id\": 27}, {\"name\"...</td>\n",
              "      <td>[{\"iso_3166_1\": \"US\", \"name\": \"United States o...</td>\n",
              "      <td>[{\"iso_639_1\": \"en\", \"name\": \"English\"}]</td>\n",
              "      <td>Look closer.</td>\n",
              "      <td>Kevin Spacey Annette Bening Thora Birch Wes Be...</td>\n",
              "      <td>[{'name': 'Thomas Newman', 'gender': 2, 'depar...</td>\n",
              "      <td>Sam Mendes</td>\n",
              "    </tr>\n",
              "  </tbody>\n",
              "</table>\n",
              "<p>5 rows × 21 columns</p>\n",
              "</div>\n",
              "      <button class=\"colab-df-convert\" onclick=\"convertToInteractive('df-d2c79cd6-99e3-44e2-ad6f-dffaa8910f76')\"\n",
              "              title=\"Convert this dataframe to an interactive table.\"\n",
              "              style=\"display:none;\">\n",
              "        \n",
              "  <svg xmlns=\"http://www.w3.org/2000/svg\" height=\"24px\"viewBox=\"0 0 24 24\"\n",
              "       width=\"24px\">\n",
              "    <path d=\"M0 0h24v24H0V0z\" fill=\"none\"/>\n",
              "    <path d=\"M18.56 5.44l.94 2.06.94-2.06 2.06-.94-2.06-.94-.94-2.06-.94 2.06-2.06.94zm-11 1L8.5 8.5l.94-2.06 2.06-.94-2.06-.94L8.5 2.5l-.94 2.06-2.06.94zm10 10l.94 2.06.94-2.06 2.06-.94-2.06-.94-.94-2.06-.94 2.06-2.06.94z\"/><path d=\"M17.41 7.96l-1.37-1.37c-.4-.4-.92-.59-1.43-.59-.52 0-1.04.2-1.43.59L10.3 9.45l-7.72 7.72c-.78.78-.78 2.05 0 2.83L4 21.41c.39.39.9.59 1.41.59.51 0 1.02-.2 1.41-.59l7.78-7.78 2.81-2.81c.8-.78.8-2.07 0-2.86zM5.41 20L4 18.59l7.72-7.72 1.47 1.35L5.41 20z\"/>\n",
              "  </svg>\n",
              "      </button>\n",
              "      \n",
              "  <style>\n",
              "    .colab-df-container {\n",
              "      display:flex;\n",
              "      flex-wrap:wrap;\n",
              "      gap: 12px;\n",
              "    }\n",
              "\n",
              "    .colab-df-convert {\n",
              "      background-color: #E8F0FE;\n",
              "      border: none;\n",
              "      border-radius: 50%;\n",
              "      cursor: pointer;\n",
              "      display: none;\n",
              "      fill: #1967D2;\n",
              "      height: 32px;\n",
              "      padding: 0 0 0 0;\n",
              "      width: 32px;\n",
              "    }\n",
              "\n",
              "    .colab-df-convert:hover {\n",
              "      background-color: #E2EBFA;\n",
              "      box-shadow: 0px 1px 2px rgba(60, 64, 67, 0.3), 0px 1px 3px 1px rgba(60, 64, 67, 0.15);\n",
              "      fill: #174EA6;\n",
              "    }\n",
              "\n",
              "    [theme=dark] .colab-df-convert {\n",
              "      background-color: #3B4455;\n",
              "      fill: #D2E3FC;\n",
              "    }\n",
              "\n",
              "    [theme=dark] .colab-df-convert:hover {\n",
              "      background-color: #434B5C;\n",
              "      box-shadow: 0px 1px 3px 1px rgba(0, 0, 0, 0.15);\n",
              "      filter: drop-shadow(0px 1px 2px rgba(0, 0, 0, 0.3));\n",
              "      fill: #FFFFFF;\n",
              "    }\n",
              "  </style>\n",
              "\n",
              "      <script>\n",
              "        const buttonEl =\n",
              "          document.querySelector('#df-d2c79cd6-99e3-44e2-ad6f-dffaa8910f76 button.colab-df-convert');\n",
              "        buttonEl.style.display =\n",
              "          google.colab.kernel.accessAllowed ? 'block' : 'none';\n",
              "\n",
              "        async function convertToInteractive(key) {\n",
              "          const element = document.querySelector('#df-d2c79cd6-99e3-44e2-ad6f-dffaa8910f76');\n",
              "          const dataTable =\n",
              "            await google.colab.kernel.invokeFunction('convertToInteractive',\n",
              "                                                     [key], {});\n",
              "          if (!dataTable) return;\n",
              "\n",
              "          const docLinkHtml = 'Like what you see? Visit the ' +\n",
              "            '<a target=\"_blank\" href=https://colab.research.google.com/notebooks/data_table.ipynb>data table notebook</a>'\n",
              "            + ' to learn more about interactive tables.';\n",
              "          element.innerHTML = '';\n",
              "          dataTable['output_type'] = 'display_data';\n",
              "          await google.colab.output.renderOutput(dataTable, element);\n",
              "          const docLink = document.createElement('div');\n",
              "          docLink.innerHTML = docLinkHtml;\n",
              "          element.appendChild(docLink);\n",
              "        }\n",
              "      </script>\n",
              "    </div>\n",
              "  </div>\n",
              "  "
            ]
          },
          "metadata": {},
          "execution_count": 69
        }
      ]
    },
    {
      "cell_type": "code",
      "source": [
        "df.info()"
      ],
      "metadata": {
        "colab": {
          "base_uri": "https://localhost:8080/"
        },
        "id": "lRpABLKAH7Hs",
        "outputId": "dade0227-a345-44f7-f27f-4cec17fff30f"
      },
      "execution_count": null,
      "outputs": [
        {
          "output_type": "stream",
          "name": "stdout",
          "text": [
            "<class 'pandas.core.frame.DataFrame'>\n",
            "RangeIndex: 4760 entries, 0 to 4759\n",
            "Data columns (total 21 columns):\n",
            " #   Column                    Non-Null Count  Dtype  \n",
            "---  ------                    --------------  -----  \n",
            " 0   Movie_ID                  4760 non-null   int64  \n",
            " 1   Movie_Title               4760 non-null   object \n",
            " 2   Movie_Genre               4760 non-null   object \n",
            " 3   Movie_Language            4760 non-null   object \n",
            " 4   Movie_Budget              4760 non-null   int64  \n",
            " 5   Movie_Popularity          4760 non-null   float64\n",
            " 6   Movie_Release_Date        4760 non-null   object \n",
            " 7   Movie_Revenue             4760 non-null   int64  \n",
            " 8   Movie_Runtime             4758 non-null   float64\n",
            " 9   Movie_Vote                4760 non-null   float64\n",
            " 10  Movie_Vote_Count          4760 non-null   int64  \n",
            " 11  Movie_Homepage            1699 non-null   object \n",
            " 12  Movie_Keywords            4373 non-null   object \n",
            " 13  Movie_Overview            4757 non-null   object \n",
            " 14  Movie_Production_House    4760 non-null   object \n",
            " 15  Movie_Production_Country  4760 non-null   object \n",
            " 16  Movie_Spoken_Language     4760 non-null   object \n",
            " 17  Movie_Tagline             3942 non-null   object \n",
            " 18  Movie_Cast                4733 non-null   object \n",
            " 19  Movie_Crew                4760 non-null   object \n",
            " 20  Movie_Director            4738 non-null   object \n",
            "dtypes: float64(3), int64(4), object(14)\n",
            "memory usage: 781.1+ KB\n"
          ]
        }
      ]
    },
    {
      "cell_type": "code",
      "source": [
        "df.shape"
      ],
      "metadata": {
        "colab": {
          "base_uri": "https://localhost:8080/"
        },
        "id": "2l21jZpAICiS",
        "outputId": "d0eb5cc6-b5da-4071-85e0-f2dadfe3172b"
      },
      "execution_count": null,
      "outputs": [
        {
          "output_type": "execute_result",
          "data": {
            "text/plain": [
              "(4760, 21)"
            ]
          },
          "metadata": {},
          "execution_count": 6
        }
      ]
    },
    {
      "cell_type": "code",
      "source": [
        "df.columns"
      ],
      "metadata": {
        "colab": {
          "base_uri": "https://localhost:8080/"
        },
        "id": "0PTW8lu2IMu_",
        "outputId": "fac9bed8-32e4-4451-8fd3-9c7548594309"
      },
      "execution_count": null,
      "outputs": [
        {
          "output_type": "execute_result",
          "data": {
            "text/plain": [
              "Index(['Movie_ID', 'Movie_Title', 'Movie_Genre', 'Movie_Language',\n",
              "       'Movie_Budget', 'Movie_Popularity', 'Movie_Release_Date',\n",
              "       'Movie_Revenue', 'Movie_Runtime', 'Movie_Vote', 'Movie_Vote_Count',\n",
              "       'Movie_Homepage', 'Movie_Keywords', 'Movie_Overview',\n",
              "       'Movie_Production_House', 'Movie_Production_Country',\n",
              "       'Movie_Spoken_Language', 'Movie_Tagline', 'Movie_Cast', 'Movie_Crew',\n",
              "       'Movie_Director'],\n",
              "      dtype='object')"
            ]
          },
          "metadata": {},
          "execution_count": 12
        }
      ]
    },
    {
      "cell_type": "markdown",
      "source": [
        "**Get Feature Selection**"
      ],
      "metadata": {
        "id": "R6_1bUdOIUIW"
      }
    },
    {
      "cell_type": "code",
      "source": [
        "df_features=df[['Movie_Genre','Movie_Keywords','Movie_Tagline','Movie_Cast','Movie_Director']].fillna('')"
      ],
      "metadata": {
        "id": "Ju-mv8fKIbi6"
      },
      "execution_count": null,
      "outputs": []
    },
    {
      "cell_type": "markdown",
      "source": [
        "Selected five existing features to recommend movies.it may vary from one project to another.Like one can add vote counts,budget,language etc."
      ],
      "metadata": {
        "id": "j8kZWP6GI6jO"
      }
    },
    {
      "cell_type": "code",
      "source": [
        "df_features.shape"
      ],
      "metadata": {
        "colab": {
          "base_uri": "https://localhost:8080/"
        },
        "id": "se5N-o7VJTmh",
        "outputId": "8d81798c-4054-4902-d4ca-9671807644e9"
      },
      "execution_count": null,
      "outputs": [
        {
          "output_type": "execute_result",
          "data": {
            "text/plain": [
              "(4760, 5)"
            ]
          },
          "metadata": {},
          "execution_count": 11
        }
      ]
    },
    {
      "cell_type": "code",
      "source": [
        "df_features"
      ],
      "metadata": {
        "colab": {
          "base_uri": "https://localhost:8080/",
          "height": 624
        },
        "id": "zkaAZ8p3Jn-d",
        "outputId": "c7810159-7753-43c7-e24b-2a34605b6493"
      },
      "execution_count": null,
      "outputs": [
        {
          "output_type": "execute_result",
          "data": {
            "text/plain": [
              "                           Movie_Genre  \\\n",
              "0                         Crime Comedy   \n",
              "1     Adventure Action Science Fiction   \n",
              "2                     Animation Family   \n",
              "3                 Comedy Drama Romance   \n",
              "4                                Drama   \n",
              "...                                ...   \n",
              "4755                            Horror   \n",
              "4756               Comedy Family Drama   \n",
              "4757                    Thriller Drama   \n",
              "4758                            Family   \n",
              "4759                       Documentary   \n",
              "\n",
              "                                         Movie_Keywords  \\\n",
              "0             hotel new year's eve witch bet hotel room   \n",
              "1           android galaxy hermit death star lightsaber   \n",
              "2     father son relationship harbor underwater fish...   \n",
              "3     vietnam veteran hippie mentally disabled runni...   \n",
              "4     male nudity female nudity adultery midlife cri...   \n",
              "...                                                 ...   \n",
              "4755                                                      \n",
              "4756                                                      \n",
              "4757                     christian film sex trafficking   \n",
              "4758                                                      \n",
              "4759  music actors legendary perfomer classic hollyw...   \n",
              "\n",
              "                                          Movie_Tagline  \\\n",
              "0     Twelve outrageous guests. Four scandalous requ...   \n",
              "1          A long time ago in a galaxy far, far away...   \n",
              "2     There are 3.7 trillion fish in the ocean, they...   \n",
              "3     The world will never be the same, once you've ...   \n",
              "4                                          Look closer.   \n",
              "...                                                 ...   \n",
              "4755                The hot spot where Satan's waitin'.   \n",
              "4756           It’s better to stand out than to fit in.   \n",
              "4757           She never knew it could happen to her...   \n",
              "4758                                                      \n",
              "4759                                                      \n",
              "\n",
              "                                             Movie_Cast     Movie_Director  \n",
              "0     Tim Roth Antonio Banderas Jennifer Beals Madon...     Allison Anders  \n",
              "1     Mark Hamill Harrison Ford Carrie Fisher Peter ...       George Lucas  \n",
              "2     Albert Brooks Ellen DeGeneres Alexander Gould ...     Andrew Stanton  \n",
              "3     Tom Hanks Robin Wright Gary Sinise Mykelti Wil...    Robert Zemeckis  \n",
              "4     Kevin Spacey Annette Bening Thora Birch Wes Be...         Sam Mendes  \n",
              "...                                                 ...                ...  \n",
              "4755  Lisa Hart Carroll Michael Des Barres Paul Drak...         Pece Dingo  \n",
              "4756  Roni Akurati Brighton Sharbino Jason Lee Anjul...       Frank Lotito  \n",
              "4757  Nicole Smolen Kim Baldwin Ariana Stephens Brys...       Jaco Booyens  \n",
              "4758                                                                        \n",
              "4759                                    Tony Oppedisano  Simon Napier-Bell  \n",
              "\n",
              "[4760 rows x 5 columns]"
            ],
            "text/html": [
              "\n",
              "  <div id=\"df-aa63e8be-bfd2-45b5-9422-f6ac5ae842e5\">\n",
              "    <div class=\"colab-df-container\">\n",
              "      <div>\n",
              "<style scoped>\n",
              "    .dataframe tbody tr th:only-of-type {\n",
              "        vertical-align: middle;\n",
              "    }\n",
              "\n",
              "    .dataframe tbody tr th {\n",
              "        vertical-align: top;\n",
              "    }\n",
              "\n",
              "    .dataframe thead th {\n",
              "        text-align: right;\n",
              "    }\n",
              "</style>\n",
              "<table border=\"1\" class=\"dataframe\">\n",
              "  <thead>\n",
              "    <tr style=\"text-align: right;\">\n",
              "      <th></th>\n",
              "      <th>Movie_Genre</th>\n",
              "      <th>Movie_Keywords</th>\n",
              "      <th>Movie_Tagline</th>\n",
              "      <th>Movie_Cast</th>\n",
              "      <th>Movie_Director</th>\n",
              "    </tr>\n",
              "  </thead>\n",
              "  <tbody>\n",
              "    <tr>\n",
              "      <th>0</th>\n",
              "      <td>Crime Comedy</td>\n",
              "      <td>hotel new year's eve witch bet hotel room</td>\n",
              "      <td>Twelve outrageous guests. Four scandalous requ...</td>\n",
              "      <td>Tim Roth Antonio Banderas Jennifer Beals Madon...</td>\n",
              "      <td>Allison Anders</td>\n",
              "    </tr>\n",
              "    <tr>\n",
              "      <th>1</th>\n",
              "      <td>Adventure Action Science Fiction</td>\n",
              "      <td>android galaxy hermit death star lightsaber</td>\n",
              "      <td>A long time ago in a galaxy far, far away...</td>\n",
              "      <td>Mark Hamill Harrison Ford Carrie Fisher Peter ...</td>\n",
              "      <td>George Lucas</td>\n",
              "    </tr>\n",
              "    <tr>\n",
              "      <th>2</th>\n",
              "      <td>Animation Family</td>\n",
              "      <td>father son relationship harbor underwater fish...</td>\n",
              "      <td>There are 3.7 trillion fish in the ocean, they...</td>\n",
              "      <td>Albert Brooks Ellen DeGeneres Alexander Gould ...</td>\n",
              "      <td>Andrew Stanton</td>\n",
              "    </tr>\n",
              "    <tr>\n",
              "      <th>3</th>\n",
              "      <td>Comedy Drama Romance</td>\n",
              "      <td>vietnam veteran hippie mentally disabled runni...</td>\n",
              "      <td>The world will never be the same, once you've ...</td>\n",
              "      <td>Tom Hanks Robin Wright Gary Sinise Mykelti Wil...</td>\n",
              "      <td>Robert Zemeckis</td>\n",
              "    </tr>\n",
              "    <tr>\n",
              "      <th>4</th>\n",
              "      <td>Drama</td>\n",
              "      <td>male nudity female nudity adultery midlife cri...</td>\n",
              "      <td>Look closer.</td>\n",
              "      <td>Kevin Spacey Annette Bening Thora Birch Wes Be...</td>\n",
              "      <td>Sam Mendes</td>\n",
              "    </tr>\n",
              "    <tr>\n",
              "      <th>...</th>\n",
              "      <td>...</td>\n",
              "      <td>...</td>\n",
              "      <td>...</td>\n",
              "      <td>...</td>\n",
              "      <td>...</td>\n",
              "    </tr>\n",
              "    <tr>\n",
              "      <th>4755</th>\n",
              "      <td>Horror</td>\n",
              "      <td></td>\n",
              "      <td>The hot spot where Satan's waitin'.</td>\n",
              "      <td>Lisa Hart Carroll Michael Des Barres Paul Drak...</td>\n",
              "      <td>Pece Dingo</td>\n",
              "    </tr>\n",
              "    <tr>\n",
              "      <th>4756</th>\n",
              "      <td>Comedy Family Drama</td>\n",
              "      <td></td>\n",
              "      <td>It’s better to stand out than to fit in.</td>\n",
              "      <td>Roni Akurati Brighton Sharbino Jason Lee Anjul...</td>\n",
              "      <td>Frank Lotito</td>\n",
              "    </tr>\n",
              "    <tr>\n",
              "      <th>4757</th>\n",
              "      <td>Thriller Drama</td>\n",
              "      <td>christian film sex trafficking</td>\n",
              "      <td>She never knew it could happen to her...</td>\n",
              "      <td>Nicole Smolen Kim Baldwin Ariana Stephens Brys...</td>\n",
              "      <td>Jaco Booyens</td>\n",
              "    </tr>\n",
              "    <tr>\n",
              "      <th>4758</th>\n",
              "      <td>Family</td>\n",
              "      <td></td>\n",
              "      <td></td>\n",
              "      <td></td>\n",
              "      <td></td>\n",
              "    </tr>\n",
              "    <tr>\n",
              "      <th>4759</th>\n",
              "      <td>Documentary</td>\n",
              "      <td>music actors legendary perfomer classic hollyw...</td>\n",
              "      <td></td>\n",
              "      <td>Tony Oppedisano</td>\n",
              "      <td>Simon Napier-Bell</td>\n",
              "    </tr>\n",
              "  </tbody>\n",
              "</table>\n",
              "<p>4760 rows × 5 columns</p>\n",
              "</div>\n",
              "      <button class=\"colab-df-convert\" onclick=\"convertToInteractive('df-aa63e8be-bfd2-45b5-9422-f6ac5ae842e5')\"\n",
              "              title=\"Convert this dataframe to an interactive table.\"\n",
              "              style=\"display:none;\">\n",
              "        \n",
              "  <svg xmlns=\"http://www.w3.org/2000/svg\" height=\"24px\"viewBox=\"0 0 24 24\"\n",
              "       width=\"24px\">\n",
              "    <path d=\"M0 0h24v24H0V0z\" fill=\"none\"/>\n",
              "    <path d=\"M18.56 5.44l.94 2.06.94-2.06 2.06-.94-2.06-.94-.94-2.06-.94 2.06-2.06.94zm-11 1L8.5 8.5l.94-2.06 2.06-.94-2.06-.94L8.5 2.5l-.94 2.06-2.06.94zm10 10l.94 2.06.94-2.06 2.06-.94-2.06-.94-.94-2.06-.94 2.06-2.06.94z\"/><path d=\"M17.41 7.96l-1.37-1.37c-.4-.4-.92-.59-1.43-.59-.52 0-1.04.2-1.43.59L10.3 9.45l-7.72 7.72c-.78.78-.78 2.05 0 2.83L4 21.41c.39.39.9.59 1.41.59.51 0 1.02-.2 1.41-.59l7.78-7.78 2.81-2.81c.8-.78.8-2.07 0-2.86zM5.41 20L4 18.59l7.72-7.72 1.47 1.35L5.41 20z\"/>\n",
              "  </svg>\n",
              "      </button>\n",
              "      \n",
              "  <style>\n",
              "    .colab-df-container {\n",
              "      display:flex;\n",
              "      flex-wrap:wrap;\n",
              "      gap: 12px;\n",
              "    }\n",
              "\n",
              "    .colab-df-convert {\n",
              "      background-color: #E8F0FE;\n",
              "      border: none;\n",
              "      border-radius: 50%;\n",
              "      cursor: pointer;\n",
              "      display: none;\n",
              "      fill: #1967D2;\n",
              "      height: 32px;\n",
              "      padding: 0 0 0 0;\n",
              "      width: 32px;\n",
              "    }\n",
              "\n",
              "    .colab-df-convert:hover {\n",
              "      background-color: #E2EBFA;\n",
              "      box-shadow: 0px 1px 2px rgba(60, 64, 67, 0.3), 0px 1px 3px 1px rgba(60, 64, 67, 0.15);\n",
              "      fill: #174EA6;\n",
              "    }\n",
              "\n",
              "    [theme=dark] .colab-df-convert {\n",
              "      background-color: #3B4455;\n",
              "      fill: #D2E3FC;\n",
              "    }\n",
              "\n",
              "    [theme=dark] .colab-df-convert:hover {\n",
              "      background-color: #434B5C;\n",
              "      box-shadow: 0px 1px 3px 1px rgba(0, 0, 0, 0.15);\n",
              "      filter: drop-shadow(0px 1px 2px rgba(0, 0, 0, 0.3));\n",
              "      fill: #FFFFFF;\n",
              "    }\n",
              "  </style>\n",
              "\n",
              "      <script>\n",
              "        const buttonEl =\n",
              "          document.querySelector('#df-aa63e8be-bfd2-45b5-9422-f6ac5ae842e5 button.colab-df-convert');\n",
              "        buttonEl.style.display =\n",
              "          google.colab.kernel.accessAllowed ? 'block' : 'none';\n",
              "\n",
              "        async function convertToInteractive(key) {\n",
              "          const element = document.querySelector('#df-aa63e8be-bfd2-45b5-9422-f6ac5ae842e5');\n",
              "          const dataTable =\n",
              "            await google.colab.kernel.invokeFunction('convertToInteractive',\n",
              "                                                     [key], {});\n",
              "          if (!dataTable) return;\n",
              "\n",
              "          const docLinkHtml = 'Like what you see? Visit the ' +\n",
              "            '<a target=\"_blank\" href=https://colab.research.google.com/notebooks/data_table.ipynb>data table notebook</a>'\n",
              "            + ' to learn more about interactive tables.';\n",
              "          element.innerHTML = '';\n",
              "          dataTable['output_type'] = 'display_data';\n",
              "          await google.colab.output.renderOutput(dataTable, element);\n",
              "          const docLink = document.createElement('div');\n",
              "          docLink.innerHTML = docLinkHtml;\n",
              "          element.appendChild(docLink);\n",
              "        }\n",
              "      </script>\n",
              "    </div>\n",
              "  </div>\n",
              "  "
            ]
          },
          "metadata": {},
          "execution_count": 14
        }
      ]
    },
    {
      "cell_type": "code",
      "source": [
        "X=df_features['Movie_Genre']+' '+df_features['Movie_Keywords']+' '+df_features['Movie_Tagline']+' '+df_features['Movie_Cast']+' '+df_features['Movie_Director']"
      ],
      "metadata": {
        "id": "06QX8CZ6Krv0"
      },
      "execution_count": null,
      "outputs": []
    },
    {
      "cell_type": "code",
      "source": [
        "X"
      ],
      "metadata": {
        "colab": {
          "base_uri": "https://localhost:8080/"
        },
        "id": "2Xz8xCmnLWS-",
        "outputId": "fe773581-74c7-4098-d264-55368e793eb2"
      },
      "execution_count": null,
      "outputs": [
        {
          "output_type": "execute_result",
          "data": {
            "text/plain": [
              "0       Crime Comedy hotel new year's eve witch bet ho...\n",
              "1       Adventure Action Science Fiction android galax...\n",
              "2       Animation Family father son relationship harbo...\n",
              "3       Comedy Drama Romance vietnam veteran hippie me...\n",
              "4       Drama male nudity female nudity adultery midli...\n",
              "                              ...                        \n",
              "4755    Horror  The hot spot where Satan's waitin'. Li...\n",
              "4756    Comedy Family Drama  It’s better to stand out ...\n",
              "4757    Thriller Drama christian film sex trafficking ...\n",
              "4758                                           Family    \n",
              "4759    Documentary music actors legendary perfomer cl...\n",
              "Length: 4760, dtype: object"
            ]
          },
          "metadata": {},
          "execution_count": 90
        }
      ]
    },
    {
      "cell_type": "code",
      "source": [
        "X.shape"
      ],
      "metadata": {
        "colab": {
          "base_uri": "https://localhost:8080/"
        },
        "id": "hgolhpbXLbBD",
        "outputId": "853c9e47-7d7c-442d-d036-711f3a6f83b1"
      },
      "execution_count": null,
      "outputs": [
        {
          "output_type": "execute_result",
          "data": {
            "text/plain": [
              "(4760,)"
            ]
          },
          "metadata": {},
          "execution_count": 91
        }
      ]
    },
    {
      "cell_type": "markdown",
      "source": [
        "**Get Feature Text Conversion to Tokens**"
      ],
      "metadata": {
        "id": "6vfE7y09Pxde"
      }
    },
    {
      "cell_type": "code",
      "source": [
        "from sklearn.feature_extraction.text import TfidfVectorizer"
      ],
      "metadata": {
        "id": "Jlj4zCh-QKqA"
      },
      "execution_count": null,
      "outputs": []
    },
    {
      "cell_type": "code",
      "source": [
        "tfidf=TfidfVectorizer()"
      ],
      "metadata": {
        "id": "2HNkghYRQpjH"
      },
      "execution_count": null,
      "outputs": []
    },
    {
      "cell_type": "code",
      "source": [
        "X=tfidf.fit_transform(x)"
      ],
      "metadata": {
        "id": "AJfV0MaWQypa"
      },
      "execution_count": null,
      "outputs": []
    },
    {
      "cell_type": "code",
      "source": [
        "X.shape"
      ],
      "metadata": {
        "colab": {
          "base_uri": "https://localhost:8080/"
        },
        "id": "OU-zQ-_HRCK0",
        "outputId": "89167404-9361-45a4-c620-a4e85de5db87"
      },
      "execution_count": null,
      "outputs": [
        {
          "output_type": "execute_result",
          "data": {
            "text/plain": [
              "(4760, 27466)"
            ]
          },
          "metadata": {},
          "execution_count": 95
        }
      ]
    },
    {
      "cell_type": "code",
      "source": [
        "print(X)"
      ],
      "metadata": {
        "colab": {
          "base_uri": "https://localhost:8080/"
        },
        "id": "2vfX50aFRNBV",
        "outputId": "5b9661ab-40d2-496e-dd48-fc8ae4b123b1"
      },
      "execution_count": null,
      "outputs": [
        {
          "output_type": "stream",
          "name": "stdout",
          "text": [
            "  (0, 1028)\t0.16196019146631543\n",
            "  (0, 24785)\t0.1954632929283795\n",
            "  (0, 15844)\t0.14205053053187272\n",
            "  (0, 15553)\t0.17099186675469502\n",
            "  (0, 2132)\t0.18002354204307464\n",
            "  (0, 13312)\t0.09914387783149516\n",
            "  (0, 1887)\t0.14106037409792174\n",
            "  (0, 1216)\t0.13920306109638164\n",
            "  (0, 21158)\t0.14205053053187272\n",
            "  (0, 24701)\t0.11357423942624927\n",
            "  (0, 14943)\t0.091376722056839\n",
            "  (0, 18098)\t0.06200430666985742\n",
            "  (0, 26738)\t0.175053052455033\n",
            "  (0, 9790)\t0.08712552095655665\n",
            "  (0, 26675)\t0.1116831168780693\n",
            "  (0, 13401)\t0.13748876529263096\n",
            "  (0, 24105)\t0.10726395493180996\n",
            "  (0, 18192)\t0.07278761942152372\n",
            "  (0, 6172)\t0.11970212451073885\n",
            "  (0, 9626)\t0.11757910435818826\n",
            "  (0, 11960)\t0.20134029899961134\n",
            "  (0, 12801)\t0.1530338818199682\n",
            "  (0, 2292)\t0.1954632929283795\n",
            "  (0, 15172)\t0.1537691763994982\n",
            "  (0, 18196)\t0.08579029869987485\n",
            "  :\t:\n",
            "  (4757, 1839)\t0.19327629083107672\n",
            "  (4757, 5410)\t0.19734759150400596\n",
            "  (4757, 11350)\t0.21582294886514122\n",
            "  (4757, 22017)\t0.1646400247918531\n",
            "  (4757, 17789)\t0.18881341937258544\n",
            "  (4757, 9484)\t0.1411164779725638\n",
            "  (4757, 14176)\t0.2330831990045816\n",
            "  (4757, 11762)\t0.17321388936472645\n",
            "  (4757, 14052)\t0.1776312353410007\n",
            "  (4757, 24232)\t0.10947784435203887\n",
            "  (4757, 24746)\t0.09744940789814222\n",
            "  (4757, 13079)\t0.12400374714145113\n",
            "  (4757, 17721)\t0.1489085353667712\n",
            "  (4758, 8651)\t1.0\n",
            "  (4759, 18229)\t0.33527342183765224\n",
            "  (4759, 22434)\t0.33527342183765224\n",
            "  (4759, 18841)\t0.33527342183765224\n",
            "  (4759, 6950)\t0.33527342183765224\n",
            "  (4759, 345)\t0.31978160936741457\n",
            "  (4759, 14742)\t0.31978160936741457\n",
            "  (4759, 12139)\t0.2778063685558062\n",
            "  (4759, 4446)\t0.282306565154911\n",
            "  (4759, 17552)\t0.3087899934962816\n",
            "  (4759, 9955)\t0.21805075638656476\n",
            "  (4759, 2285)\t0.21465229435984196\n"
          ]
        }
      ]
    },
    {
      "cell_type": "markdown",
      "source": [
        "**Get Similarity Score using Cosine Similarity**"
      ],
      "metadata": {
        "id": "0RwhqDB9RXT9"
      }
    },
    {
      "cell_type": "markdown",
      "source": [
        "cosine_similarity computes the L2-normalized dot product of vectors.Euclidean(L,22)normalization projects the vectors on to the unit sphere,and their dot product is then the cosine of the angle between the points denoted by the vectors."
      ],
      "metadata": {
        "id": "gwMP2Yq3RkQO"
      }
    },
    {
      "cell_type": "code",
      "source": [
        "from sklearn.metrics.pairwise import cosine_similarity"
      ],
      "metadata": {
        "id": "pxHte11hSHar"
      },
      "execution_count": null,
      "outputs": []
    },
    {
      "cell_type": "code",
      "source": [
        "Similarity_score=cosine_similarity(X)"
      ],
      "metadata": {
        "id": "VXy2kSvFSVeX"
      },
      "execution_count": null,
      "outputs": []
    },
    {
      "cell_type": "code",
      "source": [
        "Similarity_score"
      ],
      "metadata": {
        "colab": {
          "base_uri": "https://localhost:8080/"
        },
        "id": "MQ8eSSEYSiMe",
        "outputId": "b4df3e28-e4f5-4e02-895a-7e98e54cf00d"
      },
      "execution_count": null,
      "outputs": [
        {
          "output_type": "execute_result",
          "data": {
            "text/plain": [
              "array([[1.        , 0.01438634, 0.03807033, ..., 0.        , 0.        ,\n",
              "        0.        ],\n",
              "       [0.01438634, 1.        , 0.00844858, ..., 0.        , 0.        ,\n",
              "        0.        ],\n",
              "       [0.03807033, 0.00844858, 1.        , ..., 0.        , 0.        ,\n",
              "        0.        ],\n",
              "       ...,\n",
              "       [0.        , 0.        , 0.        , ..., 1.        , 0.        ,\n",
              "        0.        ],\n",
              "       [0.        , 0.        , 0.        , ..., 0.        , 1.        ,\n",
              "        0.        ],\n",
              "       [0.        , 0.        , 0.        , ..., 0.        , 0.        ,\n",
              "        1.        ]])"
            ]
          },
          "metadata": {},
          "execution_count": 104
        }
      ]
    },
    {
      "cell_type": "code",
      "source": [
        "Similarity_score.shape"
      ],
      "metadata": {
        "colab": {
          "base_uri": "https://localhost:8080/"
        },
        "id": "J3mZP8uWSsSB",
        "outputId": "1465cef0-4eec-4ad7-f268-8fe07d6a6e71"
      },
      "execution_count": null,
      "outputs": [
        {
          "output_type": "execute_result",
          "data": {
            "text/plain": [
              "(4760, 4760)"
            ]
          },
          "metadata": {},
          "execution_count": 36
        }
      ]
    },
    {
      "cell_type": "markdown",
      "source": [
        "**Get Movie Name as Input from User and Validate for Closest Spelling**"
      ],
      "metadata": {
        "id": "rjneF8QuS4LA"
      }
    },
    {
      "cell_type": "code",
      "source": [
        "Favourite_Movie_Name= input(' Enter your favourite movie name : ')"
      ],
      "metadata": {
        "colab": {
          "base_uri": "https://localhost:8080/"
        },
        "id": "KHxpNwMHTFjf",
        "outputId": "e602bfa2-0800-45b6-8f0d-9aeaca9661de"
      },
      "execution_count": null,
      "outputs": [
        {
          "name": "stdout",
          "output_type": "stream",
          "text": [
            " Enter your favourite movie name : avtaar\n"
          ]
        }
      ]
    },
    {
      "cell_type": "code",
      "source": [
        "All_Movies_Title_List=df['Movie_Title'].tolist()"
      ],
      "metadata": {
        "id": "t8_aI8wnTfUQ"
      },
      "execution_count": null,
      "outputs": []
    },
    {
      "cell_type": "code",
      "source": [
        "import difflib"
      ],
      "metadata": {
        "id": "-FccgS5IUnQ0"
      },
      "execution_count": null,
      "outputs": []
    },
    {
      "cell_type": "code",
      "source": [
        "Movie_Recommendation=difflib.get_close_matches(Favourite_Movie_Name, All_Movies_Title_List)\n",
        "print(Movie_Recommendation)"
      ],
      "metadata": {
        "colab": {
          "base_uri": "https://localhost:8080/"
        },
        "id": "omclSgtKUuYx",
        "outputId": "dc9ee6f4-917a-4b56-9a04-66e8ff6e41ce"
      },
      "execution_count": null,
      "outputs": [
        {
          "output_type": "stream",
          "name": "stdout",
          "text": [
            "['Avatar', 'Gattaca']\n"
          ]
        }
      ]
    },
    {
      "cell_type": "code",
      "source": [
        "Close_Match=Movie_Recommendation[0]\n",
        "print(Close_Match)"
      ],
      "metadata": {
        "colab": {
          "base_uri": "https://localhost:8080/"
        },
        "id": "U-7bRP7VUuVW",
        "outputId": "b69b906d-c3ca-4af1-8e7a-f1c4a8ca9f83"
      },
      "execution_count": null,
      "outputs": [
        {
          "output_type": "stream",
          "name": "stdout",
          "text": [
            "Avatar\n"
          ]
        }
      ]
    },
    {
      "cell_type": "code",
      "source": [
        "Index_of_Close_Match_Movie=df[df.Movie_Title == Close_Match]['Movie_ID'].values[0]\n",
        "print(Index_of_Close_Movie)"
      ],
      "metadata": {
        "colab": {
          "base_uri": "https://localhost:8080/"
        },
        "id": "8RMskpS0XMTx",
        "outputId": "2514675b-6e74-4400-e754-c60a1dd40b3c"
      },
      "execution_count": null,
      "outputs": [
        {
          "output_type": "stream",
          "name": "stdout",
          "text": [
            "2692\n"
          ]
        }
      ]
    },
    {
      "cell_type": "code",
      "source": [
        "#getting a list of similar movies\n",
        "Recommendation_score=list(enumerate(Similarity_score[Index_of_Close_Match_Movie]))\n",
        "print(Recommendation_score)"
      ],
      "metadata": {
        "colab": {
          "base_uri": "https://localhost:8080/"
        },
        "id": "uLEkXDZzYz7S",
        "outputId": "fb3acdf9-a027-4b04-daf9-fd1f0dce9dab"
      },
      "execution_count": null,
      "outputs": [
        {
          "output_type": "stream",
          "name": "stdout",
          "text": [
            "[(0, 0.011030833064862307), (1, 0.0), (2, 0.0), (3, 0.008556266387176359), (4, 0.0), (5, 0.012499153688449187), (6, 0.0), (7, 0.014064418289266698), (8, 0.004073868046412164), (9, 0.005893715712413234), (10, 0.0), (11, 0.003874435004287726), (12, 0.004103246860382846), (13, 0.013219405087101963), (14, 0.0), (15, 0.022710650926572633), (16, 0.00323920825233975), (17, 0.0), (18, 0.0034819594616662818), (19, 0.009946079752603336), (20, 0.0), (21, 0.014143738774611676), (22, 0.006154963368437307), (23, 0.0038779908080822964), (24, 0.0), (25, 0.02805914150138747), (26, 0.0), (27, 0.0), (28, 0.0), (29, 0.00968044777148735), (30, 0.0), (31, 0.0035152240933962325), (32, 0.009257022828857226), (33, 0.019113111052402675), (34, 0.003938203122665193), (35, 0.005810871872628743), (36, 0.0), (37, 0.0), (38, 0.0), (39, 0.0), (40, 0.007026839741904728), (41, 0.00401877252545565), (42, 0.0), (43, 0.013392190505879191), (44, 0.036213370247967884), (45, 0.04689055112186652), (46, 0.013921583304188589), (47, 0.0), (48, 0.013813956207629367), (49, 0.0), (50, 0.0), (51, 0.013002654119900914), (52, 0.011865057726792062), (53, 0.0), (54, 0.0), (55, 0.0), (56, 0.006360520624700797), (57, 0.010573980851862265), (58, 0.0), (59, 0.0), (60, 0.008666795147761527), (61, 0.01800489296664041), (62, 0.06877126058304428), (63, 0.008450299024233675), (64, 0.0), (65, 0.031578728530921876), (66, 0.0), (67, 0.04062406884638548), (68, 0.022662065250628582), (69, 0.0), (70, 0.0), (71, 0.003797735635465097), (72, 0.0), (73, 0.0), (74, 0.003954697903492821), (75, 0.013226433991358255), (76, 0.0), (77, 0.0), (78, 0.005308041561391282), (79, 0.009793697093190779), (80, 0.0), (81, 0.0), (82, 0.00989165950910543), (83, 0.015264580033105275), (84, 0.025332709598550517), (85, 0.01814002580559), (86, 0.012943737725065435), (87, 0.01271876778191128), (88, 0.012415477794410202), (89, 0.03760739144829306), (90, 0.0), (91, 0.0), (92, 0.003474320191272607), (93, 0.0), (94, 0.0), (95, 0.0), (96, 0.0035092595730166474), (97, 0.003255704095665302), (98, 0.0), (99, 0.0), (100, 0.0), (101, 0.0), (102, 0.0), (103, 0.0033914792908233196), (104, 0.009829886192158879), (105, 0.008714622365753266), (106, 0.016807391435630297), (107, 0.004183291225760562), (108, 0.03660943163889682), (109, 0.02453044653849549), (110, 0.08195740486074782), (111, 0.0034760839688809256), (112, 0.026858445264167623), (113, 0.008222839981141181), (114, 0.003660860680251289), (115, 0.0), (116, 0.020313560827881903), (117, 0.0), (118, 0.0), (119, 0.009624580090449546), (120, 0.013436120369739572), (121, 0.0034814749525087776), (122, 0.008016280069358032), (123, 0.0186619413561701), (124, 0.022924907403512267), (125, 0.00755016276571266), (126, 0.03260997835259098), (127, 0.0035740157755357353), (128, 0.0), (129, 0.002630542380460004), (130, 0.0112329178326444), (131, 0.006516361421348344), (132, 0.0035338118100413096), (133, 0.0), (134, 0.0), (135, 0.0), (136, 0.0034169156440037045), (137, 0.0495529511064541), (138, 0.022571466223490346), (139, 0.0), (140, 0.0), (141, 0.0), (142, 0.00841282579612957), (143, 0.0), (144, 0.014505497258134919), (145, 0.017428675510470847), (146, 0.0), (147, 0.01676129633709683), (148, 0.00793084900445095), (149, 0.011278788994365298), (150, 0.0), (151, 0.0), (152, 0.0), (153, 0.0), (154, 0.0), (155, 0.004687662747443836), (156, 0.008130352981790146), (157, 0.0), (158, 0.0), (159, 0.005058354633705562), (160, 0.013669601592204473), (161, 0.042995127284944895), (162, 0.009472782166328289), (163, 0.0), (164, 0.00607226100383107), (165, 0.0032359924409528775), (166, 0.03267363357028504), (167, 0.0), (168, 0.005017684496009933), (169, 0.003802607310259046), (170, 0.008212411862992973), (171, 0.0), (172, 0.040988335527211595), (173, 0.010235657495642711), (174, 0.03431491881663727), (175, 0.02053300245341473), (176, 0.027175328259604753), (177, 0.005323932447861263), (178, 0.0038981473401542444), (179, 0.030858620723447434), (180, 0.009465442543840063), (181, 0.01744574453448987), (182, 0.006281191547593628), (183, 0.009111549357113669), (184, 0.003392951330185178), (185, 0.03974496562160074), (186, 0.0), (187, 0.0), (188, 0.0), (189, 0.0), (190, 0.003228566986911601), (191, 0.0), (192, 0.003909751707564705), (193, 0.028175019413404435), (194, 0.0032721312973549273), (195, 0.003195700142896886), (196, 0.0), (197, 0.009628783959843066), (198, 0.0037440728072239094), (199, 0.01704282524286311), (200, 0.0034592150794363645), (201, 0.009173687817643075), (202, 0.0024526540245059666), (203, 0.014200108613688917), (204, 0.019396305298432167), (205, 0.0), (206, 0.004018047158382346), (207, 0.009876667254712064), (208, 0.011109554342889108), (209, 0.0157583980016002), (210, 0.0391409809773798), (211, 0.0), (212, 0.0), (213, 0.04737383351338189), (214, 0.0), (215, 0.0035576449563773653), (216, 0.0038539414968706428), (217, 0.0), (218, 0.01722790250497939), (219, 0.0), (220, 0.0), (221, 0.0035752004115683898), (222, 0.014335748504140263), (223, 0.0), (224, 0.00983335119414816), (225, 0.0), (226, 0.0), (227, 0.05264968200145985), (228, 0.0028448620728628153), (229, 0.0), (230, 0.006033721816799257), (231, 0.012859412564061545), (232, 0.006593921088203635), (233, 0.0), (234, 0.0), (235, 0.0), (236, 0.011748931273435273), (237, 0.0), (238, 0.003773549926644996), (239, 0.0), (240, 0.02389665325744212), (241, 0.0), (242, 0.00878564989032114), (243, 0.007095822136006832), (244, 0.009011790569821853), (245, 0.0), (246, 0.0), (247, 0.0), (248, 0.005925427367671948), (249, 0.0), (250, 0.025671125642918003), (251, 0.016589847669407163), (252, 0.015123476086782406), (253, 0.0), (254, 0.061965829647199884), (255, 0.003904033768143513), (256, 0.002970066192247651), (257, 0.0), (258, 0.0), (259, 0.0), (260, 0.0), (261, 0.017284074569454244), (262, 0.0), (263, 0.005983694769291917), (264, 0.0), (265, 0.0), (266, 0.007687352938714007), (267, 0.003326249939646006), (268, 0.0), (269, 0.024648836109458287), (270, 0.012652810364268897), (271, 0.007906651382996933), (272, 0.0), (273, 0.006162398861351799), (274, 0.00421335192708142), (275, 0.0), (276, 0.01190338789332549), (277, 0.005426514190121782), (278, 0.0), (279, 0.0), (280, 0.01005628187630405), (281, 0.010010425921262304), (282, 0.027046874873784748), (283, 0.007115362995892679), (284, 0.023752025054689138), (285, 0.007957860541728885), (286, 0.003372489655812492), (287, 0.014460928955376061), (288, 0.00527708727931834), (289, 0.0), (290, 0.0), (291, 0.0), (292, 0.05016302429671682), (293, 0.0), (294, 0.0), (295, 0.0), (296, 0.012726960469764893), (297, 0.0), (298, 0.0), (299, 0.0), (300, 0.005955194815963849), (301, 0.00648316267759), (302, 0.0), (303, 0.0), (304, 0.0), (305, 0.0), (306, 0.0), (307, 0.00917610295665701), (308, 0.0), (309, 0.008116934566755161), (310, 0.0), (311, 0.0), (312, 0.0), (313, 0.006364061615090338), (314, 0.0), (315, 0.0), (316, 0.0), (317, 0.011108212593763942), (318, 0.00403170727295491), (319, 0.0), (320, 0.0), (321, 0.006156772667539891), (322, 0.006154155639590201), (323, 0.0), (324, 0.0), (325, 0.0035510134812316635), (326, 0.0045095310714152815), (327, 0.005688884029845161), (328, 0.04480472795993683), (329, 0.011993583837178056), (330, 0.020131929032753407), (331, 0.0), (332, 0.009511029320073175), (333, 0.00777863798492178), (334, 0.02092561764217525), (335, 0.0), (336, 0.0046623100313274496), (337, 0.0), (338, 0.0), (339, 0.0), (340, 0.0067770163722903785), (341, 0.006738782862458078), (342, 0.010655859466779122), (343, 0.01576754423957001), (344, 0.0), (345, 0.01663329820057672), (346, 0.006174624184713736), (347, 0.0), (348, 0.0036536483320724344), (349, 0.003621041224248182), (350, 0.004078142786008544), (351, 0.002962166119413027), (352, 0.0), (353, 0.009918720357672068), (354, 0.005746380737848925), (355, 0.00348979700839115), (356, 0.009464553882018245), (357, 0.003324995704730384), (358, 0.01569891896451261), (359, 0.0034825036548198755), (360, 0.008792989390460915), (361, 0.0), (362, 0.0), (363, 0.006635672206861194), (364, 0.01914548292801831), (365, 0.0), (366, 0.0), (367, 0.0), (368, 0.010105073419505521), (369, 0.006834651986150755), (370, 0.012410930413083382), (371, 0.02295759686023454), (372, 0.0035050538730487697), (373, 0.003603941592539975), (374, 0.015741177368176103), (375, 0.0), (376, 0.0), (377, 0.0), (378, 0.0), (379, 0.0), (380, 0.0), (381, 0.026277174528693634), (382, 0.0), (383, 0.02169711981717913), (384, 0.02772949542845787), (385, 0.00969786076193165), (386, 0.006826523344417924), (387, 0.03637931174408889), (388, 0.003542771549464279), (389, 0.0), (390, 0.0), (391, 0.0), (392, 0.0), (393, 0.0), (394, 0.0), (395, 0.0), (396, 0.008538302223078728), (397, 0.0), (398, 0.023601173359146386), (399, 0.0), (400, 0.0036682387563338995), (401, 0.0), (402, 0.007431236549668566), (403, 0.008658039661083214), (404, 0.0), (405, 0.0), (406, 0.010091241397990626), (407, 0.0130103384548984), (408, 0.046053452690909984), (409, 0.016757131628436703), (410, 0.003368779790754776), (411, 0.0), (412, 0.0415817758172273), (413, 0.0064600698515542305), (414, 0.004716614917164038), (415, 0.0), (416, 0.003388081521761665), (417, 0.0), (418, 0.009295128205807203), (419, 0.004321939551078249), (420, 0.0), (421, 0.02904905510898708), (422, 0.0), (423, 0.0), (424, 0.02641652035274679), (425, 0.0), (426, 0.0), (427, 0.0), (428, 0.009138200469818582), (429, 0.0131333592843429), (430, 0.03023495817893322), (431, 0.004253731224117698), (432, 0.0), (433, 0.01324024258332859), (434, 0.011732983373727123), (435, 0.007134994014550279), (436, 0.004367638607825825), (437, 0.01616385543714364), (438, 0.040117770359875335), (439, 0.0), (440, 0.0), (441, 0.00845196520158128), (442, 0.018131110471171972), (443, 0.004173485641770982), (444, 0.0), (445, 0.0054930588187041), (446, 0.006213018848706033), (447, 0.00883864795020015), (448, 0.004387610799716991), (449, 0.0058889285917647655), (450, 0.013355373147177364), (451, 0.0), (452, 0.012466409897686949), (453, 0.0030370313465163733), (454, 0.0), (455, 0.021289551394639245), (456, 0.003947551770055118), (457, 0.0033692576948616674), (458, 0.014178106952497138), (459, 0.026446032923904288), (460, 0.0), (461, 0.01002839726677243), (462, 0.0), (463, 0.008984959984842517), (464, 0.01009577443049482), (465, 0.028726103031691264), (466, 0.0), (467, 0.0), (468, 0.005812107528425206), (469, 0.0), (470, 0.010513126076556481), (471, 0.003547747924897629), (472, 0.010534769725268385), (473, 0.0), (474, 0.0), (475, 0.003598776850932981), (476, 0.0), (477, 0.005108906710807928), (478, 0.0), (479, 0.044137282040169284), (480, 0.003279384635800519), (481, 0.004038096049223641), (482, 0.010482824276952405), (483, 0.00896768338506053), (484, 0.0), (485, 0.009421709875664774), (486, 0.0), (487, 0.0), (488, 0.003562752240416941), (489, 0.0), (490, 0.003688129577136311), (491, 0.0), (492, 0.0), (493, 0.003959454368698263), (494, 0.008714419227020861), (495, 0.003388958428105249), (496, 0.014183737467217076), (497, 0.0), (498, 0.0), (499, 0.0), (500, 0.008359803495500152), (501, 0.008093060535906737), (502, 0.012769855167242574), (503, 0.0), (504, 0.003791150640844209), (505, 0.0), (506, 0.0), (507, 0.0), (508, 0.0), (509, 0.0037613468328451974), (510, 0.01487675400502619), (511, 0.011506869261534868), (512, 0.0), (513, 0.0), (514, 0.0), (515, 0.02523163631632451), (516, 0.0), (517, 0.0), (518, 0.0), (519, 0.04597987359103989), (520, 0.0), (521, 0.006258208083095623), (522, 0.003630063056740183), (523, 0.006373792107219135), (524, 0.0), (525, 0.0), (526, 0.0), (527, 0.010031875064935141), (528, 0.0), (529, 0.0), (530, 0.025755193511603033), (531, 0.0), (532, 0.0), (533, 0.014137543318232765), (534, 0.013423529226724646), (535, 0.0), (536, 0.0), (537, 0.006904650253934127), (538, 0.010926596821725245), (539, 0.0), (540, 0.03143752852304211), (541, 0.0), (542, 0.009137332583311533), (543, 0.012985920199619012), (544, 0.009226556772081328), (545, 0.013035522950908337), (546, 0.0), (547, 0.015954215736828595), (548, 0.0), (549, 0.0), (550, 0.0), (551, 0.01687479618378972), (552, 0.0), (553, 0.017999209635930175), (554, 0.0), (555, 0.010410756012279717), (556, 0.0), (557, 0.0), (558, 0.0033823345092622355), (559, 0.0), (560, 0.0), (561, 0.004688058770700592), (562, 0.002898633160165264), (563, 0.003416446971263746), (564, 0.003914516109648322), (565, 0.0), (566, 0.021594645455275913), (567, 0.0), (568, 0.006037966036721979), (569, 0.0), (570, 0.0), (571, 0.002927413886987845), (572, 0.0), (573, 0.0), (574, 0.0), (575, 0.0), (576, 0.004126208071341264), (577, 0.0), (578, 0.035709195812630615), (579, 0.003833822223974838), (580, 0.00383941897329985), (581, 0.0), (582, 0.0073934012388877065), (583, 0.005668807847433948), (584, 0.01319315722518307), (585, 0.0), (586, 0.015043838912854237), (587, 0.004113686825008192), (588, 0.003809979747167125), (589, 0.003504417792277305), (590, 0.019676293955674863), (591, 0.0), (592, 0.0), (593, 0.0), (594, 0.0034837348933997167), (595, 0.0), (596, 0.004249523053030153), (597, 0.005585296910327888), (598, 0.0036165708537115628), (599, 0.0), (600, 0.006391090692947358), (601, 0.0), (602, 0.0), (603, 0.0), (604, 0.0033654851670405664), (605, 0.003473389652169448), (606, 0.003895701095197848), (607, 0.0029039219848088268), (608, 0.0034612218006752796), (609, 0.01312486898756787), (610, 0.0), (611, 0.003225704238700125), (612, 0.004036692546863976), (613, 0.023360005747407847), (614, 0.004288750672739078), (615, 0.042178058941379735), (616, 0.008284466466940338), (617, 0.003275360297449852), (618, 0.030784241964913056), (619, 0.0), (620, 0.011905409052499184), (621, 0.0), (622, 0.012924041058040441), (623, 0.004096377238705219), (624, 0.0), (625, 0.0), (626, 0.0031812754859335715), (627, 0.00497300781867873), (628, 0.07782347562546076), (629, 0.02646535111213182), (630, 0.0), (631, 0.006435223702269604), (632, 0.03350879807332694), (633, 0.0), (634, 0.0), (635, 0.0068265890814092345), (636, 0.003810165390302807), (637, 0.040325196313908865), (638, 0.017053448093546024), (639, 0.0), (640, 0.0), (641, 0.00761560630470599), (642, 0.0032494401965498217), (643, 0.0178904659585552), (644, 0.003789260554832299), (645, 0.0), (646, 0.0), (647, 0.0), (648, 0.011489320991772481), (649, 0.0), (650, 0.0), (651, 0.009675872005106619), (652, 0.003861781855914115), (653, 0.010992564495749169), (654, 0.009137985078526102), (655, 0.0035041331761543645), (656, 0.0), (657, 0.019029186776422926), (658, 0.0), (659, 0.0034878575434786336), (660, 0.0037775801022166366), (661, 0.0), (662, 0.0), (663, 0.0), (664, 0.005621543679482349), (665, 0.0), (666, 0.0), (667, 0.009466726882698477), (668, 0.007010024149398861), (669, 0.017288830634819282), (670, 0.022358617621920047), (671, 0.006370293268521529), (672, 0.02419146135167271), (673, 0.003974402797592964), (674, 0.0), (675, 0.009398956760921425), (676, 0.01204576616271371), (677, 0.016160805108634633), (678, 0.0), (679, 0.0), (680, 0.0), (681, 0.0), (682, 0.03975864624348521), (683, 0.009616876214454003), (684, 0.014624033923226757), (685, 0.0), (686, 0.0), (687, 0.0), (688, 0.004066465904018496), (689, 0.009767853373253194), (690, 0.0), (691, 0.019705460892332046), (692, 0.01275387478459089), (693, 0.0037176726791272575), (694, 0.03240117832356698), (695, 0.007865699296181349), (696, 0.00375200337095578), (697, 0.010063880214992365), (698, 0.0037111457752412418), (699, 0.0), (700, 0.0), (701, 0.014001106138123231), (702, 0.0), (703, 0.0033837562169483117), (704, 0.0), (705, 0.00884900352066762), (706, 0.020906587455013885), (707, 0.0031779641872713028), (708, 0.0), (709, 0.0), (710, 0.03622637841301389), (711, 0.0), (712, 0.0032271682397823475), (713, 0.0), (714, 0.0), (715, 0.0067184379008968734), (716, 0.004111876669264274), (717, 0.0), (718, 0.0), (719, 0.008323580340979676), (720, 0.0), (721, 0.004351798040170864), (722, 0.0033515704203596793), (723, 0.0), (724, 0.0), (725, 0.0), (726, 0.0), (727, 0.003637924439911115), (728, 0.003940958226399569), (729, 0.00404239245555327), (730, 0.0), (731, 0.0), (732, 0.008601203498079696), (733, 0.01089223933783324), (734, 0.009330460942637137), (735, 0.005409992240879334), (736, 0.0), (737, 0.00679046919906129), (738, 0.0), (739, 0.004154432452638596), (740, 0.0), (741, 0.0), (742, 0.009376108974102787), (743, 0.0038890056347857483), (744, 0.0033880368274692312), (745, 0.0), (746, 0.0), (747, 0.0), (748, 0.006469467667377661), (749, 0.0037125009869399548), (750, 0.0036886362013931312), (751, 0.0), (752, 0.0064679800488679235), (753, 0.00995738393865018), (754, 0.0), (755, 0.0037654469627471476), (756, 0.0), (757, 0.017113087304093787), (758, 0.006159661484248019), (759, 0.0), (760, 0.010327950760938079), (761, 0.003904128158922921), (762, 0.010866345931340542), (763, 0.01978646943212837), (764, 0.0), (765, 0.0), (766, 0.005738451158784624), (767, 0.0), (768, 0.017489673834048706), (769, 0.0037034608685001676), (770, 0.0), (771, 0.0), (772, 0.0), (773, 0.0), (774, 0.037473630361923325), (775, 0.009820640273312335), (776, 0.016434663595932975), (777, 0.0), (778, 0.006507201744080071), (779, 0.015559303700559456), (780, 0.0), (781, 0.0), (782, 0.006485287162109586), (783, 0.003850714663983296), (784, 0.0), (785, 0.0), (786, 0.0), (787, 0.015654212273660786), (788, 0.03658784694404663), (789, 0.0), (790, 0.008440627947769758), (791, 0.0), (792, 0.003933400315170968), (793, 0.0), (794, 0.016529916975990485), (795, 0.02035865617645446), (796, 0.01833113726280077), (797, 0.0), (798, 0.003549710822385426), (799, 0.012291721579100613), (800, 0.0088620641542253), (801, 0.007945568255324975), (802, 0.0), (803, 0.0), (804, 0.003386604726701446), (805, 0.0), (806, 0.012454536871270008), (807, 0.0), (808, 0.014292875555487139), (809, 0.0064050046514841355), (810, 0.0), (811, 0.0), (812, 0.031180759701558668), (813, 0.004284072736745844), (814, 0.012549332742373345), (815, 0.003326561574790432), (816, 0.010938968543632828), (817, 0.006357746832484935), (818, 0.0351297238344059), (819, 0.0), (820, 0.0), (821, 0.0062135098503562185), (822, 0.0), (823, 0.0), (824, 0.02605970747136424), (825, 0.0), (826, 0.003984919033035858), (827, 0.008318481071895121), (828, 0.008383323028886877), (829, 0.008163802724838796), (830, 0.03969111840728247), (831, 0.00279986603766999), (832, 0.021498845411267415), (833, 0.01438086275706087), (834, 0.0061603555315207165), (835, 0.005929335403242159), (836, 0.028509177278749114), (837, 0.0), (838, 0.00962645968835267), (839, 0.0), (840, 0.0), (841, 0.0), (842, 0.010420095601244354), (843, 0.008297681235106933), (844, 0.010444848119725975), (845, 0.0), (846, 0.0), (847, 0.011170959908007115), (848, 0.0), (849, 0.0), (850, 0.009933955796671428), (851, 0.003362512904480482), (852, 0.003602854815745257), (853, 0.011629613688559302), (854, 0.003607099370295623), (855, 0.0), (856, 0.003320780217770335), (857, 0.004167325767081205), (858, 0.0205238942217309), (859, 0.0), (860, 0.014491056408246897), (861, 0.0032101468464343736), (862, 0.0), (863, 0.0), (864, 0.024863291917396356), (865, 0.003939757432092838), (866, 0.011880750449006683), (867, 0.016222119390137353), (868, 0.0), (869, 0.008834946689125852), (870, 0.018237756241513154), (871, 0.0038390492302952097), (872, 0.003936386708637261), (873, 0.051370417131634205), (874, 0.01370786263314905), (875, 0.0), (876, 0.004104279970578758), (877, 0.046032119864914504), (878, 0.011995378496967279), (879, 0.013125425078490878), (880, 0.0035813547899368314), (881, 0.0), (882, 0.0), (883, 0.0), (884, 0.0), (885, 0.023043502642482616), (886, 0.0034659967981568772), (887, 0.0), (888, 0.004025261975996451), (889, 0.0), (890, 0.0), (891, 0.0), (892, 0.0), (893, 0.0), (894, 0.0036956269487976494), (895, 0.011556955470140882), (896, 0.013375361646994158), (897, 0.010105533484417709), (898, 0.0), (899, 0.011531366377918972), (900, 0.009327860583620376), (901, 0.0), (902, 0.0), (903, 0.032061873645951484), (904, 0.043073140347208896), (905, 0.010028592330043823), (906, 0.012562565902849297), (907, 0.003523298369333552), (908, 0.009067705968381806), (909, 0.0), (910, 0.003416069511494029), (911, 0.028018418342585796), (912, 0.0), (913, 0.0), (914, 0.0), (915, 0.008319397113436017), (916, 0.013881461165234425), (917, 0.022832389017415772), (918, 0.009079072007756081), (919, 0.0), (920, 0.0), (921, 0.006283165705018466), (922, 0.0), (923, 0.003772804929594783), (924, 0.00848321087343808), (925, 0.004384858122764017), (926, 0.0), (927, 0.0), (928, 0.0), (929, 0.016451366138125863), (930, 0.003905302988739065), (931, 0.00898516496564893), (932, 0.0), (933, 0.0), (934, 0.015002311094369832), (935, 0.03120711461288562), (936, 0.009003277999938795), (937, 0.014868996416454706), (938, 0.0), (939, 0.008344933288145956), (940, 0.007017471911449878), (941, 0.0), (942, 0.022597435457319317), (943, 0.0), (944, 0.003414092171681966), (945, 0.0), (946, 0.0), (947, 0.017945584217138124), (948, 0.010837176224295697), (949, 0.00728071716290034), (950, 0.0), (951, 0.003377560449946288), (952, 0.02357525737991522), (953, 0.00299908384160073), (954, 0.0), (955, 0.0), (956, 0.0), (957, 0.014692027330752516), (958, 0.005907065057759527), (959, 0.003659537603860519), (960, 0.0), (961, 0.0), (962, 0.009662655447983812), (963, 0.009330441443226747), (964, 0.0), (965, 0.0), (966, 0.009758755553470647), (967, 0.020469552153414082), (968, 0.014809223244513432), (969, 0.003711373705910478), (970, 0.005544337751770288), (971, 0.0), (972, 0.0), (973, 0.0), (974, 0.0), (975, 0.0035142471076253633), (976, 0.024639530976636192), (977, 0.0), (978, 0.0), (979, 0.005541527406106497), (980, 0.003785609217120446), (981, 0.003360964364597536), (982, 0.0), (983, 0.0), (984, 0.0), (985, 0.004280760355939876), (986, 0.01331994745472338), (987, 0.0), (988, 0.012150783887888747), (989, 0.012114278902246384), (990, 0.0), (991, 0.003936705091717946), (992, 0.0), (993, 0.0), (994, 0.008996209651201284), (995, 0.0), (996, 0.0), (997, 0.0), (998, 0.004231550323159827), (999, 0.004207810923003222), (1000, 0.011465808267637784), (1001, 0.0035489369785309506), (1002, 0.0035665010544031163), (1003, 0.016264639637270917), (1004, 0.0), (1005, 0.007918510792987067), (1006, 0.010373461632628785), (1007, 0.004048973039009421), (1008, 0.0), (1009, 0.00933641437649173), (1010, 0.0), (1011, 0.0), (1012, 0.006147533259474908), (1013, 0.0), (1014, 0.007143624398446649), (1015, 0.010349921605827251), (1016, 0.0), (1017, 0.009986518706319489), (1018, 0.013056738407929947), (1019, 0.010125459720913537), (1020, 0.010039741009904624), (1021, 0.059317870022916684), (1022, 0.0), (1023, 0.04759038732138236), (1024, 0.035703850253892756), (1025, 0.0), (1026, 0.0036332505793855866), (1027, 0.003637571926009078), (1028, 0.0), (1029, 0.0), (1030, 0.04611305422021394), (1031, 0.0), (1032, 0.0), (1033, 0.017539608669973682), (1034, 0.0035214648667209253), (1035, 0.012455959788933076), (1036, 0.0), (1037, 0.0053082155570347254), (1038, 0.0), (1039, 0.0), (1040, 0.0032528149380941004), (1041, 0.0034840924462717876), (1042, 0.0), (1043, 0.025420240058411692), (1044, 0.0036234415066681252), (1045, 0.015266048746463185), (1046, 0.028234031000375977), (1047, 0.0), (1048, 0.006397750882378348), (1049, 0.004379884390057011), (1050, 0.011107904812121556), (1051, 0.0), (1052, 0.01986102182481821), (1053, 0.014837349408068726), (1054, 0.0), (1055, 0.0), (1056, 0.0), (1057, 0.0), (1058, 0.010486349695375806), (1059, 0.024992099239510457), (1060, 0.003603480985221404), (1061, 0.008225775017168977), (1062, 0.0), (1063, 0.031159564340801565), (1064, 0.015266845883841508), (1065, 0.0034691472976990595), (1066, 0.0), (1067, 0.0), (1068, 0.0287383797220047), (1069, 0.007135941563131436), (1070, 0.04661290400511768), (1071, 0.003886845468305648), (1072, 0.0), (1073, 0.0), (1074, 0.014740413465869122), (1075, 0.009999377646145535), (1076, 0.0), (1077, 0.010078879825883475), (1078, 0.003189347252562698), (1079, 0.0034361025311263533), (1080, 0.0033683132556038696), (1081, 0.0), (1082, 0.0), (1083, 0.00384122197744771), (1084, 0.003560435886012141), (1085, 0.037651922955996855), (1086, 0.0), (1087, 0.006146600329746246), (1088, 0.0032167751995355715), (1089, 0.0), (1090, 0.010832780498579534), (1091, 0.0), (1092, 0.0), (1093, 0.0), (1094, 0.006408279580133311), (1095, 0.02843503512017144), (1096, 0.005991634857819858), (1097, 0.0), (1098, 0.0), (1099, 0.006796306109233247), (1100, 0.0), (1101, 0.0), (1102, 0.0037223432847900543), (1103, 0.0), (1104, 0.0), (1105, 0.0), (1106, 0.0), (1107, 0.003462218517042728), (1108, 0.0), (1109, 0.004147961237801971), (1110, 0.0), (1111, 0.006248117716703152), (1112, 0.014706707811841071), (1113, 0.0), (1114, 0.011484239276600885), (1115, 0.007541801105045006), (1116, 0.015693380200495023), (1117, 0.0), (1118, 0.06232559212108625), (1119, 0.013813323445753454), (1120, 0.0), (1121, 0.0), (1122, 0.0038340880313551145), (1123, 0.003641132233428609), (1124, 0.00650888947012324), (1125, 0.009217990655017457), (1126, 0.0), (1127, 0.0), (1128, 0.014854876632306464), (1129, 0.012294899928794706), (1130, 0.0), (1131, 0.0037957998479662435), (1132, 0.02041439098903301), (1133, 0.0), (1134, 0.05499820976290373), (1135, 0.0), (1136, 0.008897993810106544), (1137, 0.019012104396995994), (1138, 0.0036769363992781704), (1139, 0.0), (1140, 0.003861700402914815), (1141, 0.020555550248908344), (1142, 0.0), (1143, 0.0), (1144, 0.005048612003253933), (1145, 0.0), (1146, 0.03012139890719629), (1147, 0.0), (1148, 0.010027288945568197), (1149, 0.0), (1150, 0.0), (1151, 0.0), (1152, 0.013909984865496567), (1153, 0.0), (1154, 0.0), (1155, 0.0), (1156, 0.0), (1157, 0.011455509578586565), (1158, 0.0), (1159, 0.0), (1160, 0.012529367430933084), (1161, 0.0036399597359014803), (1162, 0.01368738557271381), (1163, 0.003770972018819213), (1164, 0.0), (1165, 0.0), (1166, 0.0), (1167, 0.0), (1168, 0.0), (1169, 0.0), (1170, 0.003672626577927688), (1171, 0.0), (1172, 0.006423496739009242), (1173, 0.019587889505678024), (1174, 0.0), (1175, 0.018723753488293395), (1176, 0.003812873072239142), (1177, 0.0035367554100722213), (1178, 0.0), (1179, 0.0037909426667526456), (1180, 0.0), (1181, 0.0), (1182, 0.010629575542107196), (1183, 0.011930443741645565), (1184, 0.014176464643499257), (1185, 0.009037521924613247), (1186, 0.025991403120667243), (1187, 0.004352099800905719), (1188, 0.003971661432899527), (1189, 0.0), (1190, 0.0), (1191, 0.0037225436400459074), (1192, 0.010115457401886047), (1193, 0.0), (1194, 0.005455364807246986), (1195, 0.0326942736945909), (1196, 0.0), (1197, 0.0), (1198, 0.0), (1199, 0.0033325819682980327), (1200, 0.0), (1201, 0.0), (1202, 0.015800924471871227), (1203, 0.0), (1204, 0.0), (1205, 0.0), (1206, 0.00935131328808642), (1207, 0.0), (1208, 0.004548675156639527), (1209, 0.0034308323748892125), (1210, 0.0), (1211, 0.0), (1212, 0.0), (1213, 0.0), (1214, 0.0), (1215, 0.008626565449165811), (1216, 0.016823696036736387), (1217, 0.0034773890429542595), (1218, 0.0), (1219, 0.003374786405578657), (1220, 0.009446879512136797), (1221, 0.0), (1222, 0.0), (1223, 0.0038044778715326443), (1224, 0.013329410014484372), (1225, 0.003959287022362346), (1226, 0.0061552338387390396), (1227, 0.0), (1228, 0.0), (1229, 0.003907190790300501), (1230, 0.008457876352421545), (1231, 0.00852295952553623), (1232, 0.012780976454561919), (1233, 0.0), (1234, 0.009146403680034906), (1235, 0.0), (1236, 0.008070444072351815), (1237, 0.011132212382045158), (1238, 0.006186731479104556), (1239, 0.012543147062274036), (1240, 0.0), (1241, 0.038660893051306135), (1242, 0.0), (1243, 0.053096430003057304), (1244, 0.0), (1245, 0.018141267850498265), (1246, 0.0), (1247, 0.003639557844272417), (1248, 0.04137751588618972), (1249, 0.011163980292075014), (1250, 0.006416834969237531), (1251, 0.003313181814374732), (1252, 0.012641092696744452), (1253, 0.0), (1254, 0.013117125784640277), (1255, 0.009439997026022377), (1256, 0.0), (1257, 0.01594885840382744), (1258, 0.0), (1259, 0.0), (1260, 0.0), (1261, 0.020588147365939787), (1262, 0.006405285940141728), (1263, 0.0), (1264, 0.004587471937345869), (1265, 0.0), (1266, 0.006533043818100308), (1267, 0.0058523803825087485), (1268, 0.0), (1269, 0.0), (1270, 0.016245933685208137), (1271, 0.0), (1272, 0.029258781681516726), (1273, 0.0034026148319021656), (1274, 0.017047369211396466), (1275, 0.013991650333335937), (1276, 0.006614054128701512), (1277, 0.0), (1278, 0.014393994636618335), (1279, 0.005240780945842329), (1280, 0.0), (1281, 0.0), (1282, 0.0), (1283, 0.025114633265967974), (1284, 0.0), (1285, 0.0), (1286, 0.0038752696269623633), (1287, 0.0), (1288, 0.0), (1289, 0.0), (1290, 0.011132289298243666), (1291, 0.0), (1292, 0.03955745717133853), (1293, 0.012050886936231606), (1294, 0.0), (1295, 0.0), (1296, 0.0), (1297, 0.0), (1298, 0.0), (1299, 0.0), (1300, 0.0073676570591043634), (1301, 0.0), (1302, 0.006269061689062126), (1303, 0.003015139805316056), (1304, 0.0), (1305, 0.0030903675503261073), (1306, 0.007339233947179438), (1307, 0.005952320082634654), (1308, 0.009284043803934595), (1309, 0.0), (1310, 0.011603462769513958), (1311, 0.03977574354604475), (1312, 0.0055779023349414834), (1313, 0.0036740090131864526), (1314, 0.02232459652157416), (1315, 0.0), (1316, 0.005724155894227564), (1317, 0.012662791811060236), (1318, 0.0033069308198840175), (1319, 0.0), (1320, 0.04246557303614283), (1321, 0.0), (1322, 0.0), (1323, 0.0), (1324, 0.003926118637913383), (1325, 0.004160422073783943), (1326, 0.0), (1327, 0.0059035652032675846), (1328, 0.0), (1329, 0.00610615635698654), (1330, 0.0), (1331, 0.013893614625477729), (1332, 0.0), (1333, 0.0), (1334, 0.012492251296617182), (1335, 0.003797919697686643), (1336, 0.0), (1337, 0.012278297237720975), (1338, 0.0037070128166830636), (1339, 0.009052277838383721), (1340, 0.0034679718599189076), (1341, 0.07717392157086962), (1342, 0.012568193892735354), (1343, 0.010328090800264828), (1344, 0.0), (1345, 0.006376898357406536), (1346, 0.0), (1347, 0.0), (1348, 0.007881962483207145), (1349, 0.004110495877261438), (1350, 0.003964492580592975), (1351, 0.022138298573859037), (1352, 0.0033137081805464375), (1353, 0.0), (1354, 0.0), (1355, 0.0), (1356, 0.003121646209336396), (1357, 0.0034807166511366507), (1358, 0.041346629634441134), (1359, 0.006512723499510722), (1360, 0.011939429404648918), (1361, 0.015378112771317301), (1362, 0.0), (1363, 0.0), (1364, 0.003947215663627193), (1365, 0.018372271133671257), (1366, 0.0), (1367, 0.029534600668867348), (1368, 0.0), (1369, 0.03727415873426404), (1370, 0.003225527873621232), (1371, 0.00957054639983264), (1372, 0.003488023338861938), (1373, 0.0), (1374, 0.006134071493539366), (1375, 0.0034922369071192306), (1376, 0.012227542181032228), (1377, 0.01608167197516316), (1378, 0.003693926359652815), (1379, 0.034199778855176874), (1380, 0.0), (1381, 0.0), (1382, 0.010483217382556403), (1383, 0.0813458431259538), (1384, 0.013529009522546778), (1385, 0.017854291038061916), (1386, 0.017483292358495522), (1387, 0.01106881943557811), (1388, 0.009320922232145605), (1389, 0.03467728117936206), (1390, 0.0), (1391, 0.0), (1392, 0.0), (1393, 0.0353900263539787), (1394, 0.00323184357736905), (1395, 0.0), (1396, 0.006373246277033537), (1397, 0.02129271278300535), (1398, 0.03130589449922979), (1399, 0.0), (1400, 0.00387885875922871), (1401, 0.012985401642111101), (1402, 0.0), (1403, 0.01739122009801541), (1404, 0.0), (1405, 0.02947020532552297), (1406, 0.008715865555429945), (1407, 0.00647398416682794), (1408, 0.0036282044513429985), (1409, 0.0), (1410, 0.003760254954991335), (1411, 0.0), (1412, 0.019986146071083434), (1413, 0.01024077818404051), (1414, 0.0032724546557424475), (1415, 0.0031809321636164884), (1416, 0.0), (1417, 0.014771714264830258), (1418, 0.009805577051881733), (1419, 0.008881197370332753), (1420, 0.006161704383061442), (1421, 0.0036435971175207763), (1422, 0.003675028882557065), (1423, 0.003302599935611344), (1424, 0.0), (1425, 0.006051217661671703), (1426, 0.0), (1427, 0.0034152523673411693), (1428, 0.0), (1429, 0.004426209969535897), (1430, 0.0), (1431, 0.0), (1432, 0.0093730323860662), (1433, 0.0), (1434, 0.0), (1435, 0.0), (1436, 0.008938571568867907), (1437, 0.0), (1438, 0.0036212714271144477), (1439, 0.0), (1440, 0.008853117226043912), (1441, 0.0), (1442, 0.00730051197522418), (1443, 0.012802520263878863), (1444, 0.0), (1445, 0.01560381937267665), (1446, 0.00964770089770601), (1447, 0.0), (1448, 0.0035788317999994055), (1449, 0.0), (1450, 0.0), (1451, 0.0), (1452, 0.0), (1453, 0.005284316699600491), (1454, 0.003950480685552301), (1455, 0.00876162456390698), (1456, 0.0), (1457, 0.0), (1458, 0.0), (1459, 0.0), (1460, 0.0), (1461, 0.006334019764356985), (1462, 0.0034254184878020994), (1463, 0.00392832270564878), (1464, 0.030316679527595817), (1465, 0.010955623702330471), (1466, 0.0), (1467, 0.0), (1468, 0.0), (1469, 0.0), (1470, 0.0), (1471, 0.019041132971720706), (1472, 0.0036751652778347107), (1473, 0.0), (1474, 0.004081101034194675), (1475, 0.010324341388568109), (1476, 0.0037021474710995953), (1477, 0.009104512782271253), (1478, 0.003531747759336191), (1479, 0.0), (1480, 0.0), (1481, 0.0035699302667946287), (1482, 0.029188454351301796), (1483, 0.0036563120184069753), (1484, 0.0), (1485, 0.0), (1486, 0.006851120900473863), (1487, 0.0), (1488, 0.0036791608139208373), (1489, 0.004248304548395754), (1490, 0.0), (1491, 0.0), (1492, 0.020804197524067862), (1493, 0.01184414965984015), (1494, 0.006336597494822926), (1495, 0.0), (1496, 0.0), (1497, 0.0), (1498, 0.00432161357078837), (1499, 0.0), (1500, 0.023418524218254813), (1501, 0.006269585509345804), (1502, 0.0), (1503, 0.0034164672394538377), (1504, 0.0), (1505, 0.02182888650267572), (1506, 0.04119330770009331), (1507, 0.0), (1508, 0.0), (1509, 0.00695956991238211), (1510, 0.015643287350205606), (1511, 0.0), (1512, 0.015105156333574532), (1513, 0.00399592515445048), (1514, 0.009399120827011158), (1515, 0.020973213751130704), (1516, 0.0), (1517, 0.0), (1518, 0.004008396366025897), (1519, 0.009518468720580996), (1520, 0.0), (1521, 0.0), (1522, 0.0), (1523, 0.01493998207588212), (1524, 0.0), (1525, 0.0), (1526, 0.006191248200788654), (1527, 0.03794586518386789), (1528, 0.0), (1529, 0.0), (1530, 0.0), (1531, 0.0), (1532, 0.0), (1533, 0.0037510951992792167), (1534, 0.0), (1535, 0.0), (1536, 0.0), (1537, 0.003986084245345789), (1538, 0.005740706436787913), (1539, 0.008985003115166604), (1540, 0.0), (1541, 0.0), (1542, 0.008922610992510113), (1543, 0.003400847067610206), (1544, 0.025489098824972096), (1545, 0.0), (1546, 0.0), (1547, 0.004349403978789484), (1548, 0.0), (1549, 0.0), (1550, 0.0), (1551, 0.0062479711935947545), (1552, 0.0060641042817382125), (1553, 0.005468802635089678), (1554, 0.0), (1555, 0.0), (1556, 0.0), (1557, 0.0), (1558, 0.003627035221922409), (1559, 0.0), (1560, 0.0), (1561, 0.0), (1562, 0.0), (1563, 0.0), (1564, 0.0), (1565, 0.0033795243607600434), (1566, 0.0), (1567, 0.005666022714901487), (1568, 0.030576936251757787), (1569, 0.0), (1570, 0.003991794266475069), (1571, 0.005542339842628269), (1572, 0.015761052100360134), (1573, 0.0), (1574, 0.0), (1575, 0.0), (1576, 0.0), (1577, 0.0), (1578, 0.0), (1579, 0.01637538642726302), (1580, 0.0), (1581, 0.0), (1582, 0.0035146025265790333), (1583, 0.006771163066395372), (1584, 0.0), (1585, 0.024763409792078698), (1586, 0.0), (1587, 0.0), (1588, 0.0), (1589, 0.0), (1590, 0.0), (1591, 0.009884857948337392), (1592, 0.0), (1593, 0.0), (1594, 0.0), (1595, 0.01144263807479688), (1596, 0.0), (1597, 0.0035993025519693326), (1598, 0.0036302055478271296), (1599, 0.0), (1600, 0.0), (1601, 0.0), (1602, 0.0), (1603, 0.0), (1604, 0.0), (1605, 0.0034367002986622347), (1606, 0.0), (1607, 0.0), (1608, 0.0035015201464957384), (1609, 0.016503959378870642), (1610, 0.0), (1611, 0.0), (1612, 0.006194457782488939), (1613, 0.0), (1614, 0.0), (1615, 0.0), (1616, 0.0032743437085364243), (1617, 0.0), (1618, 0.0), (1619, 0.010335815764741295), (1620, 0.003677630778358144), (1621, 0.012381129810705965), (1622, 0.0), (1623, 0.0), (1624, 0.0031170416920500324), (1625, 0.0), (1626, 0.0), (1627, 0.00338250816636521), (1628, 0.003597484026291738), (1629, 0.018801976548011468), (1630, 0.008267208641332523), (1631, 0.0), (1632, 0.0), (1633, 0.0), (1634, 0.003662126570634793), (1635, 0.0), (1636, 0.0), (1637, 0.0), (1638, 0.0), (1639, 0.0), (1640, 0.0), (1641, 0.0), (1642, 0.0), (1643, 0.0038771068817563823), (1644, 0.0062212259838310205), (1645, 0.003821369779810578), (1646, 0.0), (1647, 0.04179019935306566), (1648, 0.030083480357834317), (1649, 0.0), (1650, 0.005706051039527366), (1651, 0.0), (1652, 0.020997539057166465), (1653, 0.0037067446114991626), (1654, 0.01189894878870925), (1655, 0.012362760417628706), (1656, 0.0), (1657, 0.0), (1658, 0.01160776853771699), (1659, 0.0), (1660, 0.0), (1661, 0.0), (1662, 0.005829779356871765), (1663, 0.0), (1664, 0.005859291843286879), (1665, 0.011986879649931184), (1666, 0.0036303095656221645), (1667, 0.003592538656447698), (1668, 0.0), (1669, 0.0), (1670, 0.0), (1671, 0.021223456479639812), (1672, 0.0), (1673, 0.0), (1674, 0.009845773417721486), (1675, 0.038605880591571655), (1676, 0.036550733567442636), (1677, 0.0030212382275475263), (1678, 0.009993355681673071), (1679, 0.0), (1680, 0.008185950327376991), (1681, 0.0), (1682, 0.015177399279512555), (1683, 0.0), (1684, 0.005641138507204858), (1685, 0.010727409621856674), (1686, 0.0), (1687, 0.00400941819009056), (1688, 0.006435917891544071), (1689, 0.0), (1690, 0.009007106158152433), (1691, 0.0), (1692, 0.00610020655333074), (1693, 0.0036560428515872005), (1694, 0.007723967300006688), (1695, 0.004960645979833712), (1696, 0.006121885163268916), (1697, 0.0), (1698, 0.0), (1699, 0.0), (1700, 0.0), (1701, 0.004906303819169372), (1702, 0.03440564272950907), (1703, 0.00397644703256301), (1704, 0.0), (1705, 0.009532234016706487), (1706, 0.003677201335766934), (1707, 0.02125725855685978), (1708, 0.007167114705730063), (1709, 0.0), (1710, 0.009714265215003962), (1711, 0.004574946131045153), (1712, 0.006919911881675326), (1713, 0.007298425352073793), (1714, 0.011552232141558224), (1715, 0.005679952042418795), (1716, 0.01370558468486439), (1717, 0.0037504377187499317), (1718, 0.006663251550867472), (1719, 0.003360123847980295), (1720, 0.026256143599770566), (1721, 0.012221632166594644), (1722, 0.0038339390734926067), (1723, 0.005863627610998548), (1724, 0.0), (1725, 0.0), (1726, 0.0), (1727, 0.00930218340498022), (1728, 0.0), (1729, 0.0), (1730, 0.00992542003482418), (1731, 0.0), (1732, 0.0), (1733, 0.0), (1734, 0.0), (1735, 0.009272270298771396), (1736, 0.009412785023736955), (1737, 0.00659710264746105), (1738, 0.0), (1739, 0.011485814574896527), (1740, 0.003744187686792893), (1741, 0.014530636200448454), (1742, 0.0), (1743, 0.008426398690690192), (1744, 0.003534842933359825), (1745, 0.0), (1746, 0.005849200858437633), (1747, 0.007880814579366765), (1748, 0.004304566848083178), (1749, 0.02286370764512582), (1750, 0.03176023152734208), (1751, 0.0), (1752, 0.012210340137298653), (1753, 0.0), (1754, 0.009649595332284468), (1755, 0.0), (1756, 0.0), (1757, 0.023237569072937413), (1758, 0.0), (1759, 0.014961250936879458), (1760, 0.00343164512013807), (1761, 0.006393704266044299), (1762, 0.008965322531332316), (1763, 0.02735923750881085), (1764, 0.008894003345368209), (1765, 0.0), (1766, 0.0), (1767, 0.0), (1768, 0.003718496052168974), (1769, 0.0), (1770, 0.006988637843490415), (1771, 0.0), (1772, 0.0), (1773, 0.00627039973082657), (1774, 0.014461246302318828), (1775, 0.0), (1776, 0.008172718063000206), (1777, 0.0), (1778, 0.0), (1779, 0.01024173202490196), (1780, 0.0), (1781, 0.0), (1782, 0.0035862515688681058), (1783, 0.0), (1784, 0.0), (1785, 0.0), (1786, 0.0), (1787, 0.011643440068121031), (1788, 0.023417446862372408), (1789, 0.0), (1790, 0.007451690138535221), (1791, 0.0), (1792, 0.0), (1793, 0.005978721581259062), (1794, 0.0), (1795, 0.030120345176544557), (1796, 0.0035530197874826305), (1797, 0.008250318423686299), (1798, 0.010882098521846125), (1799, 0.006933678663723955), (1800, 0.0), (1801, 0.0), (1802, 0.012739144304659448), (1803, 0.0), (1804, 0.0), (1805, 0.0), (1806, 0.010109741997900922), (1807, 0.006137633871941602), (1808, 0.0), (1809, 0.04800604499409121), (1810, 0.0), (1811, 0.0), (1812, 0.006780834800184142), (1813, 0.003581091459937747), (1814, 0.0), (1815, 0.010086560021885821), (1816, 0.007907071356667052), (1817, 0.016192724346573102), (1818, 0.005857232263280463), (1819, 0.0035453734336019062), (1820, 0.0), (1821, 0.04733057406950498), (1822, 0.004065111847046713), (1823, 0.0), (1824, 0.0), (1825, 0.0), (1826, 0.0), (1827, 0.003410096933583783), (1828, 0.003181835703550817), (1829, 0.0), (1830, 0.0033478877868222904), (1831, 0.0), (1832, 0.00913649059602398), (1833, 0.005832186680875796), (1834, 0.0), (1835, 0.0), (1836, 0.0), (1837, 0.03201009581891258), (1838, 0.01557160728365381), (1839, 0.0), (1840, 0.0), (1841, 0.0067020805803244135), (1842, 0.0), (1843, 0.014207964695811544), (1844, 0.0), (1845, 0.023148656759047627), (1846, 0.0), (1847, 0.01803718320421806), (1848, 0.0), (1849, 0.006136346376479242), (1850, 0.04233392197274075), (1851, 0.003966031182737786), (1852, 0.006155842767343843), (1853, 0.013142204080760722), (1854, 0.00826064123263184), (1855, 0.0), (1856, 0.0), (1857, 0.0), (1858, 0.009466127625544267), (1859, 0.0), (1860, 0.0063152557614896), (1861, 0.020224758491197033), (1862, 0.0), (1863, 0.005410975850823097), (1864, 0.009507931640787854), (1865, 0.01941951698855973), (1866, 0.004005571770876432), (1867, 0.006151576897682902), (1868, 0.030420274919724967), (1869, 0.0033753158224590534), (1870, 0.011252547527929516), (1871, 0.040962730035055045), (1872, 0.01569253726848143), (1873, 0.00626803939415551), (1874, 0.009357390163306079), (1875, 0.009100439741183484), (1876, 0.010483848182741945), (1877, 0.0), (1878, 0.04785816695170759), (1879, 0.0), (1880, 0.014804807313627828), (1881, 0.0), (1882, 0.003681061412488587), (1883, 0.0), (1884, 0.003508827016536017), (1885, 0.03433352019007693), (1886, 0.067174259060718), (1887, 0.0), (1888, 0.0), (1889, 0.0), (1890, 0.0), (1891, 0.0036584456920920956), (1892, 0.0036395883534245583), (1893, 0.0039803381842809975), (1894, 0.0), (1895, 0.013985329766178787), (1896, 0.004027427114282582), (1897, 0.010829345530888285), (1898, 0.0), (1899, 0.0), (1900, 0.0), (1901, 0.0), (1902, 0.0038692492931737795), (1903, 0.005693983328227994), (1904, 0.0), (1905, 0.004039460321391907), (1906, 0.0146859257533795), (1907, 0.004005871120524593), (1908, 0.00639757513262375), (1909, 0.004291061654801143), (1910, 0.0), (1911, 0.006449888207801162), (1912, 0.0), (1913, 0.006054978381891238), (1914, 0.0), (1915, 0.0), (1916, 0.003979154520239049), (1917, 0.0), (1918, 0.003925777704061014), (1919, 0.012239874938960237), (1920, 0.008985177008065396), (1921, 0.0), (1922, 0.008943890949809226), (1923, 0.004071434341067355), (1924, 0.004128532623898026), (1925, 0.0), (1926, 0.0), (1927, 0.014758211144249885), (1928, 0.0), (1929, 0.0), (1930, 0.0), (1931, 0.003807310869258114), (1932, 0.0), (1933, 0.0), (1934, 0.008943298391312793), (1935, 0.02219045664126484), (1936, 0.006305430087786056), (1937, 0.008654757524009689), (1938, 0.0), (1939, 0.0), (1940, 0.0), (1941, 0.0), (1942, 0.019304374891966302), (1943, 0.0032003487431303225), (1944, 0.0), (1945, 0.01516123981170903), (1946, 0.003880614877364649), (1947, 0.004353213609204302), (1948, 0.008890677672108346), (1949, 0.00911839321229669), (1950, 0.00834604681455713), (1951, 0.010559684480975854), (1952, 0.0), (1953, 0.0), (1954, 0.0), (1955, 0.0), (1956, 0.0), (1957, 0.010537224394864972), (1958, 0.0), (1959, 0.0), (1960, 0.00393309085888133), (1961, 0.0), (1962, 0.0), (1963, 0.0), (1964, 0.0033508573815426903), (1965, 0.0), (1966, 0.0), (1967, 0.012677475509606384), (1968, 0.004154577961484482), (1969, 0.0037129728214822695), (1970, 0.02363683048252821), (1971, 0.011135887155608513), (1972, 0.0), (1973, 0.0), (1974, 0.0), (1975, 0.0), (1976, 0.025411098050886333), (1977, 0.07537861825634712), (1978, 0.0), (1979, 0.0), (1980, 0.0), (1981, 0.0), (1982, 0.03326191839678875), (1983, 0.0037648346346593723), (1984, 0.0), (1985, 0.01904147240178907), (1986, 0.006222022283687611), (1987, 0.0), (1988, 0.011944588053132376), (1989, 0.003023870216636428), (1990, 0.024160236564772335), (1991, 0.0), (1992, 0.008281699695740642), (1993, 0.0), (1994, 0.08144186697343063), (1995, 0.0044436102806826834), (1996, 0.016238045440271163), (1997, 0.013649980051440476), (1998, 0.0), (1999, 0.026066743856866702), (2000, 0.01326860831856243), (2001, 0.0), (2002, 0.0), (2003, 0.0), (2004, 0.003541146449852111), (2005, 0.011530647123605943), (2006, 0.0), (2007, 0.0), (2008, 0.009874158380024608), (2009, 0.0), (2010, 0.0030736528487980766), (2011, 0.024941048770517775), (2012, 0.035089579505028085), (2013, 0.02376121133848689), (2014, 0.03325061809077769), (2015, 0.0), (2016, 0.013291218879617279), (2017, 0.0), (2018, 0.019731665503076496), (2019, 0.0), (2020, 0.02661010582281347), (2021, 0.0), (2022, 0.0051319832020770605), (2023, 0.025947955937296388), (2024, 0.012362786797810246), (2025, 0.0), (2026, 0.0569104816393293), (2027, 0.016036331926626155), (2028, 0.0), (2029, 0.003590757038672488), (2030, 0.0), (2031, 0.0033978820463384874), (2032, 0.0), (2033, 0.0), (2034, 0.0031696793876793013), (2035, 0.018174236250627453), (2036, 0.0), (2037, 0.02620693252512496), (2038, 0.0), (2039, 0.0031119680398722727), (2040, 0.020212378900794706), (2041, 0.0), (2042, 0.0), (2043, 0.0), (2044, 0.0), (2045, 0.009920350327257006), (2046, 0.0), (2047, 0.0), (2048, 0.0039339314291313736), (2049, 0.011213828200029134), (2050, 0.0), (2051, 0.011485145475242601), (2052, 0.012284997218110291), (2053, 0.013255282671346895), (2054, 0.0), (2055, 0.02263418118097102), (2056, 0.006098723091929035), (2057, 0.0), (2058, 0.00565867537984547), (2059, 0.0), (2060, 0.0), (2061, 0.003688078077569428), (2062, 0.005894860260396622), (2063, 0.0), (2064, 0.004607259431012568), (2065, 0.011053789179580872), (2066, 0.0), (2067, 0.003945005496740624), (2068, 0.003610694853465101), (2069, 0.003612448572136321), (2070, 0.01594526622474865), (2071, 0.0), (2072, 0.0), (2073, 0.0037369019577948464), (2074, 0.005568547628248342), (2075, 0.004737033537789369), (2076, 0.007485873593425452), (2077, 0.0), (2078, 0.0), (2079, 0.0), (2080, 0.009004882703390569), (2081, 0.0), (2082, 0.03615326223218119), (2083, 0.003882313111461168), (2084, 0.0), (2085, 0.0), (2086, 0.0), (2087, 0.009889226565354198), (2088, 0.003948341111640549), (2089, 0.004286194841507685), (2090, 0.0), (2091, 0.0038730989928387177), (2092, 0.0), (2093, 0.0), (2094, 0.005859455891114361), (2095, 0.00601666763582717), (2096, 0.01065161702394213), (2097, 0.01371061780175991), (2098, 0.005443617071356679), (2099, 0.0), (2100, 0.029870920224627374), (2101, 0.006877008144985985), (2102, 0.02938032429108735), (2103, 0.009719243670342968), (2104, 0.003953250436432129), (2105, 0.003912244584782795), (2106, 0.0), (2107, 0.0), (2108, 0.0041774718439600705), (2109, 0.006214193738489698), (2110, 0.014104670647504508), (2111, 0.0), (2112, 0.05897673138507571), (2113, 0.00530791925010902), (2114, 0.028712100252303883), (2115, 0.0), (2116, 0.010980207351050479), (2117, 0.003568668557351179), (2118, 0.0), (2119, 0.014013640547845603), (2120, 0.0), (2121, 0.009838878061357696), (2122, 0.037739761344411475), (2123, 0.03477640934743826), (2124, 0.0), (2125, 0.0), (2126, 0.009239017185028373), (2127, 0.0031631587841316386), (2128, 0.0), (2129, 0.0), (2130, 0.0), (2131, 0.003624224518198592), (2132, 0.0031539216690710916), (2133, 0.047263999803888665), (2134, 0.0043163080013295585), (2135, 0.0), (2136, 0.0), (2137, 0.0), (2138, 0.0), (2139, 0.0), (2140, 0.0), (2141, 0.0), (2142, 0.0), (2143, 0.009379844389145672), (2144, 0.01013014453824253), (2145, 0.011440972794550277), (2146, 0.0), (2147, 0.0), (2148, 0.0), (2149, 0.01745223099693851), (2150, 0.0), (2151, 0.0), (2152, 0.0), (2153, 0.0), (2154, 0.01205136561940686), (2155, 0.010063479130561156), (2156, 0.005534232218027804), (2157, 0.024966752633916428), (2158, 0.0), (2159, 0.004078677153362273), (2160, 0.006139004690546539), (2161, 0.0157864011268378), (2162, 0.0042193809300733395), (2163, 0.0), (2164, 0.0), (2165, 0.0), (2166, 0.0), (2167, 0.017340093492417594), (2168, 0.0), (2169, 0.0037340892362309544), (2170, 0.0), (2171, 0.0), (2172, 0.0), (2173, 0.0), (2174, 0.00978003628525462), (2175, 0.005892255271023452), (2176, 0.004164126357746437), (2177, 0.01285242245702627), (2178, 0.0), (2179, 0.0), (2180, 0.0), (2181, 0.0), (2182, 0.0), (2183, 0.0), (2184, 0.0), (2185, 0.005646400586412354), (2186, 0.0), (2187, 0.0), (2188, 0.004375691568349756), (2189, 0.0), (2190, 0.0), (2191, 0.047062460239960795), (2192, 0.0), (2193, 0.006296592999865006), (2194, 0.0), (2195, 0.0036331963032663053), (2196, 0.009344872320040986), (2197, 0.0053339695467361095), (2198, 0.029861296497183474), (2199, 0.004704795197696952), (2200, 0.0), (2201, 0.003465820505030529), (2202, 0.006073899359268226), (2203, 0.005727766766285535), (2204, 0.0), (2205, 0.005815130147419339), (2206, 0.008519222193445026), (2207, 0.0), (2208, 0.0), (2209, 0.006997119013187291), (2210, 0.0208455084138911), (2211, 0.008524289857265858), (2212, 0.03912170045868407), (2213, 0.0), (2214, 0.05139383028076094), (2215, 0.0), (2216, 0.01222091648729642), (2217, 0.0), (2218, 0.0), (2219, 0.0), (2220, 0.0), (2221, 0.02507564792816661), (2222, 0.0), (2223, 0.004087624754337737), (2224, 0.011623168269039176), (2225, 0.0), (2226, 0.003690534718164593), (2227, 0.0), (2228, 0.0), (2229, 0.004282793679232646), (2230, 0.003906489071106084), (2231, 0.0), (2232, 0.0), (2233, 0.0), (2234, 0.0), (2235, 0.009318997077894905), (2236, 0.005728679400377444), (2237, 0.018690067233905535), (2238, 0.0), (2239, 0.00615411998676692), (2240, 0.0033332653428590543), (2241, 0.0), (2242, 0.0038596322529828226), (2243, 0.0), (2244, 0.006717837371850316), (2245, 0.0), (2246, 0.0), (2247, 0.0), (2248, 0.0), (2249, 0.0), (2250, 0.012254850716171226), (2251, 0.005193711524066313), (2252, 0.0), (2253, 0.0), (2254, 0.013017138972357487), (2255, 0.004844559062704157), (2256, 0.0), (2257, 0.004815633554564352), (2258, 0.015845654377322795), (2259, 0.0), (2260, 0.00418519189310107), (2261, 0.0), (2262, 0.0), (2263, 0.0), (2264, 0.00797200282685808), (2265, 0.009181724474316918), (2266, 0.004504841352039066), (2267, 0.0), (2268, 0.0), (2269, 0.004270122217059198), (2270, 0.0), (2271, 0.0), (2272, 0.0), (2273, 0.0), (2274, 0.0), (2275, 0.011737685372040155), (2276, 0.01495388603530132), (2277, 0.01041947725210706), (2278, 0.0), (2279, 0.012580191777461114), (2280, 0.008625711837560892), (2281, 0.0), (2282, 0.0), (2283, 0.0), (2284, 0.008925135423372404), (2285, 0.005618570122453031), (2286, 0.004597623407953294), (2287, 0.0034353245815476737), (2288, 0.0), (2289, 0.00402312254704282), (2290, 0.014948279224281944), (2291, 0.005879130716563473), (2292, 0.0), (2293, 0.0), (2294, 0.048761826166302494), (2295, 0.0038022583691064756), (2296, 0.0), (2297, 0.0), (2298, 0.014590333682421542), (2299, 0.0), (2300, 0.0), (2301, 0.020647137565360914), (2302, 0.004223791158832708), (2303, 0.0065737826487448385), (2304, 0.0), (2305, 0.0), (2306, 0.007681778560562665), (2307, 0.0), (2308, 0.0), (2309, 0.006600324021109644), (2310, 0.0), (2311, 0.0), (2312, 0.0), (2313, 0.003733309158449419), (2314, 0.0), (2315, 0.0), (2316, 0.03697540786844065), (2317, 0.0), (2318, 0.058842599556840416), (2319, 0.0038639394485423524), (2320, 0.004336076933437825), (2321, 0.038445076823493615), (2322, 0.0), (2323, 0.0), (2324, 0.0), (2325, 0.0), (2326, 0.0), (2327, 0.0), (2328, 0.0), (2329, 0.0), (2330, 0.0), (2331, 0.0), (2332, 0.0), (2333, 0.0), (2334, 0.013245544160489418), (2335, 0.006195122217349196), (2336, 0.0), (2337, 0.0), (2338, 0.003341366411496087), (2339, 0.007044200538948882), (2340, 0.0), (2341, 0.0), (2342, 0.0), (2343, 0.0), (2344, 0.00396899541483667), (2345, 0.0), (2346, 0.00973808109082574), (2347, 0.01748043215732105), (2348, 0.0040508095610195865), (2349, 0.0050959156275301), (2350, 0.004795459943669427), (2351, 0.0), (2352, 0.0), (2353, 0.015411440468041855), (2354, 0.0), (2355, 0.003205019446349835), (2356, 0.0), (2357, 0.0), (2358, 0.0), (2359, 0.0031816483472386944), (2360, 0.0), (2361, 0.004067476899476646), (2362, 0.021138152933174954), (2363, 0.0), (2364, 0.0), (2365, 0.0337190037778338), (2366, 0.01361201791056862), (2367, 0.003459049320260956), (2368, 0.01758596248268904), (2369, 0.0), (2370, 0.0), (2371, 0.034993595384452424), (2372, 0.0), (2373, 0.0), (2374, 0.042213084203431867), (2375, 0.04094255086765678), (2376, 0.014707914904369863), (2377, 0.0), (2378, 0.0), (2379, 0.005161053352063444), (2380, 0.0), (2381, 0.0), (2382, 0.0), (2383, 0.0), (2384, 0.0), (2385, 0.0), (2386, 0.003876408215397326), (2387, 0.0), (2388, 0.004418364074326682), (2389, 0.0), (2390, 0.0040096811515030065), (2391, 0.004019969730514939), (2392, 0.0), (2393, 0.0038251073590487563), (2394, 0.004079612616255573), (2395, 0.0), (2396, 0.0), (2397, 0.003642953783067676), (2398, 0.0), (2399, 0.0034072474410291823), (2400, 0.00416070524117606), (2401, 0.0), (2402, 0.003591114228649706), (2403, 0.007164005154521739), (2404, 0.0), (2405, 0.0038362728813466952), (2406, 0.014991490812480843), (2407, 0.0049344352266487545), (2408, 0.0), (2409, 0.0), (2410, 0.0), (2411, 0.004232477569813291), (2412, 0.010787292883916638), (2413, 0.026775053685370843), (2414, 0.0), (2415, 0.004730862216009897), (2416, 0.0), (2417, 0.04361261661556162), (2418, 0.006782409988962053), (2419, 0.0), (2420, 0.0), (2421, 0.006310667426183895), (2422, 0.003717525195697145), (2423, 0.004816485981863357), (2424, 0.0), (2425, 0.0), (2426, 0.005705517082095291), (2427, 0.00436036193288769), (2428, 0.004449403730798263), (2429, 0.0), (2430, 0.003621474200637378), (2431, 0.0), (2432, 0.0), (2433, 0.0), (2434, 0.004431291892175998), (2435, 0.0), (2436, 0.010973328537361427), (2437, 0.004364488749852596), (2438, 0.004737452073045026), (2439, 0.0055759126264147444), (2440, 0.014651552068691422), (2441, 0.003083920208630599), (2442, 0.0), (2443, 0.02722006704949248), (2444, 0.0), (2445, 0.0), (2446, 0.0), (2447, 0.010771616396939247), (2448, 0.004766986971824981), (2449, 0.024027644299634818), (2450, 0.0), (2451, 0.0), (2452, 0.0), (2453, 0.0034882105757830548), (2454, 0.0), (2455, 0.0), (2456, 0.0), (2457, 0.0034614690562767576), (2458, 0.0), (2459, 0.004339968297905671), (2460, 0.012910641130575025), (2461, 0.003564696604274906), (2462, 0.0), (2463, 0.006302421249377439), (2464, 0.010432481659621316), (2465, 0.0), (2466, 0.0038596965527012755), (2467, 0.027920181540230175), (2468, 0.01041044284083852), (2469, 0.01966709294177757), (2470, 0.0), (2471, 0.0), (2472, 0.0), (2473, 0.009567017739929216), (2474, 0.012989207202282976), (2475, 0.004376440204413745), (2476, 0.0), (2477, 0.0039460361843665515), (2478, 0.004244699032733839), (2479, 0.0), (2480, 0.00611049734878709), (2481, 0.02553294038377899), (2482, 0.00351209077619484), (2483, 0.0), (2484, 0.024513441011613152), (2485, 0.0), (2486, 0.010157989828283602), (2487, 0.02498018345390489), (2488, 0.004454973337331126), (2489, 0.012761448862408337), (2490, 0.005286458355432078), (2491, 0.0), (2492, 0.003785463950240911), (2493, 0.0), (2494, 0.01026161749046274), (2495, 0.0), (2496, 0.0036266179273856678), (2497, 0.0), (2498, 0.0), (2499, 0.0), (2500, 0.0), (2501, 0.0), (2502, 0.0033575037086357624), (2503, 0.006226837038413852), (2504, 0.0), (2505, 0.007319951475884598), (2506, 0.0), (2507, 0.0), (2508, 0.0), (2509, 0.003253958115837199), (2510, 0.006996701977704121), (2511, 0.0), (2512, 0.01206695492385216), (2513, 0.017442018878231238), (2514, 0.0), (2515, 0.0), (2516, 0.0), (2517, 0.03090288923595247), (2518, 0.0), (2519, 0.0), (2520, 0.0033138468010586383), (2521, 0.0), (2522, 0.013482827889762485), (2523, 0.0), (2524, 0.010093333345514132), (2525, 0.0), (2526, 0.0031500026948211657), (2527, 0.0035260965418685802), (2528, 0.00356230697001744), (2529, 0.005366604539849316), (2530, 0.043402375925314), (2531, 0.0038987408560521557), (2532, 0.0), (2533, 0.0), (2534, 0.0017193568518605743), (2535, 0.004377180193602481), (2536, 0.0), (2537, 0.0), (2538, 0.06844829401915918), (2539, 0.0), (2540, 0.03481853106377632), (2541, 0.0), (2542, 0.0), (2543, 0.0), (2544, 0.0), (2545, 0.006860250575562519), (2546, 0.009455390784570174), (2547, 0.0), (2548, 0.0), (2549, 0.0), (2550, 0.04729497769388076), (2551, 0.0), (2552, 0.0), (2553, 0.01799393617999647), (2554, 0.0038648560965115343), (2555, 0.004076576628196596), (2556, 0.0035606555339826726), (2557, 0.0), (2558, 0.07686717692651969), (2559, 0.004902453281838046), (2560, 0.02371348251582266), (2561, 0.0), (2562, 0.0), (2563, 0.008385865623728934), (2564, 0.0), (2565, 0.006545613572872345), (2566, 0.0), (2567, 0.0), (2568, 0.013659415142523546), (2569, 0.0), (2570, 0.004379909935074374), (2571, 0.0), (2572, 0.006242256336987691), (2573, 0.0), (2574, 0.0), (2575, 0.0), (2576, 0.0), (2577, 0.0), (2578, 0.0), (2579, 0.047728021111385854), (2580, 0.0033080125735376734), (2581, 0.0), (2582, 0.019213979762882815), (2583, 0.0), (2584, 0.0), (2585, 0.0), (2586, 0.0), (2587, 0.005543918308786916), (2588, 0.0), (2589, 0.0), (2590, 0.0), (2591, 0.003351220956759912), (2592, 0.004122793074078068), (2593, 0.003654097084591285), (2594, 0.0), (2595, 0.0), (2596, 0.0), (2597, 0.0), (2598, 0.017421104279161936), (2599, 0.0), (2600, 0.0), (2601, 0.01063474652636829), (2602, 0.011109197365055307), (2603, 0.008536389554603918), (2604, 0.0), (2605, 0.0), (2606, 0.0037392721514231575), (2607, 0.01729947920082517), (2608, 0.0), (2609, 0.0038978893131991956), (2610, 0.0), (2611, 0.0033630711910593216), (2612, 0.003646634003737002), (2613, 0.0), (2614, 0.007854073734048127), (2615, 0.0), (2616, 0.0), (2617, 0.0074765888073513725), (2618, 0.014309396728665222), (2619, 0.0), (2620, 0.0), (2621, 0.02119886655745317), (2622, 0.0324898213388678), (2623, 0.004375698188655366), (2624, 0.0), (2625, 0.004274135382070296), (2626, 0.0), (2627, 0.0), (2628, 0.0), (2629, 0.004127307025918693), (2630, 0.04379058582461343), (2631, 0.0), (2632, 0.01008607518136043), (2633, 0.010551147859157516), (2634, 0.003602807349874517), (2635, 0.0), (2636, 0.0), (2637, 0.0), (2638, 0.02120398886517837), (2639, 0.014681205925888416), (2640, 0.00631756597788924), (2641, 0.0), (2642, 0.0036137823583997624), (2643, 0.005026937438269426), (2644, 0.014277410585190867), (2645, 0.01615903243502862), (2646, 0.021367859858900114), (2647, 0.018740096833500867), (2648, 0.0), (2649, 0.024106295950549358), (2650, 0.015479844442032906), (2651, 0.0), (2652, 0.003738710475541951), (2653, 0.04588880210069788), (2654, 0.015812059339913438), (2655, 0.0050640753966426245), (2656, 0.0), (2657, 0.0), (2658, 0.0), (2659, 0.0), (2660, 0.004157779264373597), (2661, 0.003865160834018002), (2662, 0.0), (2663, 0.0), (2664, 0.00424707437406695), (2665, 0.005223934632621953), (2666, 0.0), (2667, 0.0), (2668, 0.010220008589096014), (2669, 0.0), (2670, 0.0), (2671, 0.0), (2672, 0.0), (2673, 0.0), (2674, 0.0035734173671318724), (2675, 0.0), (2676, 0.0), (2677, 0.0), (2678, 0.005963735026045015), (2679, 0.0), (2680, 0.005864413814782432), (2681, 0.0), (2682, 0.0), (2683, 0.0), (2684, 0.0), (2685, 0.0), (2686, 0.0), (2687, 0.02897501735258394), (2688, 0.010918792399887464), (2689, 0.018437989852840727), (2690, 0.0), (2691, 0.006425028838880061), (2692, 1.0000000000000007), (2693, 0.0), (2694, 0.04424652483955801), (2695, 0.012595456310471374), (2696, 0.004377709947978056), (2697, 0.00309150644414737), (2698, 0.009749298914900487), (2699, 0.0), (2700, 0.0), (2701, 0.0), (2702, 0.00427573896572398), (2703, 0.0), (2704, 0.0), (2705, 0.004193117195382871), (2706, 0.03357826686784785), (2707, 0.0), (2708, 0.006521953523325544), (2709, 0.0), (2710, 0.02948963896445922), (2711, 0.0), (2712, 0.01709338146946916), (2713, 0.0), (2714, 0.003963642794775899), (2715, 0.0), (2716, 0.03726068348891466), (2717, 0.0), (2718, 0.024311478964135408), (2719, 0.0), (2720, 0.0), (2721, 0.0), (2722, 0.0), (2723, 0.029008369972604985), (2724, 0.0033364435776544557), (2725, 0.0), (2726, 0.0063814838917917085), (2727, 0.010751201145912347), (2728, 0.0), (2729, 0.0), (2730, 0.0), (2731, 0.004934398085887781), (2732, 0.00638405289843184), (2733, 0.0), (2734, 0.0), (2735, 0.0), (2736, 0.0), (2737, 0.0), (2738, 0.0), (2739, 0.009270916036749769), (2740, 0.011498137117716863), (2741, 0.003443672519085021), (2742, 0.01378933472661994), (2743, 0.003535210923703952), (2744, 0.010215509855658354), (2745, 0.018745323907579003), (2746, 0.0037888803783556442), (2747, 0.0033679984840676515), (2748, 0.004384737090583687), (2749, 0.0), (2750, 0.0), (2751, 0.028243880903761148), (2752, 0.008620084725894045), (2753, 0.0), (2754, 0.0), (2755, 0.004089354469089641), (2756, 0.0), (2757, 0.0), (2758, 0.0031190514714294817), (2759, 0.0067004403619212154), (2760, 0.018287557193816677), (2761, 0.0031499749379451745), (2762, 0.025932195333190224), (2763, 0.0), (2764, 0.00520115507893203), (2765, 0.0), (2766, 0.002970581865228925), (2767, 0.021446366669347378), (2768, 0.005127761776143857), (2769, 0.011509097630563356), (2770, 0.0), (2771, 0.0033530856909408033), (2772, 0.004415465730841662), (2773, 0.0), (2774, 0.005026096074833949), (2775, 0.005001962602261837), (2776, 0.003952148531824765), (2777, 0.018135610878145046), (2778, 0.004526899730206841), (2779, 0.003651435735686564), (2780, 0.009355669248334536), (2781, 0.0), (2782, 0.031937421552590134), (2783, 0.0), (2784, 0.012517081729921567), (2785, 0.0), (2786, 0.0), (2787, 0.0), (2788, 0.0), (2789, 0.005262270327048823), (2790, 0.0), (2791, 0.02535200287440726), (2792, 0.0), (2793, 0.0), (2794, 0.0), (2795, 0.016172174057650264), (2796, 0.004363410077675411), (2797, 0.004662582296560099), (2798, 0.010442703488440161), (2799, 0.0), (2800, 0.0034933007972658614), (2801, 0.0), (2802, 0.0036892003171656793), (2803, 0.00921576540434279), (2804, 0.0), (2805, 0.013019255720330846), (2806, 0.0), (2807, 0.030282415592052584), (2808, 0.018491534608859675), (2809, 0.007766900940747197), (2810, 0.0), (2811, 0.0), (2812, 0.010002859244746892), (2813, 0.0), (2814, 0.0), (2815, 0.0), (2816, 0.0065260437380288095), (2817, 0.0), (2818, 0.0), (2819, 0.0), (2820, 0.005481341766272962), (2821, 0.003994998641094189), (2822, 0.0), (2823, 0.01720075343597233), (2824, 0.0), (2825, 0.0), (2826, 0.0), (2827, 0.0), (2828, 0.0), (2829, 0.0), (2830, 0.004050669181548743), (2831, 0.009826068058127847), (2832, 0.0051436026950683915), (2833, 0.0), (2834, 0.004511719637006351), (2835, 0.0), (2836, 0.0), (2837, 0.0), (2838, 0.004635163571987027), (2839, 0.0), (2840, 0.0041414959089110795), (2841, 0.019029472009266434), (2842, 0.0), (2843, 0.006935058804116521), (2844, 0.008161800994171313), (2845, 0.0033654912674285125), (2846, 0.0), (2847, 0.0), (2848, 0.004451635278017181), (2849, 0.009932040103646714), (2850, 0.0), (2851, 0.0), (2852, 0.0), (2853, 0.0), (2854, 0.004083417211619377), (2855, 0.0), (2856, 0.0), (2857, 0.004385798096523084), (2858, 0.0), (2859, 0.040225799678974127), (2860, 0.0), (2861, 0.0), (2862, 0.0035106294830763956), (2863, 0.0), (2864, 0.0), (2865, 0.0), (2866, 0.0), (2867, 0.019239145901549366), (2868, 0.03356481818333164), (2869, 0.040122612492276215), (2870, 0.005190662502919889), (2871, 0.008271615389568845), (2872, 0.004369428007766744), (2873, 0.006861919748846573), (2874, 0.013670850796264226), (2875, 0.0), (2876, 0.028855450458469344), (2877, 0.0), (2878, 0.0038326109422164144), (2879, 0.004575951326075383), (2880, 0.0), (2881, 0.0042704417301520125), (2882, 0.0), (2883, 0.005012866262268816), (2884, 0.0), (2885, 0.017186250879746585), (2886, 0.012234444963781177), (2887, 0.030407540188810905), (2888, 0.004190400401974199), (2889, 0.004968546637546583), (2890, 0.004479295063741565), (2891, 0.0), (2892, 0.003535146382098334), (2893, 0.04486763318535192), (2894, 0.003890762642132453), (2895, 0.0), (2896, 0.0), (2897, 0.008538942631393305), (2898, 0.0), (2899, 0.0034822203645653964), (2900, 0.0), (2901, 0.004903649228231297), (2902, 0.0), (2903, 0.06136043162106507), (2904, 0.0037727659764491875), (2905, 0.0), (2906, 0.0), (2907, 0.0036036173557711746), (2908, 0.02698644777956972), (2909, 0.0), (2910, 0.012973035231497147), (2911, 0.003958533431794604), (2912, 0.0), (2913, 0.0076417263192748806), (2914, 0.004365686918786836), (2915, 0.011108219163805744), (2916, 0.0043263777227775975), (2917, 0.013015539280504845), (2918, 0.008673704296976316), (2919, 0.013053978925097035), (2920, 0.02816814978056164), (2921, 0.0), (2922, 0.0), (2923, 0.0), (2924, 0.00420126341024973), (2925, 0.010175791899610199), (2926, 0.003944905073675783), (2927, 0.0), (2928, 0.0), (2929, 0.005617822712543933), (2930, 0.0), (2931, 0.017037827068892474), (2932, 0.016580521643574188), (2933, 0.008780359535749235), (2934, 0.012819061464286673), (2935, 0.005906680681363041), (2936, 0.0071666938142639115), (2937, 0.0), (2938, 0.0), (2939, 0.010548055961301258), (2940, 0.0), (2941, 0.0), (2942, 0.00550673768783501), (2943, 0.004163274989649757), (2944, 0.047702507613144596), (2945, 0.003677452745464793), (2946, 0.0037514705217183406), (2947, 0.0), (2948, 0.0), (2949, 0.0), (2950, 0.0), (2951, 0.0), (2952, 0.0), (2953, 0.0), (2954, 0.0), (2955, 0.0), (2956, 0.0), (2957, 0.0), (2958, 0.0), (2959, 0.0), (2960, 0.0), (2961, 0.012585665332191472), (2962, 0.0), (2963, 0.0), (2964, 0.006572938831322446), (2965, 0.003644933152061149), (2966, 0.0046357897037434806), (2967, 0.0), (2968, 0.0), (2969, 0.013855029948647908), (2970, 0.0), (2971, 0.022066749467116398), (2972, 0.00373972337455234), (2973, 0.0), (2974, 0.004267644736455839), (2975, 0.008765876381769806), (2976, 0.003290747190275396), (2977, 0.010147716278555891), (2978, 0.009342868253558154), (2979, 0.0), (2980, 0.009863602632826705), (2981, 0.031889573143839965), (2982, 0.0), (2983, 0.0), (2984, 0.0), (2985, 0.005254824315247738), (2986, 0.004367292127366986), (2987, 0.0), (2988, 0.010422103812976997), (2989, 0.0052152323365175215), (2990, 0.0), (2991, 0.0), (2992, 0.005894309351369344), (2993, 0.0), (2994, 0.0), (2995, 0.020672479491204574), (2996, 0.013125403813306702), (2997, 0.0), (2998, 0.00535209573946284), (2999, 0.003950859093414042), (3000, 0.015162467402916765), (3001, 0.0), (3002, 0.0), (3003, 0.0), (3004, 0.03480635124072612), (3005, 0.0), (3006, 0.0), (3007, 0.0), (3008, 0.007144678935538314), (3009, 0.0), (3010, 0.022625732133994835), (3011, 0.0), (3012, 0.0044221916763052945), (3013, 0.004047860833033016), (3014, 0.003568345649387872), (3015, 0.004768987646928211), (3016, 0.0), (3017, 0.02843587812756739), (3018, 0.0), (3019, 0.015079826951520204), (3020, 0.0), (3021, 0.0), (3022, 0.0), (3023, 0.043722796068601404), (3024, 0.00312694951500246), (3025, 0.0), (3026, 0.0), (3027, 0.0034226790427437956), (3028, 0.0035244588702505538), (3029, 0.0), (3030, 0.0), (3031, 0.0), (3032, 0.004236875676982673), (3033, 0.006253305566658996), (3034, 0.0), (3035, 0.0), (3036, 0.0187273913750568), (3037, 0.004090454066447994), (3038, 0.0), (3039, 0.007033641238008275), (3040, 0.0), (3041, 0.0), (3042, 0.0), (3043, 0.013795715741881086), (3044, 0.004209599656703532), (3045, 0.024752596505057765), (3046, 0.005990917391951753), (3047, 0.0), (3048, 0.0), (3049, 0.0), (3050, 0.003586819116035277), (3051, 0.0051667720418251475), (3052, 0.0), (3053, 0.07776969822856042), (3054, 0.0), (3055, 0.0), (3056, 0.003178801032497781), (3057, 0.0), (3058, 0.0), (3059, 0.0), (3060, 0.0), (3061, 0.0), (3062, 0.004338400174834419), (3063, 0.0), (3064, 0.0), (3065, 0.00888274073152679), (3066, 0.006167648378655012), (3067, 0.009975133871028736), (3068, 0.0), (3069, 0.0), (3070, 0.008080011611280153), (3071, 0.0034534907016204814), (3072, 0.004486013255232765), (3073, 0.0), (3074, 0.004714278009026959), (3075, 0.003936835196337104), (3076, 0.004876076137498715), (3077, 0.0), (3078, 0.0), (3079, 0.0), (3080, 0.0), (3081, 0.004593139481678037), (3082, 0.0), (3083, 0.022375602417162112), (3084, 0.0), (3085, 0.005949606302221763), (3086, 0.013171070472187622), (3087, 0.0), (3088, 0.0), (3089, 0.0), (3090, 0.0), (3091, 0.044124754667280205), (3092, 0.0), (3093, 0.0), (3094, 0.011483329447141763), (3095, 0.015793354202986318), (3096, 0.008656669005592975), (3097, 0.003963451985854085), (3098, 0.015883109398260917), (3099, 0.0080422608004629), (3100, 0.0), (3101, 0.0), (3102, 0.0332124654914201), (3103, 0.0), (3104, 0.0), (3105, 0.0), (3106, 0.0), (3107, 0.0), (3108, 0.008844226444521373), (3109, 0.0), (3110, 0.00951474508710956), (3111, 0.01874596420048368), (3112, 0.004040257648603289), (3113, 0.0), (3114, 0.005871469101772042), (3115, 0.0), (3116, 0.004149510145771365), (3117, 0.0), (3118, 0.008566376963668692), (3119, 0.0121088817255724), (3120, 0.0034216934635041695), (3121, 0.0), (3122, 0.0036808814801360984), (3123, 0.00443069381311865), (3124, 0.0), (3125, 0.0038099567944302306), (3126, 0.0), (3127, 0.02790276577448155), (3128, 0.0), (3129, 0.012877007353404303), (3130, 0.0), (3131, 0.0), (3132, 0.0), (3133, 0.0), (3134, 0.0), (3135, 0.0), (3136, 0.0), (3137, 0.0033472869321402713), (3138, 0.0), (3139, 0.0), (3140, 0.004803637802751517), (3141, 0.0), (3142, 0.01203371324348504), (3143, 0.0), (3144, 0.0188159139346378), (3145, 0.0), (3146, 0.004095554458800917), (3147, 0.0034587817953771693), (3148, 0.004189850441543633), (3149, 0.0), (3150, 0.0), (3151, 0.009796866508325782), (3152, 0.008143042369572133), (3153, 0.01929393893094985), (3154, 0.025980054517434584), (3155, 0.008978185428130687), (3156, 0.023998351084066654), (3157, 0.027089551124300892), (3158, 0.0), (3159, 0.0), (3160, 0.0), (3161, 0.0), (3162, 0.0), (3163, 0.0), (3164, 0.005249076665164604), (3165, 0.0044115507241049064), (3166, 0.005022472644697465), (3167, 0.023775046882931628), (3168, 0.0), (3169, 0.0), (3170, 0.0036870959512774054), (3171, 0.012329536387501363), (3172, 0.0), (3173, 0.0), (3174, 0.0), (3175, 0.0), (3176, 0.0), (3177, 0.0), (3178, 0.005735318663945868), (3179, 0.0), (3180, 0.0), (3181, 0.0), (3182, 0.003809830682473247), (3183, 0.004052020802723125), (3184, 0.0038725181865632285), (3185, 0.0), (3186, 0.0), (3187, 0.0040814832881308225), (3188, 0.0), (3189, 0.0), (3190, 0.0), (3191, 0.0), (3192, 0.009601546009623447), (3193, 0.0), (3194, 0.003566721653829669), (3195, 0.0036595436913365166), (3196, 0.004128660511900141), (3197, 0.0), (3198, 0.0040411281740391995), (3199, 0.0029556906369092115), (3200, 0.003187473417366563), (3201, 0.0), (3202, 0.0), (3203, 0.04945999346131304), (3204, 0.0), (3205, 0.004968266911303906), (3206, 0.0), (3207, 0.0), (3208, 0.0), (3209, 0.0397205704848125), (3210, 0.013322396963206537), (3211, 0.0), (3212, 0.0), (3213, 0.012531164172700988), (3214, 0.0038486450811248264), (3215, 0.0054142859393827665), (3216, 0.0), (3217, 0.0), (3218, 0.010790541120885434), (3219, 0.004850084111757696), (3220, 0.003587272123729809), (3221, 0.0), (3222, 0.020274366895407722), (3223, 0.0), (3224, 0.0), (3225, 0.0), (3226, 0.014876993077771825), (3227, 0.003885176725672961), (3228, 0.01167958472605629), (3229, 0.0), (3230, 0.0), (3231, 0.0), (3232, 0.00830853466374091), (3233, 0.0038719968950500067), (3234, 0.004065693798762942), (3235, 0.004000804950521841), (3236, 0.0), (3237, 0.009861278467384302), (3238, 0.0), (3239, 0.0), (3240, 0.009479440313712029), (3241, 0.0038556045564401313), (3242, 0.0), (3243, 0.0), (3244, 0.005714578176240003), (3245, 0.009200586552133235), (3246, 0.005914082500761027), (3247, 0.0), (3248, 0.031177898125711603), (3249, 0.04218890129368439), (3250, 0.0), (3251, 0.0), (3252, 0.0), (3253, 0.013994344420697772), (3254, 0.0032400889194868195), (3255, 0.0335613734209439), (3256, 0.0074242802891505985), (3257, 0.005252806647211399), (3258, 0.00425166742925599), (3259, 0.009331435628953975), (3260, 0.024870066224112718), (3261, 0.0), (3262, 0.005129846234360379), (3263, 0.0), (3264, 0.006647212616275051), (3265, 0.006322646866984677), (3266, 0.0), (3267, 0.008163804888685912), (3268, 0.003740377594618617), (3269, 0.0), (3270, 0.0), (3271, 0.0), (3272, 0.0), (3273, 0.004070005758088888), (3274, 0.004316353993622751), (3275, 0.01543861448758671), (3276, 0.04228639626367812), (3277, 0.0), (3278, 0.0035149061321366063), (3279, 0.012921270963454379), (3280, 0.030647730573199354), (3281, 0.0), (3282, 0.004630824636763594), (3283, 0.0), (3284, 0.014863841578051653), (3285, 0.023312930978624885), (3286, 0.0), (3287, 0.0), (3288, 0.0062318053328463355), (3289, 0.0), (3290, 0.0), (3291, 0.005338095069706449), (3292, 0.0), (3293, 0.0035604799751423736), (3294, 0.04632961725062614), (3295, 0.014447214419042984), (3296, 0.004284539245489537), (3297, 0.01264700913050727), (3298, 0.003574552822104511), (3299, 0.012304059227649437), (3300, 0.0035335600002683962), (3301, 0.0031740197204175534), (3302, 0.004421869683077389), (3303, 0.003810001919821173), (3304, 0.0033841741228568018), (3305, 0.0), (3306, 0.01610323626872037), (3307, 0.0), (3308, 0.00434753266978498), (3309, 0.0060178882752882365), (3310, 0.0), (3311, 0.0034561672025159164), (3312, 0.009908622112886224), (3313, 0.029065194622605324), (3314, 0.0039039192625219964), (3315, 0.03456188736673738), (3316, 0.0078142613065548), (3317, 0.010337369673797472), (3318, 0.0033786420117685786), (3319, 0.02173489767054142), (3320, 0.0), (3321, 0.0), (3322, 0.0), (3323, 0.0), (3324, 0.0), (3325, 0.006081886135857149), (3326, 0.0039043165498930383), (3327, 0.003326887675709419), (3328, 0.014014658418937311), (3329, 0.005678593357562649), (3330, 0.0037556777131245796), (3331, 0.0032363709979047785), (3332, 0.0), (3333, 0.0), (3334, 0.052495666833078686), (3335, 0.0), (3336, 0.0), (3337, 0.0), (3338, 0.0), (3339, 0.0), (3340, 0.0), (3341, 0.0), (3342, 0.003473900227406354), (3343, 0.0), (3344, 0.023275730604383826), (3345, 0.0219423734433183), (3346, 0.009995404474172812), (3347, 0.0031551886136826), (3348, 0.0), (3349, 0.0039610521539709), (3350, 0.0), (3351, 0.03505992996888456), (3352, 0.020359126987493262), (3353, 0.003907954426365044), (3354, 0.0), (3355, 0.00443927975136574), (3356, 0.013621886139271969), (3357, 0.004445896961815376), (3358, 0.0), (3359, 0.004436709088772464), (3360, 0.014312850808388986), (3361, 0.0), (3362, 0.036775345613284015), (3363, 0.004535821803469342), (3364, 0.004339147188533366), (3365, 0.0026887652664633523), (3366, 0.0), (3367, 0.0), (3368, 0.0), (3369, 0.0), (3370, 0.01173845370719471), (3371, 0.0), (3372, 0.0), (3373, 0.009704915454919588), (3374, 0.013274903205742171), (3375, 0.014969259863746977), (3376, 0.02855418318007013), (3377, 0.02762777803009476), (3378, 0.0), (3379, 0.0035829692919639336), (3380, 0.0033387868206506666), (3381, 0.0), (3382, 0.00906296118406243), (3383, 0.0), (3384, 0.007167814548051905), (3385, 0.05387111863940713), (3386, 0.010368302945333963), (3387, 0.006789989883966456), (3388, 0.0038724464286502176), (3389, 0.00915453293328946), (3390, 0.0), (3391, 0.004142208175571388), (3392, 0.0), (3393, 0.0032809289821335106), (3394, 0.0), (3395, 0.0466331970494393), (3396, 0.0), (3397, 0.0), (3398, 0.0), (3399, 0.009478950547250684), (3400, 0.0), (3401, 0.0), (3402, 0.0036799896879883736), (3403, 0.018747454747891714), (3404, 0.0), (3405, 0.0), (3406, 0.004001506468702394), (3407, 0.009613145302293562), (3408, 0.043842267461939845), (3409, 0.008647697029718033), (3410, 0.005072921267175216), (3411, 0.0), (3412, 0.0), (3413, 0.0043598556654540835), (3414, 0.0), (3415, 0.0), (3416, 0.006224010222238472), (3417, 0.0041137160159159655), (3418, 0.007872045462707457), (3419, 0.0), (3420, 0.02802891064408252), (3421, 0.012771642812398135), (3422, 0.0), (3423, 0.007322003169309003), (3424, 0.0), (3425, 0.00421892738070991), (3426, 0.005968756109010398), (3427, 0.04155114708941075), (3428, 0.025693394098802787), (3429, 0.0), (3430, 0.03223151611639163), (3431, 0.0), (3432, 0.0), (3433, 0.018082918692178665), (3434, 0.0), (3435, 0.0037286654651121722), (3436, 0.0037637732208777685), (3437, 0.013288602084288892), (3438, 0.0), (3439, 0.0), (3440, 0.0), (3441, 0.0), (3442, 0.0), (3443, 0.0), (3444, 0.0), (3445, 0.003750850087076718), (3446, 0.01790514868944826), (3447, 0.026038064461536635), (3448, 0.0), (3449, 0.003920607067450784), (3450, 0.0594770762114164), (3451, 0.0), (3452, 0.0), (3453, 0.010094910230218785), (3454, 0.0), (3455, 0.0), (3456, 0.0043058140438519445), (3457, 0.006538241508153659), (3458, 0.00456970379325395), (3459, 0.0), (3460, 0.003476791651849551), (3461, 0.0), (3462, 0.015921401353758212), (3463, 0.034055807947516205), (3464, 0.0), (3465, 0.008335033571004), (3466, 0.013948202829812883), (3467, 0.0), (3468, 0.0), (3469, 0.01930212041761792), (3470, 0.029118934174342335), (3471, 0.01842093820447487), (3472, 0.0), (3473, 0.0), (3474, 0.003345176163117095), (3475, 0.0), (3476, 0.0), (3477, 0.0036715104769038127), (3478, 0.0), (3479, 0.004855198007573547), (3480, 0.07110712210258173), (3481, 0.0), (3482, 0.0), (3483, 0.019294155588771133), (3484, 0.0), (3485, 0.0), (3486, 0.03345110553708022), (3487, 0.0036336414450447805), (3488, 0.02460115342270755), (3489, 0.0), (3490, 0.0), (3491, 0.0), (3492, 0.02131755558543566), (3493, 0.003930442318672387), (3494, 0.0), (3495, 0.0), (3496, 0.003919209407999405), (3497, 0.0), (3498, 0.03257808456627991), (3499, 0.0), (3500, 0.0036974585967811165), (3501, 0.0038998793929406338), (3502, 0.0), (3503, 0.003502150538521574), (3504, 0.017867778344296495), (3505, 0.0), (3506, 0.0042106082245049236), (3507, 0.0), (3508, 0.012451087233034), (3509, 0.005465118770490963), (3510, 0.0), (3511, 0.037258550918553304), (3512, 0.006063712965017412), (3513, 0.0), (3514, 0.0), (3515, 0.0066870230296723985), (3516, 0.003837070535527167), (3517, 0.0), (3518, 0.04714818254649945), (3519, 0.0), (3520, 0.0), (3521, 0.004494545938366668), (3522, 0.0), (3523, 0.0), (3524, 0.011415821662990613), (3525, 0.0), (3526, 0.003837880096859474), (3527, 0.0040002449081503345), (3528, 0.016487914810938555), (3529, 0.0), (3530, 0.0), (3531, 0.0), (3532, 0.0), (3533, 0.0), (3534, 0.0031246888768787793), (3535, 0.010553008008658557), (3536, 0.006308683373008201), (3537, 0.0), (3538, 0.0), (3539, 0.0), (3540, 0.0), (3541, 0.01623555371511416), (3542, 0.0038247105158050656), (3543, 0.0), (3544, 0.0), (3545, 0.0), (3546, 0.002810668731267139), (3547, 0.0), (3548, 0.0), (3549, 0.0), (3550, 0.0), (3551, 0.00385438694147761), (3552, 0.04655819181476199), (3553, 0.019284047709895134), (3554, 0.0), (3555, 0.0), (3556, 0.029523135872267594), (3557, 0.0036694532283571917), (3558, 0.015610296382013129), (3559, 0.025367813278159252), (3560, 0.004245055544627484), (3561, 0.0), (3562, 0.0), (3563, 0.003468261345029345), (3564, 0.0038148993128465894), (3565, 0.0), (3566, 0.006146702502080547), (3567, 0.0), (3568, 0.0), (3569, 0.0033263114819393597), (3570, 0.0), (3571, 0.0037660255890588183), (3572, 0.0316304775973988), (3573, 0.0), (3574, 0.02814986343012733), (3575, 0.0032177425543796815), (3576, 0.0), (3577, 0.004423305835098287), (3578, 0.0), (3579, 0.00905474213458031), (3580, 0.014627751415987433), (3581, 0.0), (3582, 0.008531295820466685), (3583, 0.0), (3584, 0.0), (3585, 0.0), (3586, 0.009412171110599324), (3587, 0.0), (3588, 0.0), (3589, 0.0), (3590, 0.004262774832186441), (3591, 0.0), (3592, 0.0), (3593, 0.0), (3594, 0.006329998633695908), (3595, 0.0), (3596, 0.00653236043385094), (3597, 0.01482954916012926), (3598, 0.005657966805417146), (3599, 0.006481052051681221), (3600, 0.0), (3601, 0.004083152391641305), (3602, 0.0), (3603, 0.0), (3604, 0.0), (3605, 0.0), (3606, 0.0), (3607, 0.0), (3608, 0.0), (3609, 0.0), (3610, 0.0), (3611, 0.0), (3612, 0.013187116073748745), (3613, 0.0047320568626623176), (3614, 0.0034675750689892306), (3615, 0.0), (3616, 0.0), (3617, 0.0), (3618, 0.004115443071331887), (3619, 0.0), (3620, 0.00454059251052219), (3621, 0.0), (3622, 0.0), (3623, 0.003896719259543219), (3624, 0.003849861649351668), (3625, 0.0), (3626, 0.002902371010442762), (3627, 0.0), (3628, 0.0), (3629, 0.0), (3630, 0.013615330138393136), (3631, 0.0), (3632, 0.006317612118657848), (3633, 0.0), (3634, 0.00906584574519657), (3635, 0.004969309079608233), (3636, 0.0), (3637, 0.01121887358879839), (3638, 0.004494258013419987), (3639, 0.004156543967338661), (3640, 0.004180919538840042), (3641, 0.0036808166328248697), (3642, 0.009129592131057277), (3643, 0.010367093727296795), (3644, 0.0), (3645, 0.010406648090008387), (3646, 0.0035695818216957944), (3647, 0.0), (3648, 0.006450032781677157), (3649, 0.0), (3650, 0.0), (3651, 0.0), (3652, 0.03628495719722591), (3653, 0.0038203368889862498), (3654, 0.0038856291824629964), (3655, 0.05606166306517213), (3656, 0.02956671459704773), (3657, 0.0032641810550552105), (3658, 0.0), (3659, 0.009345675340716031), (3660, 0.003546452105852834), (3661, 0.007182531494259949), (3662, 0.0), (3663, 0.0), (3664, 0.0), (3665, 0.017249284717971727), (3666, 0.003857580411047451), (3667, 0.010510858057479682), (3668, 0.0), (3669, 0.0034989143199383693), (3670, 0.00895037117469076), (3671, 0.0), (3672, 0.0), (3673, 0.0037616562555499943), (3674, 0.0), (3675, 0.015383840442244282), (3676, 0.0), (3677, 0.0), (3678, 0.0), (3679, 0.0), (3680, 0.004307186242755194), (3681, 0.0), (3682, 0.0), (3683, 0.0), (3684, 0.015142683835011241), (3685, 0.0), (3686, 0.0), (3687, 0.0), (3688, 0.0), (3689, 0.010279024240254776), (3690, 0.0), (3691, 0.0), (3692, 0.02017399208160385), (3693, 0.0), (3694, 0.013647431772860161), (3695, 0.0), (3696, 0.0035981002443768594), (3697, 0.0), (3698, 0.0), (3699, 0.009278047447606267), (3700, 0.0), (3701, 0.0), (3702, 0.0), (3703, 0.0), (3704, 0.004034972745798804), (3705, 0.0034267598775920803), (3706, 0.003588760802838285), (3707, 0.0037989429750375776), (3708, 0.010350708517183055), (3709, 0.0), (3710, 0.0), (3711, 0.02150587686141643), (3712, 0.0), (3713, 0.005269728987296441), (3714, 0.0), (3715, 0.0), (3716, 0.0), (3717, 0.0), (3718, 0.0), (3719, 0.0), (3720, 0.02605348116309528), (3721, 0.0), (3722, 0.0), (3723, 0.0), (3724, 0.0), (3725, 0.0), (3726, 0.0), (3727, 0.0037841378357567745), (3728, 0.057453728584766446), (3729, 0.0), (3730, 0.0), (3731, 0.03524008084184993), (3732, 0.0), (3733, 0.0063761822099048255), (3734, 0.0035988357823242096), (3735, 0.0), (3736, 0.0), (3737, 0.0), (3738, 0.0), (3739, 0.0036693533774619295), (3740, 0.0), (3741, 0.010471386783819248), (3742, 0.003399082936023208), (3743, 0.0), (3744, 0.0), (3745, 0.004301411575639977), (3746, 0.0), (3747, 0.006479147522752962), (3748, 0.005548918142276963), (3749, 0.004065479097684881), (3750, 0.013000888292800928), (3751, 0.026186224125748968), (3752, 0.005629510500692699), (3753, 0.04591585032908362), (3754, 0.00425088885192439), (3755, 0.0034239411200045976), (3756, 0.01053719239409565), (3757, 0.0), (3758, 0.0), (3759, 0.0), (3760, 0.0), (3761, 0.0), (3762, 0.0), (3763, 0.004609882289666544), (3764, 0.0), (3765, 0.0038450828537136307), (3766, 0.004641112228824255), (3767, 0.00896513569014127), (3768, 0.0), (3769, 0.0), (3770, 0.0), (3771, 0.003951321721237862), (3772, 0.004382886506234054), (3773, 0.0), (3774, 0.0), (3775, 0.0), (3776, 0.0), (3777, 0.013138975764092283), (3778, 0.021953860591524103), (3779, 0.04679022708550117), (3780, 0.004036249028432672), (3781, 0.0), (3782, 0.0), (3783, 0.0), (3784, 0.009823067265651554), (3785, 0.0), (3786, 0.0), (3787, 0.0), (3788, 0.0), (3789, 0.0), (3790, 0.0), (3791, 0.0), (3792, 0.0), (3793, 0.03875875227021981), (3794, 0.008338012485553528), (3795, 0.0), (3796, 0.0), (3797, 0.01103005361056851), (3798, 0.0), (3799, 0.003753528816603714), (3800, 0.0), (3801, 0.022800359320391747), (3802, 0.0), (3803, 0.0), (3804, 0.0), (3805, 0.0), (3806, 0.0), (3807, 0.003759717973737062), (3808, 0.0), (3809, 0.0038677556461210847), (3810, 0.01901000261748249), (3811, 0.0036818861153964256), (3812, 0.0), (3813, 0.0040774159925305925), (3814, 0.0), (3815, 0.0), (3816, 0.0), (3817, 0.0), (3818, 0.0), (3819, 0.003604026168497364), (3820, 0.0), (3821, 0.005309579514776733), (3822, 0.010672346265256653), (3823, 0.0), (3824, 0.0), (3825, 0.005791272549152582), (3826, 0.009507592846213116), (3827, 0.0041812373099480195), (3828, 0.01556097302503041), (3829, 0.009182246221228645), (3830, 0.0), (3831, 0.0), (3832, 0.004670423968619581), (3833, 0.0), (3834, 0.0), (3835, 0.026184027893340907), (3836, 0.0), (3837, 0.0), (3838, 0.0), (3839, 0.022679460167655), (3840, 0.0), (3841, 0.0), (3842, 0.008166131166193217), (3843, 0.0), (3844, 0.0), (3845, 0.003995004112001254), (3846, 0.0), (3847, 0.0), (3848, 0.0), (3849, 0.0), (3850, 0.026632828328541157), (3851, 0.0), (3852, 0.023364365977981857), (3853, 0.013883865702644656), (3854, 0.011644464252551747), (3855, 0.0031458839983059443), (3856, 0.0), (3857, 0.01609940297117171), (3858, 0.0), (3859, 0.0), (3860, 0.008019989025344659), (3861, 0.013802757920483081), (3862, 0.013565728148304888), (3863, 0.0), (3864, 0.005920910897050465), (3865, 0.005713557401245155), (3866, 0.0043486459795349375), (3867, 0.038727560422371785), (3868, 0.026525580753853518), (3869, 0.0), (3870, 0.0), (3871, 0.026989903119287253), (3872, 0.0), (3873, 0.004064802300341305), (3874, 0.0), (3875, 0.018406826578508076), (3876, 0.0036842371244851938), (3877, 0.0), (3878, 0.0), (3879, 0.0), (3880, 0.008997278426017616), (3881, 0.0), (3882, 0.00378916482641853), (3883, 0.00422893666635175), (3884, 0.0), (3885, 0.0), (3886, 0.0), (3887, 0.0), (3888, 0.003749667634544617), (3889, 0.0), (3890, 0.0036809975427519446), (3891, 0.0), (3892, 0.004768788063297203), (3893, 0.004144247414974509), (3894, 0.0), (3895, 0.016419951156273302), (3896, 0.0), (3897, 0.0), (3898, 0.003588318017029783), (3899, 0.0), (3900, 0.003752384597222983), (3901, 0.004502439444358476), (3902, 0.004080719610179699), (3903, 0.011437534537394663), (3904, 0.0293241546641651), (3905, 0.0), (3906, 0.0), (3907, 0.0), (3908, 0.0), (3909, 0.005904413766853029), (3910, 0.0034457867862130566), (3911, 0.0), (3912, 0.0), (3913, 0.024611840670457328), (3914, 0.0), (3915, 0.004024543197655026), (3916, 0.0), (3917, 0.0037784451217402672), (3918, 0.0), (3919, 0.010653730578925456), (3920, 0.004057547531158214), (3921, 0.0), (3922, 0.004826525211684484), (3923, 0.021468929059054825), (3924, 0.013598191809365948), (3925, 0.005502114743442858), (3926, 0.006220083092575778), (3927, 0.021381204835221566), (3928, 0.00329009804100837), (3929, 0.0), (3930, 0.0), (3931, 0.0), (3932, 0.0069313179655960365), (3933, 0.0), (3934, 0.018582105949357684), (3935, 0.0), (3936, 0.0), (3937, 0.0), (3938, 0.0), (3939, 0.0), (3940, 0.005140768239123164), (3941, 0.008083351900502384), (3942, 0.0), (3943, 0.0), (3944, 0.0), (3945, 0.0), (3946, 0.052614275585435154), (3947, 0.038166730576283836), (3948, 0.0), (3949, 0.0), (3950, 0.0), (3951, 0.0074162772269412884), (3952, 0.004437738363872809), (3953, 0.0036033003322155192), (3954, 0.009287270867889746), (3955, 0.038388421677622846), (3956, 0.0033582925670364717), (3957, 0.005357045322157729), (3958, 0.014784863672391714), (3959, 0.013357553300375942), (3960, 0.004136328544295495), (3961, 0.02593777171312768), (3962, 0.004198116152517193), (3963, 0.0), (3964, 0.0), (3965, 0.0), (3966, 0.0), (3967, 0.0), (3968, 0.0), (3969, 0.0), (3970, 0.0), (3971, 0.0), (3972, 0.0), (3973, 0.04614109041999152), (3974, 0.0035164028553383536), (3975, 0.0), (3976, 0.016544496095702788), (3977, 0.0), (3978, 0.017511216941734287), (3979, 0.0), (3980, 0.0), (3981, 0.0), (3982, 0.0), (3983, 0.03563646695985248), (3984, 0.004099867333692982), (3985, 0.0), (3986, 0.0), (3987, 0.0), (3988, 0.0), (3989, 0.0), (3990, 0.005002929751176787), (3991, 0.0), (3992, 0.014305020046283787), (3993, 0.008159280041455856), (3994, 0.0), (3995, 0.0), (3996, 0.0), (3997, 0.0), (3998, 0.0061115275108608), (3999, 0.0), (4000, 0.008896260392386023), (4001, 0.006388407665819476), (4002, 0.0), (4003, 0.0), (4004, 0.024000569033717098), (4005, 0.03189717255423493), (4006, 0.0), (4007, 0.008267781342193284), (4008, 0.006586932684097186), (4009, 0.005839238139121342), (4010, 0.0), (4011, 0.003594995720337815), (4012, 0.017365201972850405), (4013, 0.0), (4014, 0.004035180915486504), (4015, 0.0), (4016, 0.02195498064580811), (4017, 0.0), (4018, 0.0), (4019, 0.0), (4020, 0.0036422140859522912), (4021, 0.0), (4022, 0.0), (4023, 0.0), (4024, 0.004073899322073124), (4025, 0.010240921104794437), (4026, 0.0), (4027, 0.0), (4028, 0.0), (4029, 0.0), (4030, 0.0), (4031, 0.0), (4032, 0.007187087143266355), (4033, 0.003906587815355154), (4034, 0.0), (4035, 0.031730162930616305), (4036, 0.0036853383464205635), (4037, 0.0), (4038, 0.003930018684452643), (4039, 0.0), (4040, 0.0), (4041, 0.0), (4042, 0.0), (4043, 0.0), (4044, 0.0), (4045, 0.0), (4046, 0.003987849997308664), (4047, 0.0), (4048, 0.009990331717465894), (4049, 0.0), (4050, 0.016660019944883787), (4051, 0.004261055631169459), (4052, 0.006663531395006187), (4053, 0.01852651607447004), (4054, 0.0038167243118359994), (4055, 0.005634375176145166), (4056, 0.0038535645182592873), (4057, 0.005701080129687285), (4058, 0.0), (4059, 0.0), (4060, 0.008456870182553719), (4061, 0.006670222885137592), (4062, 0.05211631434332532), (4063, 0.0), (4064, 0.038756005877627175), (4065, 0.0), (4066, 0.0033858461841849707), (4067, 0.0), (4068, 0.012456090313850867), (4069, 0.0036037527720944196), (4070, 0.0), (4071, 0.0), (4072, 0.0), (4073, 0.0), (4074, 0.0033136904775312374), (4075, 0.0), (4076, 0.0), (4077, 0.006776916345358607), (4078, 0.0), (4079, 0.004018103412220397), (4080, 0.0), (4081, 0.014840843781867438), (4082, 0.00532086619266247), (4083, 0.0), (4084, 0.0), (4085, 0.003565220020475182), (4086, 0.0), (4087, 0.004178040008601155), (4088, 0.017726410417130058), (4089, 0.0), (4090, 0.0), (4091, 0.0), (4092, 0.004191649321034799), (4093, 0.0), (4094, 0.0), (4095, 0.010675671910301455), (4096, 0.007602693256643236), (4097, 0.0), (4098, 0.00407457171624486), (4099, 0.006168780005377172), (4100, 0.0), (4101, 0.004133199886199255), (4102, 0.0), (4103, 0.0), (4104, 0.023185741901104635), (4105, 0.0), (4106, 0.005800307136699598), (4107, 0.0), (4108, 0.0), (4109, 0.0), (4110, 0.005957703917597487), (4111, 0.004038010636451648), (4112, 0.0), (4113, 0.004102052314014097), (4114, 0.0), (4115, 0.0), (4116, 0.0040798421391590066), (4117, 0.00441646663502034), (4118, 0.009883745268100938), (4119, 0.0), (4120, 0.0), (4121, 0.009912385491091757), (4122, 0.0), (4123, 0.003960351831186763), (4124, 0.008779382992679814), (4125, 0.0), (4126, 0.0), (4127, 0.0), (4128, 0.025025247392057172), (4129, 0.0), (4130, 0.004149162787086142), (4131, 0.0), (4132, 0.0), (4133, 0.004171058353519934), (4134, 0.008945447437419263), (4135, 0.003727804362363171), (4136, 0.0), (4137, 0.03924361941131737), (4138, 0.004113614806293948), (4139, 0.0), (4140, 0.0), (4141, 0.03072910070419982), (4142, 0.0), (4143, 0.0033858897155522633), (4144, 0.0), (4145, 0.0), (4146, 0.0), (4147, 0.0), (4148, 0.0), (4149, 0.01812079534164224), (4150, 0.0), (4151, 0.0032383469635582545), (4152, 0.033855507827135124), (4153, 0.0), (4154, 0.0035594485118218755), (4155, 0.0), (4156, 0.019385775579457712), (4157, 0.0), (4158, 0.005385259925023969), (4159, 0.0), (4160, 0.004202905425055258), (4161, 0.0), (4162, 0.0), (4163, 0.004547033361860746), (4164, 0.007982804783910946), (4165, 0.03242152792700283), (4166, 0.0), (4167, 0.0), (4168, 0.0), (4169, 0.0), (4170, 0.0), (4171, 0.0026656953805026195), (4172, 0.0), (4173, 0.0), (4174, 0.0), (4175, 0.0), (4176, 0.01744396923312859), (4177, 0.02888607445246794), (4178, 0.0038008656032354534), (4179, 0.0), (4180, 0.0), (4181, 0.0), (4182, 0.008061134963870604), (4183, 0.0036854343493355544), (4184, 0.0), (4185, 0.0), (4186, 0.0), (4187, 0.004076247844682487), (4188, 0.0), (4189, 0.01829578042486226), (4190, 0.0), (4191, 0.0), (4192, 0.011911892499104708), (4193, 0.0), (4194, 0.0), (4195, 0.03154353672928387), (4196, 0.006877977216145405), (4197, 0.0), (4198, 0.0), (4199, 0.0), (4200, 0.0), (4201, 0.0), (4202, 0.005275485537708586), (4203, 0.01131148415647822), (4204, 0.0), (4205, 0.00952137249600601), (4206, 0.0), (4207, 0.0), (4208, 0.0), (4209, 0.0), (4210, 0.006343510020362498), (4211, 0.0), (4212, 0.0), (4213, 0.0), (4214, 0.0), (4215, 0.0), (4216, 0.008607795894015547), (4217, 0.006019284208310874), (4218, 0.0), (4219, 0.0), (4220, 0.0), (4221, 0.0), (4222, 0.0), (4223, 0.0), (4224, 0.0), (4225, 0.0), (4226, 0.006834018965233924), (4227, 0.009536769001987726), (4228, 0.0), (4229, 0.0), (4230, 0.0), (4231, 0.013331133581851526), (4232, 0.007786088627110027), (4233, 0.009237160753548941), (4234, 0.0), (4235, 0.008552824926316175), (4236, 0.006075666229387342), (4237, 0.0), (4238, 0.0), (4239, 0.0), (4240, 0.0), (4241, 0.0), (4242, 0.010810083319642434), (4243, 0.004481593424626757), (4244, 0.004398330195480061), (4245, 0.0), (4246, 0.01677994511263872), (4247, 0.0032983391307580033), (4248, 0.0), (4249, 0.004012714707541468), (4250, 0.0), (4251, 0.0), (4252, 0.0), (4253, 0.0), (4254, 0.0), (4255, 0.010079992252920751), (4256, 0.0), (4257, 0.00939797433543068), (4258, 0.0), (4259, 0.004009291435859013), (4260, 0.0), (4261, 0.006520832702599342), (4262, 0.0), (4263, 0.0), (4264, 0.0), (4265, 0.0), (4266, 0.003781876728901574), (4267, 0.0), (4268, 0.05083287988803892), (4269, 0.004261358892882496), (4270, 0.0), (4271, 0.0), (4272, 0.005913113344059761), (4273, 0.0), (4274, 0.0), (4275, 0.0), (4276, 0.0), (4277, 0.0), (4278, 0.0), (4279, 0.0), (4280, 0.0), (4281, 0.017201530584288947), (4282, 0.0035218818339265595), (4283, 0.021351615053856236), (4284, 0.00378835041407486), (4285, 0.0), (4286, 0.003974389543967004), (4287, 0.00381011745640383), (4288, 0.01693710191425258), (4289, 0.0), (4290, 0.0), (4291, 0.0), (4292, 0.0), (4293, 0.004330932141883519), (4294, 0.0), (4295, 0.004296585605307226), (4296, 0.0), (4297, 0.0), (4298, 0.0), (4299, 0.0), (4300, 0.0), (4301, 0.0), (4302, 0.0), (4303, 0.0061761331465123295), (4304, 0.0), (4305, 0.0), (4306, 0.0), (4307, 0.0), (4308, 0.0), (4309, 0.0036496471856022677), (4310, 0.0), (4311, 0.0032226547675890996), (4312, 0.0), (4313, 0.0), (4314, 0.014995478737488207), (4315, 0.0), (4316, 0.0), (4317, 0.0), (4318, 0.0), (4319, 0.0), (4320, 0.0), (4321, 0.017543334033359587), (4322, 0.0), (4323, 0.0), (4324, 0.0), (4325, 0.00822559784151359), (4326, 0.0), (4327, 0.0), (4328, 0.0), (4329, 0.0), (4330, 0.004053021150550022), (4331, 0.0), (4332, 0.0), (4333, 0.004333713650602341), (4334, 0.00381632832905586), (4335, 0.009814353732129216), (4336, 0.01032367336176319), (4337, 0.0066600422931131255), (4338, 0.0), (4339, 0.0), (4340, 0.0), (4341, 0.0), (4342, 0.005734362220311644), (4343, 0.0), (4344, 0.008560409076406228), (4345, 0.0035973755722148097), (4346, 0.0), (4347, 0.0), (4348, 0.0), (4349, 0.015024002112051323), (4350, 0.0034382440415019633), (4351, 0.006858980353485612), (4352, 0.0), (4353, 0.0), (4354, 0.0), (4355, 0.0), (4356, 0.00358475543289815), (4357, 0.003959068494839573), (4358, 0.0), (4359, 0.0), (4360, 0.0), (4361, 0.0), (4362, 0.0036750132776680413), (4363, 0.0), (4364, 0.0), (4365, 0.0), (4366, 0.007911361040663333), (4367, 0.0066156403313462194), (4368, 0.004239501219206817), (4369, 0.004247480838540239), (4370, 0.0), (4371, 0.010622821468953594), (4372, 0.0), (4373, 0.004793477636311272), (4374, 0.011763319087443304), (4375, 0.05297281988538419), (4376, 0.0), (4377, 0.0), (4378, 0.032692974711567666), (4379, 0.013135396004097966), (4380, 0.017646241809588452), (4381, 0.0), (4382, 0.02029643984683653), (4383, 0.0), (4384, 0.0), (4385, 0.00537038157341648), (4386, 0.0), (4387, 0.012186360975945464), (4388, 0.0062676034010625955), (4389, 0.05282262160647134), (4390, 0.0), (4391, 0.0), (4392, 0.0), (4393, 0.0), (4394, 0.00362146481188234), (4395, 0.01843253785365369), (4396, 0.0), (4397, 0.0), (4398, 0.05310291471657031), (4399, 0.014124359116023472), (4400, 0.0), (4401, 0.003991001595951771), (4402, 0.02689650828062131), (4403, 0.015526643040174072), (4404, 0.0), (4405, 0.0), (4406, 0.0), (4407, 0.0), (4408, 0.0), (4409, 0.0), (4410, 0.0), (4411, 0.003252245946092364), (4412, 0.004380933751804212), (4413, 0.0), (4414, 0.0), (4415, 0.0), (4416, 0.0), (4417, 0.0), (4418, 0.0), (4419, 0.00400903260013616), (4420, 0.003863656167088989), (4421, 0.0), (4422, 0.00392135818755306), (4423, 0.0), (4424, 0.0), (4425, 0.0), (4426, 0.0), (4427, 0.0), (4428, 0.0), (4429, 0.003386589486853657), (4430, 0.0039455656642273535), (4431, 0.0), (4432, 0.0032348982227173918), (4433, 0.0), (4434, 0.0), (4435, 0.00918248499014251), (4436, 0.01613897225702993), (4437, 0.0), (4438, 0.0), (4439, 0.0), (4440, 0.007573688839980214), (4441, 0.0), (4442, 0.008489222172637034), (4443, 0.03256361744623623), (4444, 0.004912936640101354), (4445, 0.0), (4446, 0.0038887227906363353), (4447, 0.0), (4448, 0.004140141857814396), (4449, 0.0), (4450, 0.024720929015834277), (4451, 0.0), (4452, 0.036474159034123495), (4453, 0.0), (4454, 0.0), (4455, 0.0), (4456, 0.04680846273008478), (4457, 0.0), (4458, 0.0), (4459, 0.0057922061626356465), (4460, 0.0), (4461, 0.0), (4462, 0.0), (4463, 0.0), (4464, 0.0), (4465, 0.009891548972174034), (4466, 0.015093423901787034), (4467, 0.006345018374280657), (4468, 0.0), (4469, 0.011101014769186764), (4470, 0.003919644064983106), (4471, 0.0), (4472, 0.003533281420688181), (4473, 0.0034640125760686956), (4474, 0.009143385384832552), (4475, 0.012239347889861505), (4476, 0.0), (4477, 0.004475573109721683), (4478, 0.0), (4479, 0.003495231766542481), (4480, 0.0), (4481, 0.00848875259010629), (4482, 0.014420233761860293), (4483, 0.0), (4484, 0.0048388348975987394), (4485, 0.0), (4486, 0.0064024283455168555), (4487, 0.0036758387138215473), (4488, 0.036253432965509015), (4489, 0.003972854220764142), (4490, 0.004525122944013041), (4491, 0.0), (4492, 0.018448287917577275), (4493, 0.0), (4494, 0.004198913762540898), (4495, 0.0), (4496, 0.0), (4497, 0.0), (4498, 0.0), (4499, 0.0), (4500, 0.0), (4501, 0.003925661067116921), (4502, 0.011801805330164894), (4503, 0.012361723940411636), (4504, 0.014698029040537658), (4505, 0.0), (4506, 0.0), (4507, 0.004118183726100427), (4508, 0.0), (4509, 0.0), (4510, 0.009181707422775893), (4511, 0.00986218445965201), (4512, 0.009730424282926005), (4513, 0.0), (4514, 0.0), (4515, 0.0), (4516, 0.0043039703740352505), (4517, 0.003954290386528166), (4518, 0.0), (4519, 0.0), (4520, 0.004021436304065867), (4521, 0.004538451948988), (4522, 0.004256053143250755), (4523, 0.0034887564313293437), (4524, 0.007553090169719758), (4525, 0.0), (4526, 0.0), (4527, 0.0), (4528, 0.004071078927085606), (4529, 0.0), (4530, 0.003646957757771748), (4531, 0.009515505932541201), (4532, 0.0), (4533, 0.02981869960867977), (4534, 0.016852729727284195), (4535, 0.004168912423339762), (4536, 0.003555527696612593), (4537, 0.0), (4538, 0.0), (4539, 0.0), (4540, 0.0), (4541, 0.0), (4542, 0.0), (4543, 0.0), (4544, 0.0), (4545, 0.0), (4546, 0.004796557843128955), (4547, 0.0), (4548, 0.02455070044178556), (4549, 0.0), (4550, 0.0), (4551, 0.013220718212689987), (4552, 0.0), (4553, 0.008276485146222293), (4554, 0.01707538546852366), (4555, 0.005705853547328628), (4556, 0.0), (4557, 0.009195614779699256), (4558, 0.0), (4559, 0.0), (4560, 0.0), (4561, 0.0), (4562, 0.0), (4563, 0.0038114555520677926), (4564, 0.006009683210100154), (4565, 0.0), (4566, 0.0038759270411203497), (4567, 0.0), (4568, 0.0), (4569, 0.0), (4570, 0.0), (4571, 0.005674167803239463), (4572, 0.0), (4573, 0.003888687261883101), (4574, 0.0), (4575, 0.004207106971473455), (4576, 0.005935119837827219), (4577, 0.0), (4578, 0.0), (4579, 0.0), (4580, 0.0), (4581, 0.008869254271859205), (4582, 0.0), (4583, 0.015044893224742222), (4584, 0.0), (4585, 0.0), (4586, 0.0), (4587, 0.0), (4588, 0.039945019726838844), (4589, 0.004371096892320465), (4590, 0.02654609369866141), (4591, 0.0035611781562838625), (4592, 0.0), (4593, 0.004154470826623222), (4594, 0.03506340487356818), (4595, 0.0), (4596, 0.01081016191342345), (4597, 0.0), (4598, 0.0), (4599, 0.0), (4600, 0.0), (4601, 0.003965694664517002), (4602, 0.02901773760612242), (4603, 0.010256928396232767), (4604, 0.0), (4605, 0.006810270346177131), (4606, 0.0), (4607, 0.0), (4608, 0.021800481235691567), (4609, 0.0), (4610, 0.01581260036053919), (4611, 0.0), (4612, 0.0), (4613, 0.0), (4614, 0.05679251565796731), (4615, 0.0), (4616, 0.0), (4617, 0.0050353538788366296), (4618, 0.0), (4619, 0.004464496276051083), (4620, 0.0), (4621, 0.0), (4622, 0.0), (4623, 0.008648412631720398), (4624, 0.004092700036129846), (4625, 0.004062559183896482), (4626, 0.0032076033459705385), (4627, 0.013538120633917617), (4628, 0.0), (4629, 0.003921516439997753), (4630, 0.0), (4631, 0.0), (4632, 0.004413505725249274), (4633, 0.0), (4634, 0.0), (4635, 0.0), (4636, 0.0032565243132128365), (4637, 0.004612062968623592), (4638, 0.0034917344683704304), (4639, 0.0), (4640, 0.0037252728423847093), (4641, 0.0), (4642, 0.0), (4643, 0.003985480718853093), (4644, 0.0), (4645, 0.0), (4646, 0.0), (4647, 0.0), (4648, 0.0), (4649, 0.005826292655208301), (4650, 0.004199955073515737), (4651, 0.0), (4652, 0.0050935210978373825), (4653, 0.0), (4654, 0.0), (4655, 0.0), (4656, 0.00967984185329389), (4657, 0.004148903847421977), (4658, 0.017846337281060477), (4659, 0.0), (4660, 0.004541708755867142), (4661, 0.0), (4662, 0.0), (4663, 0.0), (4664, 0.0), (4665, 0.0), (4666, 0.0), (4667, 0.0), (4668, 0.0038488067540491675), (4669, 0.013494312686356749), (4670, 0.003671050405539606), (4671, 0.0), (4672, 0.0), (4673, 0.012104359183317995), (4674, 0.0030123343766857067), (4675, 0.0), (4676, 0.0), (4677, 0.0), (4678, 0.0), (4679, 0.016334546051630552), (4680, 0.0), (4681, 0.0), (4682, 0.047967571568219285), (4683, 0.0), (4684, 0.024133846796305446), (4685, 0.006622624822852809), (4686, 0.0), (4687, 0.0), (4688, 0.0), (4689, 0.0), (4690, 0.0), (4691, 0.0), (4692, 0.0), (4693, 0.0), (4694, 0.0), (4695, 0.006546877522671905), (4696, 0.0), (4697, 0.0), (4698, 0.0), (4699, 0.004136745068268484), (4700, 0.0), (4701, 0.021630035033714214), (4702, 0.0), (4703, 0.027767352013874057), (4704, 0.0), (4705, 0.0), (4706, 0.004332664641294067), (4707, 0.0), (4708, 0.0), (4709, 0.0), (4710, 0.0049546059842053665), (4711, 0.0), (4712, 0.003437976786085448), (4713, 0.004305394136181376), (4714, 0.0), (4715, 0.0), (4716, 0.0), (4717, 0.0), (4718, 0.004256349121498145), (4719, 0.0), (4720, 0.0), (4721, 0.031295304435081314), (4722, 0.0039882381838041514), (4723, 0.004727598715354361), (4724, 0.010432598460380442), (4725, 0.0), (4726, 0.0056247712869476885), (4727, 0.03598682660556363), (4728, 0.0), (4729, 0.0), (4730, 0.0), (4731, 0.021942965349166357), (4732, 0.0), (4733, 0.0032717877906651327), (4734, 0.004111295554222254), (4735, 0.01018865976474585), (4736, 0.0), (4737, 0.0), (4738, 0.00614394772435494), (4739, 0.020699825545004623), (4740, 0.0), (4741, 0.0), (4742, 0.0), (4743, 0.0), (4744, 0.0), (4745, 0.0), (4746, 0.0), (4747, 0.009938221057444345), (4748, 0.005479026018864509), (4749, 0.0), (4750, 0.0), (4751, 0.0), (4752, 0.0026616051256125074), (4753, 0.0), (4754, 0.0), (4755, 0.0), (4756, 0.0), (4757, 0.0), (4758, 0.0), (4759, 0.0)]\n"
          ]
        }
      ]
    },
    {
      "cell_type": "code",
      "source": [
        "len(Recommendation_score)"
      ],
      "metadata": {
        "colab": {
          "base_uri": "https://localhost:8080/"
        },
        "id": "fCvzGv90baSV",
        "outputId": "52c38124-163e-4855-a2d2-c50b5f4a3e6d"
      },
      "execution_count": null,
      "outputs": [
        {
          "output_type": "execute_result",
          "data": {
            "text/plain": [
              "4760"
            ]
          },
          "metadata": {},
          "execution_count": 112
        }
      ]
    },
    {
      "cell_type": "markdown",
      "source": [
        "**Get All Movies Sort Based on Recommendation Score wrt Favourite Movie**"
      ],
      "metadata": {
        "id": "pK4ew0BocU7p"
      }
    },
    {
      "cell_type": "code",
      "source": [
        "Sorted_Similar_Movies=sorted(Recommendation_score, key=lambda x:x[1],reverse =True)\n",
        "print(Sorted_Similar_Movies)"
      ],
      "metadata": {
        "colab": {
          "base_uri": "https://localhost:8080/"
        },
        "id": "du6iLs_Kcp-_",
        "outputId": "23870264-e0d9-4fa0-cb50-e4f3cee8715a"
      },
      "execution_count": null,
      "outputs": [
        {
          "output_type": "stream",
          "name": "stdout",
          "text": [
            "[(2692, 1.0000000000000002), (2558, 0.11919148647941333), (628, 0.11474691862104797), (1341, 0.10896966869970737), (62, 0.10427713896172833), (2903, 0.09645594563028652), (4062, 0.09563158957538814), (3728, 0.09366436627136837), (1070, 0.09260677613516503), (2538, 0.08941438226010072), (227, 0.08856917912385276), (2214, 0.08497490106902816), (2026, 0.08402841643318161), (4614, 0.08378647224874888), (1383, 0.08269857957475818), (4268, 0.08111372739108584), (3326, 0.08020010753813345), (1243, 0.0799875961619175), (3655, 0.07898922180335921), (1320, 0.07894485071637095), (2694, 0.07858922664658877), (1994, 0.07847158715278728), (3946, 0.07736285228850334), (4456, 0.07687142381190665), (4375, 0.07663127460935718), (3973, 0.07647812359066603), (873, 0.07645388389391315), (1023, 0.07635457630169581), (292, 0.07555276653903259), (137, 0.0733846546152252), (2191, 0.0733487670322192), (3249, 0.073033085192001), (4175, 0.0724784109060705), (1821, 0.07208928960176529), (2109, 0.07072558251822544), (2133, 0.06967700427929172), (172, 0.0687601132365177), (3518, 0.06865992911991502), (213, 0.06862243421790788), (2653, 0.06826277241248332), (3294, 0.06816233366569655), (45, 0.06643131239366477), (328, 0.06620781488136107), (4663, 0.0653718401091861), (2408, 0.0653191696187334), (2375, 0.0646475475276508), (2869, 0.06425530867976335), (2374, 0.06338171029218427), (3209, 0.06337188356620403), (2550, 0.06291666668793024), (877, 0.06178791457557653), (1311, 0.060638132184222336), (3010, 0.06058191059294472), (1850, 0.06047549249822386), (1248, 0.05913044542336409), (2859, 0.05874336306750956), (2716, 0.05824988124297234), (830, 0.05818075726115784), (1292, 0.05799094068518564), (412, 0.05798943619385853), (3955, 0.057974856072746134), (438, 0.05760110431888278), (2321, 0.05750276532960561), (67, 0.0572340450893377), (1527, 0.0568941731677707), (44, 0.056046246832988006), (387, 0.054949693002620634), (2122, 0.05481652111726023), (1871, 0.054339558182013685), (1506, 0.0540706202582395), (1118, 0.053878297563350636), (578, 0.05384382238333092), (3486, 0.053842767721314994), (1676, 0.053406406111017865), (1393, 0.0533785547558267), (2123, 0.05266834267420207), (3480, 0.052216854948906447), (3102, 0.05192117485267536), (2822, 0.05185841988629305), (4177, 0.0517822465545917), (2540, 0.05164846291596774), (1389, 0.05112736824273476), (818, 0.050951606746991944), (3351, 0.05058502821852786), (710, 0.050417221535267065), (108, 0.05032016387657497), (694, 0.049828324118421786), (3463, 0.04880248025111584), (1379, 0.048706267287682826), (1568, 0.04862479746849304), (179, 0.04846209831747304), (3498, 0.0481899225804723), (2014, 0.04798747445848868), (65, 0.04723043429584715), (126, 0.04706563358768008), (3377, 0.04700578979875017), (2807, 0.046468845589758806), (1868, 0.04639825799665555), (935, 0.04623141557181046), (1750, 0.04622228118885971), (3157, 0.046212416952296616), (3280, 0.045680371465741276), (4141, 0.04566574397913121), (1648, 0.04532929955837907), (1795, 0.04516842775984725), (166, 0.045108493256628995), (1134, 0.0450623415501947), (2751, 0.044976108688739344), (2622, 0.04478401484805908), (3835, 0.04474423698241119), (540, 0.0446691004094008), (4731, 0.04453936529449692), (3154, 0.04404271005247725), (3556, 0.044017243946528374), (465, 0.04345140152176971), (2876, 0.043444775546822835), (2649, 0.043340189331188224), (3313, 0.04332633769474217), (1367, 0.042535773152507894), (1405, 0.042528994986204424), (1464, 0.04237031818201026), (1272, 0.04180959758594131), (1046, 0.041584977446081736), (112, 0.04127611550657078), (1068, 0.04126018124651395), (3376, 0.040999407292730904), (836, 0.04080851405317127), (3127, 0.04048124882252248), (629, 0.03997427595536908), (2037, 0.03978210602445156), (2114, 0.03951909553624329), (2791, 0.039504032075571544), (3675, 0.039487919661531805), (193, 0.03945080031735051), (1043, 0.03939434691114989), (795, 0.039358256388716026), (282, 0.039325247980683), (2560, 0.039320210822431895), (3961, 0.03930316027258564), (911, 0.039195156313170505), (2908, 0.038726854227822634), (2638, 0.0387157942295201), (2362, 0.0386064797077155), (1585, 0.038395200037900354), (3447, 0.03831229280561936), (4450, 0.038272721700712345), (4701, 0.03814158312846668), (947, 0.03790320135304773), (2011, 0.037826972194563796), (530, 0.03772990275795179), (2294, 0.03768385053605393), (2023, 0.03760552111461967), (4004, 0.03743964592831333), (976, 0.037428104954376054), (864, 0.03741701945198483), (515, 0.037289814420647625), (3927, 0.03719986131101751), (2762, 0.03711460973094286), (4684, 0.03703433872007042), (2487, 0.03689500609313803), (613, 0.03683542475390709), (519, 0.03674881982234609), (3285, 0.03673894957585571), (670, 0.03663601383494568), (2481, 0.03657781749542814), (381, 0.036546032331282556), (1970, 0.036519317842725996), (1544, 0.0364696228309966), (3450, 0.03617956075280738), (2443, 0.03614719226731228), (2932, 0.0360961807338695), (4016, 0.03581356982643732), (109, 0.035772553355557554), (942, 0.0355045381197754), (3222, 0.03543369505955017), (3553, 0.03535742045239856), (3810, 0.03495432271448874), (2221, 0.03495426111270763), (269, 0.034897838313374244), (1788, 0.03481868507699384), (3045, 0.034722640081092826), (2040, 0.034605506538135405), (824, 0.03457047072843226), (2484, 0.03450181210894277), (832, 0.034448026621368), (1314, 0.03436252847550218), (3345, 0.03429083480654417), (3778, 0.03426706183711041), (68, 0.034261466270427886), (1500, 0.03424395086293831), (371, 0.03412693815941646), (2275, 0.03405921784330349), (952, 0.0340554104065828), (1030, 0.03399403859812048), (3839, 0.03388954664961193), (2712, 0.0336343686345078), (2944, 0.033231327476719655), (124, 0.03316869495828583), (4682, 0.03309960707758755), (3420, 0.032998868178472085), (3828, 0.03277156722006219), (3344, 0.03277075735216101), (1505, 0.03261873838984182), (1671, 0.032588883376670624), (2995, 0.0325688816930206), (1141, 0.032540351368120876), (33, 0.03252369761279868), (3801, 0.032458917100117765), (3019, 0.03239069671418988), (3692, 0.0323439998880202), (1935, 0.03223064909752854), (1845, 0.03213517929489037), (2318, 0.032054087416755875), (2055, 0.03205038531864265), (1515, 0.032045663622148446), (1861, 0.03192439934270448), (2210, 0.03172685341749033), (566, 0.03149384349447183), (3492, 0.031481323065302554), (3352, 0.031408963029618694), (15, 0.031394804228661505), (3471, 0.03131442912750557), (4283, 0.03114664494761215), (2368, 0.03111633911585393), (2149, 0.03111562595801754), (4382, 0.031055233745561676), (1985, 0.0310221688758456), (3119, 0.030951636245921003), (4149, 0.030769869377021277), (1412, 0.030634303628393127), (2112, 0.03043519939474422), (334, 0.030396417128173675), (763, 0.03022334500967601), (1942, 0.0301585075618438), (2795, 0.030109044902015346), (4050, 0.03010583793495562), (1132, 0.02999403548561738), (2621, 0.029929574293997913), (3934, 0.029903279662709358), (1052, 0.02983717393456306), (4288, 0.029821144118852984), (4156, 0.02980228564599774), (3711, 0.029802262970870432), (967, 0.029786560445567573), (2777, 0.029737365177222835), (2301, 0.029669850943584937), (2237, 0.029658041246073286), (1261, 0.029632878855141504), (175, 0.029626741508420727), (4395, 0.02939589598635576), (929, 0.02935642202095501), (1492, 0.029275986780590117), (706, 0.029240481824757893), (2464, 0.029239215957314685), (3144, 0.029213378923967734), (116, 0.029154025923717852), (4281, 0.029004509044633708), (1707, 0.028929952482680578), (3483, 0.02877522953712839), (1173, 0.02875684843633569), (3153, 0.028591787807961316), (3036, 0.028475661069885288), (2607, 0.028350399889974787), (1629, 0.028336801266812227), (3976, 0.02833500145492263), (2689, 0.028298719811328202), (691, 0.028295711719202365), (437, 0.028271883868106116), (4189, 0.028259097898514492), (3095, 0.02825450344723665), (4492, 0.02825120651366061), (2469, 0.02822684918662805), (2582, 0.02819298827863499), (4512, 0.028157996832545985), (2353, 0.028098569392976218), (4554, 0.02806850791497566), (870, 0.028065579340036596), (3504, 0.028038912854019167), (364, 0.028032800577843277), (3446, 0.028000099371843824), (4398, 0.027994571616271977), (4231, 0.027994538793018962), (590, 0.027974135168627866), (4436, 0.027886611259366333), (204, 0.027854588646203392), (657, 0.02776016644510791), (4380, 0.027726456678800127), (2808, 0.02766431462335557), (2647, 0.027660680389314345), (4534, 0.027654539927521357), (796, 0.02761656158799493), (1609, 0.02757586041248865), (986, 0.027554411565971933), (4469, 0.027531378013337184), (1385, 0.02744509741512597), (3469, 0.02744226866440168), (123, 0.027425920605822534), (4053, 0.027364282821326087), (1386, 0.0273053654620932), (61, 0.027279281156148454), (85, 0.02727622027421617), (1655, 0.02725774029995335), (1064, 0.0272553238959383), (1033, 0.027226876698709313), (2867, 0.02719877124795015), (3433, 0.02718650961814245), (794, 0.027152938424164268), (1369, 0.027117070862075633), (4403, 0.02710522619782213), (1865, 0.027079252741008905), (3652, 0.027064143134471808), (1847, 0.026996100478257682), (2849, 0.026944813361427043), (3978, 0.0268764235908923), (1175, 0.02684855993138703), (1675, 0.02677498171081005), (442, 0.02671617250713613), (3857, 0.026600540741609027), (1471, 0.02659168145209711), (768, 0.026546376169020763), (3111, 0.026525279664296623), (2745, 0.026520954763652148), (1878, 0.02650927902143043), (3403, 0.026501093613975988), (252, 0.0264996587505351), (2823, 0.02648812680872371), (330, 0.026467380381930077), (2406, 0.026389713218374425), (4679, 0.026368213692823817), (2553, 0.02631149781209708), (1245, 0.026311076846509247), (968, 0.026297943977685024), (3091, 0.02628541714470059), (4012, 0.026255051223556793), (4088, 0.026246087307812596), (1365, 0.026214937104149284), (210, 0.026193053682211843), (4176, 0.02609364111298805), (3275, 0.02607385608657598), (4724, 0.026064437197109505), (2513, 0.026048316086218937), (4658, 0.02604522219209865), (145, 0.025999921793815092), (643, 0.025993730793363496), (2035, 0.02597038349461274), (779, 0.025943582313798876), (1241, 0.025920292269961155), (261, 0.025917671005495822), (776, 0.02586631372529575), (2618, 0.025800130853042086), (669, 0.02576943752217377), (3665, 0.025735779947413506), (181, 0.02573425080044618), (3558, 0.025670308782862115), (1358, 0.02559731328075107), (3541, 0.025581785043904987), (2654, 0.02541481079557902), (3875, 0.02538477522725682), (551, 0.02535785648118164), (1274, 0.025344488377923472), (3992, 0.025332662706524303), (2167, 0.025285407794645692), (1003, 0.025224162096467044), (4246, 0.02515727143468654), (547, 0.025107150564132964), (1996, 0.02505901989331248), (409, 0.024944032473486786), (1512, 0.024903031639678976), (2598, 0.02485195304899128), (2347, 0.024820072919793747), (358, 0.024775669068896597), (4739, 0.024762828464676867), (199, 0.024739469466723493), (3462, 0.02471363043859021), (2645, 0.024683431113395445), (3000, 0.02463908991682465), (2931, 0.024555972624757817), (218, 0.024541149889951236), (3597, 0.02447470653311105), (1270, 0.024462143071116074), (2258, 0.02445418549363897), (3528, 0.02439299468021962), (860, 0.024373006290118168), (209, 0.024339031072080443), (3295, 0.024304498981623256), (1257, 0.02430221035689155), (374, 0.024248091599887004), (1116, 0.024243183673197), (1053, 0.02419604677444738), (1216, 0.024149930169749926), (4610, 0.024137966425046613), (1817, 0.024112685322641252), (1445, 0.024092751859927906), (3395, 0.02408081859746758), (1045, 0.024065749502574535), (345, 0.02399288552915692), (4466, 0.02398612169533956), (343, 0.023974179129258408), (4321, 0.023972596424936318), (677, 0.023927939253726046), (553, 0.0239050325326983), (638, 0.023874269704775908), (2027, 0.023866288756976294), (533, 0.023831092728982504), (1403, 0.023829217107259784), (1572, 0.023788558130372797), (937, 0.023774163230868787), (251, 0.02376332803618447), (2841, 0.023701827550192664), (3306, 0.023668456098351585), (1361, 0.023650501653704487), (147, 0.023608324324585372), (867, 0.023603155021579437), (3171, 0.023598770064229318), (458, 0.023584902003772248), (2934, 0.02346139638010148), (1579, 0.023461341813874093), (4349, 0.02342173121294509), (2650, 0.023421465829589972), (3375, 0.023403553272191856), (1872, 0.023376792820579112), (3098, 0.023370666895892456), (1927, 0.023337700635270645), (3895, 0.023332404825812482), (83, 0.023223415490740976), (1510, 0.02318130170250058), (3226, 0.02307979471419448), (1945, 0.0230175481511204), (2961, 0.023002390099513687), (4583, 0.02298040045806639), (2290, 0.022962398545271427), (1202, 0.022939202145584148), (4314, 0.02292318279375615), (450, 0.022878757563210502), (106, 0.022831279923867447), (2052, 0.02279538033518274), (4475, 0.022719253453538413), (3086, 0.022712257770205975), (21, 0.022711471593748533), (1377, 0.02269912505321528), (1838, 0.02269764514568419), (4081, 0.022663111643419793), (4482, 0.022635911564783343), (3924, 0.022580802672805073), (3228, 0.022560160474285457), (1906, 0.022533505239551135), (3374, 0.022480815019532596), (2440, 0.02247877247915703), (1843, 0.022461375350487926), (1759, 0.022445655743463865), (2644, 0.022294080562835637), (1682, 0.022281710343687467), (701, 0.022274028170653562), (3580, 0.022253343350070613), (4048, 0.022246679757320243), (2161, 0.02223981854383028), (2276, 0.022207923170972192), (2886, 0.02219980285652283), (1112, 0.022191027333814253), (3360, 0.022185230177563447), (534, 0.02212511924401774), (1184, 0.02208505114356031), (3210, 0.022058342946099766), (2070, 0.0220303650997367), (2298, 0.021995634714422226), (757, 0.02199274374468019), (4504, 0.02195914640311781), (510, 0.02195563848757877), (3362, 0.021926054547139168), (429, 0.021846692710341065), (1275, 0.021831367755746633), (3067, 0.02179034736787), (1074, 0.0217773708578104), (2639, 0.021776852639459346), (1853, 0.021775146888480815), (287, 0.021750360589146006), (1128, 0.02174308450577593), (48, 0.021735249055008725), (3958, 0.021731449078809806), (1716, 0.0216725509060156), (1035, 0.021650225660044105), (296, 0.02160819623502131), (120, 0.02160076779056888), (144, 0.021526609642505624), (934, 0.021517239410416132), (3437, 0.021515166305287856), (2110, 0.021503997361967245), (1160, 0.021475340279330297), (1741, 0.021461191394109874), (584, 0.021444777440468972), (46, 0.02139541210429944), (3684, 0.021356360288462165), (3853, 0.021339136427676535), (787, 0.02125588448246775), (2460, 0.02125573528805707), (7, 0.021190525767831696), (586, 0.021173449082166385), (4669, 0.021163769019242273), (957, 0.021088790087146907), (1417, 0.02107019489717469), (4399, 0.02105781727279658), (3959, 0.021056148351071915), (3284, 0.02104412288858421), (874, 0.021004631850901276), (2602, 0.020987064183179315), (788, 0.02097866361425453), (1880, 0.020879593090807974), (4551, 0.0208620443256819), (1162, 0.020853218823482872), (2939, 0.02084194677049905), (1152, 0.020824095962857413), (1183, 0.020817665285296546), (2489, 0.02079062280021715), (3861, 0.02078826875424427), (2969, 0.02076715354574648), (833, 0.02071252784610622), (2468, 0.020695803195353267), (161, 0.020694232707157714), (1523, 0.020655174168510704), (2097, 0.020653724705411877), (1997, 0.020587435566369616), (2334, 0.02058175121118269), (904, 0.020562997979123906), (3694, 0.020501124978143104), (3708, 0.02047502633654597), (2376, 0.02047369009958512), (3043, 0.020449259762276184), (2522, 0.02044792181904371), (2116, 0.02041795950434374), (1401, 0.020407116854839105), (3777, 0.02037165070478569), (1119, 0.020346496871383526), (4735, 0.02034157514639698), (2742, 0.020299844348376818), (2212, 0.020298987815119227), (2727, 0.02029679546850237), (4379, 0.020292467377244154), (3630, 0.020285011768019615), (2024, 0.020275000780405082), (799, 0.020251575508600073), (896, 0.020204690555778428), (3421, 0.020195716149604775), (51, 0.02019087993893537), (1239, 0.020186964046505804), (203, 0.020170909171102872), (160, 0.02014250611862408), (2996, 0.020091998959274437), (808, 0.020040128422015028), (496, 0.02002826129681598), (916, 0.020012370947788616), (684, 0.019990086216642392), (149, 0.019966927261447158), (222, 0.019958930783415266), (3612, 0.019924318091214498), (2016, 0.019869658871036134), (3253, 0.019837468334130203), (231, 0.01981926758466779), (1278, 0.019814129173566924), (1621, 0.01977710466848006), (879, 0.01975984315121588), (3862, 0.019711479300356893), (1384, 0.01969050404109401), (4627, 0.01968635510152844), (1774, 0.019667162252874015), (3297, 0.019661083061048683), (4747, 0.019656918600666234), (2119, 0.019608936652235676), (3430, 0.019593242548593466), (4727, 0.01952923284872757), (1331, 0.019529030975174586), (2874, 0.01950662569155314), (3466, 0.019474550188327663), (4603, 0.019418901572267774), (3731, 0.019411776038327715), (2910, 0.019403156474492866), (75, 0.019395062821521626), (2051, 0.019368751105400282), (2919, 0.019351907965961222), (1019, 0.019346676064964697), (2279, 0.019345238850939174), (2053, 0.019324275561415204), (2784, 0.019314048648878743), (814, 0.019307389006115987), (43, 0.01928852196634289), (1721, 0.01927438694838937), (1665, 0.019263837621203397), (270, 0.01926172348676557), (1224, 0.01926044678428236), (1254, 0.019254285107929783), (4242, 0.01920230161222833), (3750, 0.01920196498202487), (622, 0.019197699355232176), (2049, 0.019157804370115963), (1232, 0.019150635368994456), (13, 0.01913712483577717), (2805, 0.019131473587530798), (2740, 0.019106995611587168), (1360, 0.019104524959670143), (545, 0.019054599945724834), (3317, 0.019052688803371017), (4068, 0.019040970984162856), (1658, 0.01899549775580628), (1685, 0.018994216652645897), (1443, 0.01897361712558408), (3328, 0.01896632129695631), (2695, 0.018949421168605478), (502, 0.018939738281751488), (4203, 0.018931065004610156), (543, 0.018861255115603485), (2915, 0.018856322350186992), (3299, 0.018839382888804497), (3524, 0.01883607917001656), (760, 0.018815762818713895), (1895, 0.0187977914858118), (2254, 0.018791230488642053), (1967, 0.018790144851211825), (2916, 0.018771041878786147), (4503, 0.018745024884801197), (2769, 0.01872012607156385), (1058, 0.018703829182675512), (5, 0.018680012531360965), (452, 0.018664474086415), (464, 0.018656412774683936), (2366, 0.018639204409251698), (3312, 0.01860202067355661), (2917, 0.01858957502403996), (1493, 0.01858564527200197), (806, 0.018580735696515475), (3356, 0.018544474891856306), (87, 0.018540263355787852), (407, 0.018512988360995214), (1334, 0.01850995776902121), (906, 0.018508712778079715), (3094, 0.01849515251065901), (1129, 0.01848071008040613), (1988, 0.01847030736490511), (1317, 0.018455962685155335), (2154, 0.01843067455544297), (3129, 0.018420237223748567), (3279, 0.018413254065673148), (609, 0.018411467305573075), (905, 0.018404451949338718), (847, 0.018404272616647004), (329, 0.0183980239006424), (2080, 0.018397883708060146), (1018, 0.018390399065503934), (1654, 0.01835526199082097), (4673, 0.01832785973219892), (4387, 0.018288868704958345), (1802, 0.01828695292734676), (406, 0.01826948190344714), (3552, 0.018252133451488167), (2346, 0.018235625372216388), (224, 0.018189954176836137), (433, 0.01817908889238172), (2177, 0.01817517831811101), (682, 0.018167353084281926), (2494, 0.018140880126275724), (208, 0.018114970219032394), (3854, 0.018080828178144957), (1342, 0.01805093601770874), (197, 0.018041821209353263), (1591, 0.018040917887480957), (2000, 0.01803654638392113), (4374, 0.01802237525202807), (816, 0.017992021029150408), (2512, 0.017972004048839113), (1337, 0.017964506802381063), (2474, 0.01794511363487763), (692, 0.017943554056222045), (866, 0.017938022898069346), (2250, 0.017934767224968663), (2265, 0.017917619363250988), (3637, 0.017903864874871753), (2868, 0.017791866716627552), (3213, 0.017785845505231112), (370, 0.017782814111682824), (3508, 0.017780917173629274), (86, 0.017778304786002598), (236, 0.017751162145158178), (1075, 0.01772642948448851), (4118, 0.017661585928662717), (988, 0.01764089663919236), (2145, 0.01763414996276636), (989, 0.017632609810739892), (4656, 0.017617780361791065), (1252, 0.01761392098430336), (1739, 0.01757155453505252), (4502, 0.017559780804907915), (1376, 0.01754488285438696), (1293, 0.01752329177483405), (2216, 0.01745573675145118), (2436, 0.017437946585399912), (3822, 0.017395109549884574), (1619, 0.017389081009616364), (3903, 0.01738466870627572), (408, 0.017378190388307388), (2601, 0.017364881886203432), (1787, 0.01734656306907902), (434, 0.01731731840108746), (470, 0.017302565791640436), (1050, 0.01729137000117278), (57, 0.017289767681489952), (3065, 0.017257086756552596), (3370, 0.017240607355136755), (838, 0.01722593117491826), (1951, 0.01719309858352451), (174, 0.017181517776111717), (2224, 0.01717792584392578), (2568, 0.017169378581105222), (88, 0.0171519431678814), (2277, 0.01714774299362644), (620, 0.017129803625093278), (3192, 0.01712588210230986), (948, 0.017122282829864808), (4192, 0.01709435846704537), (3155, 0.017051792728209763), (1752, 0.017048372841876464), (878, 0.017045778385900903), (52, 0.0170441783737874), (4227, 0.017020291833234308), (276, 0.016989854397789696), (676, 0.016983174489638972), (130, 0.01696297582324136), (2831, 0.01695016823879818), (1237, 0.016942849700880384), (753, 0.016899221166818364), (1148, 0.016877340821390075), (3386, 0.016821044547016765), (1310, 0.01680981448512764), (899, 0.01680385430015776), (2096, 0.016794381606855834), (1114, 0.016759264048927237), (3245, 0.016745642718857496), (1182, 0.016742607150177835), (1897, 0.016697889562726623), (2087, 0.016683151856909145), (842, 0.01667927230816877), (3947, 0.016660407427210415), (342, 0.01664441659531645), (648, 0.016631392351686553), (1595, 0.01662951132339477), (733, 0.016612373470869447), (3797, 0.016610775221194484), (1798, 0.016609583558120502), (1290, 0.016595615975287754), (2121, 0.01656988601417903), (1475, 0.01656383074680347), (1000, 0.016542058262230343), (2688, 0.016537104033855953), (482, 0.01653076817201368), (4511, 0.016523646409556607), (1465, 0.016519720478124954), (2005, 0.016505397810828756), (281, 0.016490923026257754), (1832, 0.016478762579616644), (1343, 0.016456228146139885), (1157, 0.016453423773415164), (511, 0.01638654707072546), (1870, 0.016350931653577826), (3453, 0.016284818835709234), (3535, 0.016281092281862218), (1806, 0.016273859771264346), (2412, 0.01625156793715666), (762, 0.016239960946389825), (2812, 0.016224326464494676), (3919, 0.0162242049993384), (4095, 0.01622384212728071), (844, 0.016221954566478035), (4371, 0.01621210846455013), (2486, 0.01620818338702139), (897, 0.01619691979022174), (1020, 0.01618579636696396), (1077, 0.016180504405133227), (1674, 0.01617603650141502), (472, 0.01616753418357534), (3218, 0.016135369017612786), (1919, 0.016129506351356942), (895, 0.01608324242174166), (1249, 0.016081601588262304), (853, 0.016069478738383648), (1815, 0.016049683094802644), (3643, 0.016023763449210103), (1006, 0.01601387969029943), (254, 0.015984063681587047), (2065, 0.015977087366380847), (317, 0.015952257756235065), (1714, 0.01590109467986088), (3373, 0.01589019178032043), (3645, 0.015845732292271143), (4025, 0.015821933570523024), (1957, 0.015808226845455284), (3741, 0.015806484462152263), (173, 0.01580316841281025), (4596, 0.015798449138888487), (29, 0.015765528837530622), (2633, 0.015755972338665745), (2174, 0.01575140572997715), (2144, 0.015751043336567724), (2798, 0.015745346050926673), (3110, 0.015726317859337178), (2978, 0.015715964109164534), (4336, 0.01570289299534161), (1876, 0.015691205489707566), (1382, 0.01568560326979755), (2988, 0.01567406619890912), (1388, 0.01564822272186234), (1779, 0.015643956363626237), (4465, 0.015638138492701566), (2977, 0.01561916526855037), (89, 0.015616729179381105), (461, 0.015604568257255563), (2082, 0.01558920514954801), (2706, 0.015577675567717806), (1730, 0.015560210909241114), (4255, 0.015531870361538583), (2632, 0.015530376387995341), (555, 0.015500293801806172), (2739, 0.015491959008546738), (3689, 0.015491041763245308), (667, 0.015471537013904349), (368, 0.015451853563514452), (3784, 0.015377417931008965), (697, 0.01537067001759736), (1125, 0.015369290476866042), (1971, 0.015351648950336638), (1387, 0.015329332087135631), (3382, 0.015323872718828981), (2744, 0.015316223928702799), (3118, 0.015309894461504296), (19, 0.01527338810002277), (1432, 0.01523930893552037), (527, 0.015190072286833575), (2668, 0.015169384367568862), (3151, 0.015147710783299717), (1519, 0.015132269672368272), (3423, 0.015131029609241512), (1790, 0.015128169863696707), (2447, 0.015123100551890463), (4474, 0.015120468926927526), (4060, 0.015090695031892854), (3142, 0.015076888452145852), (1858, 0.015068096143446577), (2045, 0.015056961238243224), (689, 0.015056948718636297), (2780, 0.01503420763008851), (3334, 0.014997582084979606), (651, 0.01499507347029004), (3756, 0.014989846033065595), (4121, 0.014931963692117889), (32, 0.014929850070198427), (2524, 0.014925900268981003), (653, 0.014911186992406341), (2925, 0.014908255105991686), (2473, 0.01489935613698924), (2933, 0.014893340616287797), (3951, 0.014876401530682946), (538, 0.014861897665115297), (1446, 0.014858724495130357), (1192, 0.014853866621626527), (1754, 0.014844352551042625), (683, 0.014843039909298974), (2316, 0.014840597190171532), (1413, 0.014817435541961943), (3346, 0.014817403904080036), (3586, 0.014814172826666345), (1015, 0.014804836537500693), (385, 0.01480280544803566), (2155, 0.014778954174760248), (3407, 0.014769934263742372), (4335, 0.01476484062979589), (207, 0.01475148219864719), (280, 0.014748608396614352), (1727, 0.01473376859554629), (104, 0.014728335418028643), (1874, 0.014712083808480589), (675, 0.014706730123160624), (2698, 0.014661192273595932), (3579, 0.01465828951097271), (1371, 0.014650442219510822), (483, 0.014631449100984253), (963, 0.014630497604288785), (900, 0.014627569453973397), (1090, 0.014624909432124238), (396, 0.0146222371187524), (3667, 0.014615273719807653), (4531, 0.014613023017545801), (485, 0.014594747991076497), (1875, 0.01459218735731468), (3240, 0.01456814762653063), (79, 0.014567191490730106), (418, 0.014541918096071816), (3659, 0.014533624387598048), (1017, 0.014527164144258985), (1021, 0.014526516519705844), (4510, 0.014503578841662847), (1710, 0.014477647689191266), (2980, 0.014445729309643099), (3399, 0.014433388000166348), (3259, 0.014429269182818326), (1678, 0.014407426423711615), (2505, 0.014403076909145168), (3642, 0.014357149946129048), (2490, 0.014353543004401257), (2546, 0.014350084316271066), (1024, 0.0143414260835413), (654, 0.014341003785879672), (2206, 0.014340885005572554), (734, 0.0143301892088071), (0, 0.014326565756316915), (3237, 0.01432330003437867), (2008, 0.014307520666223775), (775, 0.014303729672202507), (1539, 0.014258722657951507), (3670, 0.014237078725432447), (1705, 0.014235959334830298), (2280, 0.014235193284460507), (850, 0.014219963884188783), (544, 0.014211232322539671), (4524, 0.014206412632958068), (2417, 0.014204927860021614), (3409, 0.014196267898516055), (742, 0.014193562800333298), (3767, 0.014184011909477417), (353, 0.01417411936773821), (1864, 0.01416931812632672), (1949, 0.014168979311800388), (201, 0.01412329500612933), (4435, 0.01411206011056211), (2306, 0.014086796832021424), (962, 0.014081071070930137), (918, 0.01405720467010449), (2918, 0.014031755673704514), (908, 0.014031668665352897), (242, 0.014025978355096318), (180, 0.014025140772675266), (827, 0.01402456530054214), (2235, 0.014013780588236793), (105, 0.014006329778307985), (3152, 0.013991452839285701), (1736, 0.013977335045932968), (2103, 0.01397439486305133), (356, 0.013958047168505888), (1735, 0.013948029800750841), (4440, 0.013932610058803606), (4233, 0.013930840247636307), (4007, 0.013918977970894971), (428, 0.013916610548270286), (3291, 0.013897828606918315), (162, 0.013894019076512014), (4205, 0.013885121216589743), (3880, 0.013866570419574087), (119, 0.013841513389507001), (183, 0.013830857126397339), (2284, 0.013828859501849321), (3389, 0.013811991493636898), (1542, 0.013810916162661854), (3634, 0.013778180443053524), (4557, 0.01376365932279512), (1215, 0.013719991647446597), (4000, 0.013718571067338769), (2196, 0.013716915210311778), (1418, 0.013697239407753246), (3826, 0.013665265256475613), (1255, 0.013647907766089581), (1308, 0.013642345721547489), (1339, 0.013640637087994737), (800, 0.013622526978618876), (1762, 0.013614406006610728), (924, 0.013595562844573316), (4623, 0.013580041141333323), (2379, 0.013566460837750326), (4235, 0.013539808777273439), (4571, 0.013538502091633256), (1922, 0.013536161945925499), (1440, 0.013514933331114217), (869, 0.013494170487043506), (2126, 0.013493926608413361), (1206, 0.013466044841629748), (1009, 0.013451706946771062), (4581, 0.01344368270812894), (1514, 0.01343521702053214), (1234, 0.013432348838523045), (695, 0.013422095087712622), (2143, 0.013422088702265925), (244, 0.01340014582718641), (966, 0.013388306515496242), (3842, 0.013369202556168497), (2871, 0.013346098587760235), (1231, 0.013340371148560792), (3465, 0.013338775802325094), (1690, 0.01332117338433683), (3661, 0.013281261826507407), (1764, 0.013277884021743), (1185, 0.013238449973773051), (403, 0.013213204373016995), (931, 0.013198728863480573), (82, 0.013192888415141036), (332, 0.013158609822004253), (3178, 0.013145510858589407), (447, 0.013109145561988608), (2603, 0.013098800435744747), (4553, 0.013084623640208858), (1220, 0.013082251425495874), (4257, 0.01307791699905738), (1455, 0.01307218101155596), (4685, 0.013066906745059982), (3954, 0.013064450049063927), (3699, 0.01305450233961869), (3039, 0.013040565973950941), (2913, 0.013013120181909678), (994, 0.013002452495245849), (63, 0.012993367141406292), (1063, 0.012968174325525439), (494, 0.012947129180038082), (1436, 0.012920159292146864), (4216, 0.012911344083966382), (3829, 0.012883772217342163), (1934, 0.012879755898949581), (2764, 0.012848418130829261), (125, 0.012844631599355732), (1712, 0.012844154485088816), (4226, 0.012828197145769693), (1713, 0.012822967121245383), (1477, 0.01281984158984105), (4124, 0.012805224578334221), (3582, 0.01279813876635877), (2423, 0.0127819669341452), (1937, 0.012779591854084123), (3925, 0.012777397276403661), (360, 0.012755136128439844), (1992, 0.01275027887089138), (1406, 0.0127449837422788), (2529, 0.012708685054995469), (1920, 0.012707927920162738), (936, 0.01268789461494953), (2759, 0.012687592626199774), (307, 0.012672381642949771), (828, 0.012660208241109167), (2870, 0.012639943947920786), (2803, 0.012622906475624019), (2752, 0.012619492954400286), (1419, 0.01261663268135049), (2975, 0.012597027279756687), (3993, 0.012590476671705915), (1630, 0.012589173006374119), (4366, 0.012588528164722897), (4134, 0.012585173100876196), (2897, 0.012576151483804405), (441, 0.012544614908660044), (2809, 0.012539555783341289), (790, 0.012516143010084135), (3070, 0.01250721902220857), (170, 0.012461485630053728), (1136, 0.012444483830976027), (3418, 0.012442269458346708), (3794, 0.012438057769906571), (463, 0.01243197330356412), (2211, 0.012418276020046786), (60, 0.012385407335922825), (4232, 0.012383073372437919), (2251, 0.01236440734409445), (2989, 0.01236440734409445), (3256, 0.012363212992994083), (641, 0.012349335901093422), (732, 0.012334005053918889), (1776, 0.012257601982318), (402, 0.012252179491962398), (1854, 0.012250925543780298), (3349, 0.012227803962543627), (3096, 0.012222049909372262), (156, 0.01222005439003596), (939, 0.01221498255774331), (4165, 0.012207115421617168), (705, 0.012206528305762633), (4202, 0.012192566505671474), (1005, 0.01219083452947687), (2264, 0.01218829577042895), (4442, 0.012166512572585463), (2545, 0.012156830377458336), (719, 0.012143512199544272), (25, 0.012139230144253929), (1236, 0.01213657194117302), (4325, 0.012130424072738292), (735, 0.012129326845118488), (1680, 0.01211362245596155), (2475, 0.012092585501943177), (2731, 0.012092585501943177), (4617, 0.012092585501943177), (1950, 0.012090206256115472), (542, 0.012067657032341013), (1708, 0.012035550884574623), (2832, 0.012013392572004067), (4344, 0.012004007603252577), (3232, 0.01200190843159245), (4164, 0.011995167950811972), (3108, 0.01199247387546067), (2403, 0.011986252097566716), (4481, 0.011975148131970639), (500, 0.011910521978577936), (3, 0.011906081006668469), (2407, 0.0119024145590875), (2889, 0.0119024145590875), (3074, 0.0119024145590875), (3262, 0.0119024145590875), (2936, 0.011891988913927436), (616, 0.011873179148156417), (915, 0.011845249957889548), (4014, 0.011828236504759984), (1348, 0.01182180433556337), (3267, 0.011817978651682794), (1948, 0.011814257526125542), (1230, 0.011797626844533029), (2981, 0.011793930600106597), (843, 0.011792089404763504), (801, 0.01173541156835882), (3613, 0.011718182702617498), (2643, 0.011685553174401208), (1061, 0.011677478720066772), (3384, 0.011674625611860345), (285, 0.0116553084131167), (2998, 0.011653047324402638), (3012, 0.011651787704461737), (2257, 0.011638677615212062), (2289, 0.011638677615212062), (2655, 0.011638677615212062), (2901, 0.011638677615212062), (3037, 0.011638677615212062), (3248, 0.011638677615212062), (3296, 0.011638677615212062), (3827, 0.011638677615212062), (3832, 0.011638677615212062), (3922, 0.011638677615212062), (3990, 0.011638677615212062), (4163, 0.011638677615212062), (4243, 0.011638677615212062), (4706, 0.011638677615212062), (4710, 0.011638677615212062), (1743, 0.011614493701280119), (309, 0.011614154812275497), (3941, 0.011613196439909868), (2563, 0.011604017244347169), (2209, 0.011590089673187828), (4351, 0.011550867214461668), (1770, 0.01153469734502427), (501, 0.011521565578069748), (829, 0.011517458510885927), (2873, 0.011473771700350542), (3860, 0.011464089309381016), (148, 0.011462186510231955), (2844, 0.011459370270952545), (2816, 0.011447890629723713), (113, 0.011443660517634888), (2872, 0.011441973832071569), (3258, 0.011441973832071569), (3512, 0.011441973832071569), (3892, 0.011441973832071569), (3952, 0.011441973832071569), (4522, 0.011441973832071569), (2255, 0.011434232182571372), (122, 0.011426699644627333), (2778, 0.011413087300703431), (3165, 0.011413087300703431), (4723, 0.011413087300703431), (3051, 0.011409989808616601), (4337, 0.011405881307687497), (3099, 0.011361659997592529), (1816, 0.011360324144017301), (2559, 0.011359278727531143), (3276, 0.011359278727531143), (2614, 0.011333686038025478), (2748, 0.011315627073929187), (1797, 0.01130329848953869), (4182, 0.011297109395126868), (1583, 0.011287652120112238), (1359, 0.011274114343775657), (2768, 0.01126464317630681), (4695, 0.011243823193861463), (2339, 0.011237014813004138), (715, 0.011219044679788723), (2890, 0.011212322111998092), (2418, 0.011206140185416002), (2101, 0.011202503346511307), (2426, 0.011199164398390535), (1014, 0.011183357710918763), (3062, 0.011176184873161167), (3008, 0.011168924950093874), (2966, 0.011160169177776218), (3387, 0.011152947784681195), (4032, 0.011126474007998143), (3264, 0.011120028264944053), (537, 0.011111773545834997), (1799, 0.01111074492853674), (1069, 0.011091119706885661), (4632, 0.011088283735680231), (4718, 0.011088283735680231), (3316, 0.01108364724080576), (271, 0.011050192566861676), (3635, 0.011040298597893877), (4096, 0.01102841546907528), (40, 0.011022252462110985), (949, 0.010993631191627249), (1115, 0.010976950013928746), (3015, 0.010954879847315031), (333, 0.0109418907409123), (582, 0.010939674776788517), (142, 0.010936658495525721), (1262, 0.010892487326867447), (1747, 0.010882603099836201), (2708, 0.010869582338765352), (3983, 0.01085392206147812), (4196, 0.010843954374811974), (635, 0.010843762799274785), (1694, 0.01081284049922801), (1773, 0.01080294579892013), (266, 0.010788451644359895), (4052, 0.010763523175265738), (1486, 0.010751258833939537), (737, 0.010740979183690887), (2394, 0.010736042679803362), (2617, 0.010716499615364966), (3515, 0.0107133566841812), (2349, 0.010709743566687571), (4367, 0.010700974146367646), (321, 0.010660625818456698), (3599, 0.010638855806529294), (1737, 0.010611877267102787), (435, 0.01060439953879959), (2309, 0.010584086315016223), (4061, 0.01056430660281255), (232, 0.010558195574619423), (340, 0.010548542773504092), (2964, 0.010537535842387178), (1812, 0.010525546940417907), (341, 0.010522270583422035), (2775, 0.010516394944883843), (3596, 0.01051345265492282), (1526, 0.010509270355031677), (2303, 0.01050522119784441), (3479, 0.01050202289717105), (778, 0.010498011039868745), (2510, 0.010461534944686724), (2463, 0.010406438220522637), (3632, 0.010390622084852577), (4077, 0.010364074938304194), (3594, 0.010361634133515605), (2883, 0.010353698883999212), (1718, 0.010339987035366413), (4605, 0.010338384096475577), (2193, 0.010336080997127697), (2350, 0.010335108169298609), (4467, 0.01032739957308691), (1442, 0.010278677904197854), (1124, 0.01024642220554755), (386, 0.010244689946385636), (1300, 0.010238080446785747), (2914, 0.0102313492773546), (3932, 0.010226820101893307), (2076, 0.010213435964027037), (3521, 0.010206392614668307), (2480, 0.010198672498877697), (4486, 0.010164046315448995), (1146, 0.010158902571270972), (1266, 0.010151583532834955), (4236, 0.010147415137448578), (1099, 0.010144762184969831), (2726, 0.010139501281607451), (1407, 0.010120927767282364), (821, 0.010083841485741448), (3926, 0.010079366021859314), (1250, 0.010071747825234205), (3166, 0.010070299322881723), (1396, 0.010068684758871328), (2565, 0.010066079005378642), (2335, 0.009992530202135141), (1048, 0.009983082423404758), (3747, 0.009980543309046856), (809, 0.009977147301284876), (2198, 0.009965201751993301), (243, 0.009957922944360426), (2732, 0.009957217223537502), (782, 0.009952183320832798), (4444, 0.009950495676199558), (631, 0.009943933491904377), (3590, 0.009938131505473527), (1692, 0.009933819835437408), (363, 0.0099328005192716), (2415, 0.009919011978405775), (446, 0.009914874591415327), (301, 0.009904677151455852), (313, 0.009873570270743127), (671, 0.009856596526870707), (4057, 0.009842222166722758), (2986, 0.009837123308164306), (1807, 0.009832791827273386), (322, 0.0098120692569115), (3733, 0.009801180544501131), (523, 0.009792554484810234), (1306, 0.00978920961091262), (3648, 0.00978364905063293), (3033, 0.009781120720016382), (1238, 0.009768902337473196), (2879, 0.009763270261959597), (3309, 0.009763180830116569), (817, 0.00976264095052769), (4001, 0.00975591661131563), (4521, 0.009755537614215538), (1195, 0.009755536082766532), (925, 0.009753092449761552), (2691, 0.009742240838986813), (600, 0.009740126525891969), (568, 0.009734083671603567), (2056, 0.00973237581268178), (752, 0.009727505823087746), (1551, 0.009708744027444944), (4713, 0.009703261197086302), (3265, 0.009696717581957054), (1012, 0.009685246055587462), (1316, 0.009671512475722446), (1096, 0.009658750428614703), (56, 0.009649285535513166), (1873, 0.009635630085001885), (1761, 0.009634109148689547), (1494, 0.00963214624517187), (131, 0.00962000752937694), (748, 0.009606673878313661), (2678, 0.009600080951390354), (1852, 0.009599443157845371), (4738, 0.00959625725922085), (766, 0.009593902737156962), (4008, 0.00958919223885955), (1345, 0.009584331647850542), (413, 0.009565814447735972), (1936, 0.009565005153114496), (3081, 0.009561063458566617), (3527, 0.009549363596430983), (4573, 0.009549363596430983), (4734, 0.009549363596430983), (1094, 0.00954095303852231), (1461, 0.009531804902140206), (1986, 0.009512865222230944), (1172, 0.009511835039883135), (1302, 0.009501791378322941), (1276, 0.009500753977394279), (1501, 0.009495532673701033), (2421, 0.009487341118268697), (2535, 0.009484297747220274), (921, 0.00948095169297524), (3359, 0.009479400128577115), (1264, 0.009474689948120285), (2503, 0.009441956099049048), (283, 0.009439578849003547), (1911, 0.009437893109720473), (164, 0.009435325371424472), (1688, 0.009430350915762376), (758, 0.009427644130917581), (3363, 0.009404934571583297), (369, 0.00939067006934991), (1111, 0.009379024773223733), (273, 0.00937418377434396), (1374, 0.009370737090330608), (2640, 0.009362206961328974), (940, 0.009358714561422666), (3426, 0.0093586188801386), (812, 0.009351916556684972), (4217, 0.00935014795237969), (4388, 0.009343222481959934), (3288, 0.009341906882010281), (4261, 0.009336739447259683), (4555, 0.009334733827860148), (2095, 0.009334237372009318), (668, 0.009327422463654245), (615, 0.009323545524088591), (1420, 0.009320598325096966), (1841, 0.00931766880671771), (1327, 0.009315073975700612), (4272, 0.00930667814643352), (3457, 0.009296002346167813), (4726, 0.009288236667738757), (1860, 0.009279316146476565), (4082, 0.009269253164973292), (1087, 0.009256560212947103), (1908, 0.009238565291644725), (4637, 0.009234206805308056), (4564, 0.009231985895349112), (449, 0.00923105425226867), (3713, 0.009223376674177646), (2796, 0.00922121066973299), (2428, 0.009212791633032041), (3536, 0.00921007993150331), (2572, 0.009206524070497957), (4210, 0.00919559590235402), (3004, 0.00919499784538548), (4342, 0.009191020320124203), (3748, 0.009183932813886434), (1867, 0.009182904518521976), (22, 0.009171209644565527), (1809, 0.0091652017212267), (3123, 0.009157297752672183), (182, 0.00914719234827184), (4546, 0.00914094044946588), (1567, 0.009138075384297383), (1552, 0.00910600401798227), (3114, 0.009100764857499223), (1425, 0.009100365023201298), (1913, 0.009097637897299414), (4419, 0.009086561248706625), (2992, 0.009076509693936067), (834, 0.009074886081444815), (4009, 0.009059185429853223), (2020, 0.009054650104307213), (1267, 0.009053423081919436), (4303, 0.009050839751913812), (2680, 0.009047777907872097), (3825, 0.009040729992193209), (346, 0.009027638615370587), (2244, 0.009027413439296647), (1644, 0.009026580788585554), (2098, 0.009019137633149245), (2448, 0.009015192500772313), (2623, 0.009001188104777966), (2772, 0.008997665898727462), (4484, 0.00896765537394398), (1509, 0.008966720849816551), (521, 0.008959047453029532), (3864, 0.008958577293559861), (3566, 0.008954691095977182), (3416, 0.008950884477056664), (2935, 0.00894388722598965), (2437, 0.00893204996546019), (3023, 0.00893003902131074), (3044, 0.008925611242355181), (3246, 0.008922386591050544), (2199, 0.008917412800904717), (248, 0.008910886429200578), (3909, 0.008910206230899448), (3066, 0.008908559078227365), (1647, 0.008901428505394628), (3752, 0.008887825954638431), (618, 0.008886058009673717), (3244, 0.008881751625045555), (2203, 0.008878431944463012), (4619, 0.00887366760500839), (3076, 0.008866599688672386), (3998, 0.0088649116874305), (1696, 0.008864623727569958), (4035, 0.00885291535896431), (1095, 0.008846532851437765), (4099, 0.008843453878913924), (1329, 0.008842989256463374), (4079, 0.008834379610247245), (1849, 0.008832263264555572), (2517, 0.00882756374091825), (4092, 0.00881859413918502), (230, 0.008813409565377416), (1612, 0.008795376841867401), (3680, 0.008787154647420956), (2705, 0.008777396171577963), (1664, 0.008769028573145796), (1746, 0.008766650231499144), (2202, 0.008757242852708335), (2438, 0.008756705553229422), (4160, 0.008756153901987886), (3598, 0.008728300853769829), (2291, 0.008727388160809103), (958, 0.00870957515179337), (1037, 0.008697633486040185), (2160, 0.008696406223381357), (3257, 0.008694802934553327), (263, 0.00869448398763053), (1553, 0.008690233753403803), (354, 0.008682165157572395), (2239, 0.008682124985574939), (2434, 0.008678508541304294), (3046, 0.00867734703679885), (2062, 0.008664943473784511), (2797, 0.008661745972999907), (3085, 0.008645873438064448), (468, 0.008625670779428255), (1226, 0.008621206937951655), (979, 0.00861649003386383), (4412, 0.008615357034392732), (1307, 0.008612816433124249), (2113, 0.008612545796344104), (1723, 0.008609298846928006), (2188, 0.00860781301436985), (3219, 0.00860312627377387), (4106, 0.008594403992961562), (1684, 0.008588615187019526), (1312, 0.008588359347251795), (2929, 0.008584702447467115), (2388, 0.008568928578500053), (4244, 0.008568474758473842), (1793, 0.008564540916409227), (1995, 0.008550097150061237), (445, 0.008549756442878354), (300, 0.008535669940727325), (1650, 0.008521968060770935), (3140, 0.008512072811854777), (2205, 0.008510857894912538), (9, 0.008508976449034394), (4576, 0.008494430096229919), (597, 0.008487840393060846), (3620, 0.008481549524001396), (783, 0.008478031116858504), (4110, 0.008471207848588631), (185, 0.008461599109606094), (835, 0.008458273766778093), (721, 0.008456321466099308), (2185, 0.008454797768631133), (3072, 0.008449724803487116), (177, 0.008443978434450076), (1818, 0.008443634111378462), (1571, 0.008442621069784467), (4133, 0.008442206242092867), (2075, 0.008436678506669439), (2439, 0.00843153221141983), (3329, 0.008430669434598753), (3763, 0.008425591745407503), (4594, 0.008422169929088983), (1662, 0.008370057898962977), (2943, 0.00836220223745912), (1715, 0.008360081623116663), (2094, 0.008355451250480013), (4649, 0.008346608742091087), (3901, 0.00833185360132775), (3214, 0.008329410299170332), (4517, 0.00832759003157993), (1208, 0.008324123971111194), (3146, 0.008315157100110784), (3282, 0.008314837603943914), (2942, 0.008310789900220158), (35, 0.008308897749661499), (327, 0.008302196746983494), (1903, 0.008298425657932288), (2013, 0.0082899321376765), (3274, 0.00828688840836646), (2236, 0.008266591064362611), (4459, 0.008262765219744481), (1863, 0.008260197764652586), (4385, 0.008253783418235683), (4443, 0.008226472629630813), (2881, 0.008225153888897049), (583, 0.008205468208487733), (2674, 0.008204622224468102), (2286, 0.00819602138236721), (3821, 0.008193296809173274), (2974, 0.008164227775470469), (159, 0.008141081701600031), (3215, 0.00813949067256976), (288, 0.008135317170489565), (2411, 0.008129150518225343), (2175, 0.00812204382316836), (1538, 0.008108922032151614), (3509, 0.008106317392834269), (4722, 0.00810149966317819), (2848, 0.008096172161186665), (3957, 0.008094981842169462), (4477, 0.008065196587176986), (2058, 0.008061143350127099), (888, 0.008056373469829663), (2229, 0.008039492564855892), (2696, 0.00803042775325607), (2556, 0.008023661407833484), (1833, 0.008010004969780334), (4748, 0.008007721242741938), (2838, 0.007995432431134547), (2344, 0.007979270995135177), (3766, 0.007977647796483559), (2285, 0.007972888176611603), (1049, 0.007953622736179609), (4593, 0.007950020516042933), (3656, 0.00793992553393562), (4055, 0.0079293339142459), (4589, 0.00791823689289335), (3293, 0.007913857495677946), (4652, 0.007913431487507344), (3799, 0.007904360159517267), (2266, 0.00790285726368631), (3865, 0.00789568136503499), (2820, 0.007880024955317344), (1144, 0.00787860826403211), (4660, 0.007868772785389373), (4293, 0.00786812065896122), (326, 0.007866103483716292), (168, 0.007863325298699337), (3962, 0.007862557186876156), (664, 0.007859813296149905), (3704, 0.007856862001060685), (2156, 0.007854661127467922), (903, 0.007853995245604069), (4625, 0.007851678352171107), (277, 0.007836085541539037), (3898, 0.007828333436402097), (2197, 0.007826397020916233), (3813, 0.007822285565454428), (3883, 0.007809529678861701), (4117, 0.007808152202206581), (2834, 0.007796411513583376), (4158, 0.0077948468265709794), (2985, 0.007787474587395364), (4311, 0.00778579848828607), (2587, 0.00778446879572327), (2478, 0.007753663742771135), (1194, 0.007742836542433101), (1429, 0.0077419736155855), (3425, 0.007740276682885818), (2664, 0.007732786025751331), (2074, 0.007711210108548873), (3032, 0.0077103645445077505), (2821, 0.0076981188273364766), (970, 0.00769532458877595), (3772, 0.007688717422345754), (2789, 0.007680385172242034), (4333, 0.0076753841129167865), (2946, 0.0076721831323528855), (1711, 0.0076684799095933735), (4668, 0.007660162304747578), (1187, 0.007657340641170635), (78, 0.007656720850398184), (3273, 0.007654424281106514), (3754, 0.0076541139585519155), (3355, 0.0076432775638301), (3353, 0.0076073203948154805), (2302, 0.007602540656465747), (1909, 0.0075977089708262864), (3940, 0.0075929034377442695), (2108, 0.00758662814161718), (826, 0.007579059267195577), (1885, 0.007561220705808871), (4138, 0.0075406389586396925), (1905, 0.0075300297228502126), (3417, 0.007523240568957147), (4490, 0.007519031494794016), (2530, 0.007516504200562036), (4295, 0.007512137506952999), (4111, 0.007511952380683447), (3904, 0.007505731138839661), (3638, 0.007501583163266266), (2570, 0.007501441355532135), (761, 0.007497298083190413), (4024, 0.0074928306885322735), (2400, 0.007487011896271005), (3075, 0.007486136719837995), (419, 0.007456226205882725), (2488, 0.007450387883381494), (4269, 0.007434218726067558), (3984, 0.0074315734939949), (1947, 0.007430959615272261), (3164, 0.007429694740956819), (2579, 0.007429602440176288), (2134, 0.007428499442973377), (3601, 0.007416650054654122), (4369, 0.007412401872057245), (4528, 0.0074029106641474345), (3749, 0.007401162268900277), (2089, 0.007388134750500502), (3526, 0.007380216615879159), (3920, 0.00737659573129671), (2159, 0.007373690042542941), (1570, 0.007352913765054074), (3413, 0.007336490210607095), (3112, 0.007332446146703506), (2702, 0.007329193661901565), (2361, 0.0073194767347963185), (2022, 0.007317053104824042), (4507, 0.007313323116741039), (1279, 0.00731154103865283), (1398, 0.007307386831216923), (4448, 0.00730669672717218), (4516, 0.007304899502520349), (3559, 0.007297988370004698), (2386, 0.007284152995743502), (431, 0.007276707401661164), (4368, 0.007276265458265476), (1498, 0.007273880003370094), (3364, 0.007266345342809523), (3325, 0.00726603178339436), (2665, 0.007265547131618876), (1453, 0.0072645375648859745), (2857, 0.007262438259607413), (1065, 0.007258186501844979), (1547, 0.007243697102040183), (4657, 0.00723393102607826), (2459, 0.007212492876187187), (4699, 0.007195974678597511), (2427, 0.0071878548707787066), (4087, 0.007172445900127729), (3751, 0.007152487202964711), (477, 0.007148427973997011), (3542, 0.007138447494205984), (4098, 0.007135015470773284), (3408, 0.007128854996192524), (3241, 0.007104422320145572), (3501, 0.007094564978143165), (644, 0.007091879127730652), (4575, 0.007082870450260387), (4116, 0.007074404780345612), (3235, 0.007074077325158581), (3198, 0.007068416504310932), (2260, 0.007067496696897912), (2162, 0.007067084651503942), (4373, 0.007066834373851875), (2048, 0.007066742183578728), (274, 0.007056791087052566), (596, 0.007027514981031364), (2924, 0.007023716145381129), (1350, 0.007002128107536692), (587, 0.006999572302816325), (998, 0.00699052677005297), (3410, 0.0069845772899677465), (3560, 0.006977475764066627), (2348, 0.006960042358680328), (3745, 0.0069410097626612585), (3357, 0.006936726740411259), (3917, 0.006929613434613536), (991, 0.006928066687354774), (2629, 0.0069223557409635005), (3170, 0.006917280342347378), (3866, 0.006903672618205933), (4357, 0.006900812620506782), (3308, 0.00689241873817966), (1695, 0.006886465278480732), (4330, 0.00688530332288675), (813, 0.006881041511313065), (3268, 0.006870810712332663), (999, 0.006862600955224406), (1892, 0.006856437913339918), (2391, 0.006853603724113391), (4266, 0.006835893031090904), (3666, 0.006833181186950037), (4629, 0.006829623152891502), (8, 0.006825646540575091), (3577, 0.006825467130896324), (3116, 0.006803690551461346), (3183, 0.006797259345576065), (2176, 0.006792302236995478), (2893, 0.006790886112608003), (2774, 0.006787295452651172), (3902, 0.006778768738169543), (3557, 0.006775701110709613), (3873, 0.006775539448813397), (2269, 0.006771027368826746), (1923, 0.006770638520636493), (2531, 0.006764898563848549), (336, 0.006758535744166699), (4051, 0.006750297101642575), (436, 0.006748381062999665), (3707, 0.0067462202235925245), (3893, 0.00673265236122467), (2840, 0.006724326060701596), (2405, 0.006723471081438566), (4520, 0.006721908169534381), (4643, 0.006713260382113616), (1748, 0.006703413529363878), (414, 0.006702401075010049), (985, 0.006699380856499092), (4422, 0.006690257000267411), (4533, 0.006688676855979789), (3391, 0.006687189134007638), (3639, 0.006680423478692573), (1161, 0.0066757643176687895), (3867, 0.006669378586550684), (1822, 0.006665688991234114), (561, 0.006662311899841832), (4249, 0.006657078016267309), (627, 0.006650878386335995), (2390, 0.006648309093685228), (448, 0.006643368196669167), (2887, 0.006642999942069698), (1701, 0.0066376304397200315), (3187, 0.006632076562114644), (2320, 0.006631788765038312), (1040, 0.006631311762537338), (614, 0.006622002235633245), (3900, 0.006611774929952294), (4535, 0.006609506762542718), (4650, 0.006607414096138705), (3618, 0.006605199486231536), (579, 0.006603752797040378), (623, 0.006594910227915314), (2888, 0.0065944117495909), (2592, 0.0065942902523055975), (3302, 0.00658183189247437), (2999, 0.006575814451766969), (2466, 0.00657350393534596), (3500, 0.006569177867144921), (4430, 0.006567701138211581), (2555, 0.0065415433803767626), (1916, 0.006541422421523447), (1513, 0.006537580528503938), (3148, 0.0065367094872913565), (1325, 0.006535162373426438), (3097, 0.0065316322553076265), (2625, 0.006531180366930769), (2926, 0.006529966669614648), (739, 0.006529487169265774), (2755, 0.0065094306127366905), (3809, 0.006503293365484745), (3205, 0.0065030391314249035), (3196, 0.006496209095497191), (4287, 0.0064905955874232845), (693, 0.006485393333522393), (2554, 0.0064795562010332205), (1968, 0.006469029497558918), (1489, 0.006468360457225376), (2776, 0.00646827436000624), (1628, 0.006457038937803749), (576, 0.006456490155367149), (2223, 0.00644991370471902), (3013, 0.0064448023241313775), (12, 0.006433527570510011), (1851, 0.006426862862313902), (1415, 0.006426453022113176), (3640, 0.006426406217896328), (4566, 0.006423497856547511), (3184, 0.006418133680105613), (4494, 0.006392579115779321), (1687, 0.0063785958785135734), (3960, 0.006376843624752486), (155, 0.006376731590613851), (1109, 0.0063729476508233044), (4638, 0.006371686645933838), (4101, 0.0063695074142607715), (3125, 0.0063681216882842), (443, 0.006358264987007547), (4501, 0.0063555570434839295), (1071, 0.006354768213998672), (2854, 0.006353115588486764), (1924, 0.006352716887893362), (876, 0.006350740545118449), (716, 0.006346754683617767), (2477, 0.0063454230169872165), (4401, 0.006337097006288117), (2687, 0.006336815732940421), (34, 0.0063349032519619064), (2064, 0.006334361659130503), (3234, 0.0063295165188592), (3928, 0.006327207151286663), (3496, 0.006323403866860728), (857, 0.006323269219823332), (4259, 0.006320107699728218), (4286, 0.006319594848904865), (3406, 0.006302402720063725), (2230, 0.006290976293223267), (3511, 0.0062889252545989755), (350, 0.006287531151813937), (2830, 0.0062851690501419125), (3845, 0.006275765200730678), (4470, 0.0062755193223552035), (4113, 0.0062684629441826095), (688, 0.006255511966020504), (107, 0.006250866094099175), (4489, 0.006245815244481187), (1907, 0.006241137955787229), (3050, 0.006240054482329414), (2911, 0.006238109725850777), (1225, 0.006235277209662009), (2105, 0.006229240355504609), (3771, 0.006225033822946268), (2907, 0.006223279611983528), (3551, 0.006222006416659428), (612, 0.006219617641579676), (1866, 0.006205043457497898), (4005, 0.0062015176534650955), (728, 0.006197108821444218), (2782, 0.0061961675532969775), (1083, 0.0061957740770552175), (318, 0.006193310465699744), (3195, 0.006192945617861914), (3727, 0.006189108056351918), (1324, 0.006188317816216786), (2242, 0.006186180302642996), (4563, 0.006176007295538106), (1722, 0.006174598981367708), (3653, 0.006171867931374862), (1474, 0.006171157148668939), (1537, 0.006170099276255828), (729, 0.00616929335123724), (1463, 0.0061648203376349795), (1902, 0.006161495242488112), (1893, 0.006160261960745082), (4362, 0.006160096207090892), (1410, 0.00615546630570802), (4056, 0.006147482696200892), (4334, 0.006138906731128504), (4187, 0.006136639849528512), (673, 0.006130424704643408), (1364, 0.0061266437884799334), (4130, 0.006124696055982061), (1400, 0.006122332904306241), (4670, 0.006113291297261215), (1703, 0.006112258138033024), (4284, 0.006111826378062151), (74, 0.0061051967155694945), (564, 0.006104171419194355), (41, 0.006103525090285045), (178, 0.006101203513662692), (4033, 0.006099555632550928), (1007, 0.006094205679557179), (3624, 0.006089262139163206), (637, 0.006085878195139621), (1717, 0.006082611831566832), (4601, 0.00607988924582094), (2741, 0.006077522144399543), (206, 0.006070097466394743), (1349, 0.006069109840217564), (3755, 0.006063959660876977), (1896, 0.006063121473097376), (23, 0.006060491160482481), (1188, 0.006057404541832252), (488, 0.006051405419674768), (479, 0.006049056924459571), (3780, 0.006047754628995622), (3449, 0.006046762536992214), (3669, 0.006043093176297337), (1946, 0.006042662726234494), (3516, 0.006039863459331167), (1960, 0.006034940883780302), (3458, 0.006029712659143884), (743, 0.006028984247793411), (430, 0.006025254801812845), (2402, 0.006020709674545094), (1286, 0.006018519777746148), (493, 0.006018268051308563), (792, 0.006011681741412793), (192, 0.006010618186875882), (2593, 0.006007508140184371), (2088, 0.005996967482342486), (4309, 0.005992871019053128), (1163, 0.005988779551713832), (481, 0.005988760699293658), (2104, 0.005987685667053156), (2661, 0.005986917432612829), (4624, 0.005979859425500053), (3915, 0.0059760514396112316), (3330, 0.005975708422523973), (4712, 0.005973387308978587), (504, 0.005972970013942494), (774, 0.005967170325114731), (930, 0.005963415096659326), (2073, 0.005961583035775373), (2067, 0.005959923354240989), (975, 0.005959183092548786), (4446, 0.0059511255943903016), (1884, 0.005950796608213766), (1518, 0.00594242224628998), (872, 0.00594106218869454), (255, 0.00593929107125248), (3314, 0.005938808274285618), (3506, 0.005938228251626399), (1918, 0.005937015704056074), (3654, 0.005933673358637512), (2743, 0.005926081970446482), (1740, 0.005926034263393717), (1179, 0.0059023607509411675), (4046, 0.00590003877137887), (3388, 0.0058935949108141535), (2083, 0.005893056466816181), (1931, 0.005892978146414787), (3765, 0.005892697783016506), (1223, 0.00589122876866188), (861, 0.005885688366432154), (3734, 0.005877301982136429), (2779, 0.005875820313610518), (4123, 0.005875232410017957), (1378, 0.005870615941670664), (3436, 0.005868093489153549), (4054, 0.005861692369327693), (3493, 0.005859267360184581), (4151, 0.00585520470191534), (2609, 0.0058497396481767515), (2295, 0.005848326189561106), (3456, 0.0058411113808126275), (2393, 0.005840388163179656), (3233, 0.005837344781319918), (750, 0.005835038276656021), (1338, 0.0058350114164618895), (1768, 0.0058302833299746235), (871, 0.005825332469246321), (2894, 0.005823797280027459), (132, 0.005822773843335027), (4036, 0.005813186321381317), (980, 0.005812511264335126), (2976, 0.0058101508749548985), (923, 0.005807518645589158), (588, 0.005803147640925583), (660, 0.005800954110623043), (169, 0.005795631109946077), (1177, 0.0057924676004679), (1176, 0.005790787146078215), (696, 0.005789323778327315), (2652, 0.005786714436691415), (580, 0.005785596920175992), (1634, 0.005778297037426301), (1645, 0.005776901363918208), (471, 0.005775558773560354), (456, 0.005774957903226972), (606, 0.005774486688422105), (103, 0.005758912796076014), (2606, 0.005756427996865023), (1476, 0.005753657872457845), (4038, 0.005750416899058177), (71, 0.005748067083160286), (2746, 0.005743333379387552), (755, 0.005738000670910609), (3445, 0.005732467284038738), (2492, 0.005731420948707598), (2467, 0.005729292284969242), (3278, 0.005726477112131559), (2660, 0.00572593073181009), (221, 0.00572526402739241), (1706, 0.005717611866771328), (400, 0.0057150113613612715), (1653, 0.005711197766348587), (2747, 0.00570650804465384), (3706, 0.005699688407147623), (1643, 0.005697046533904453), (1102, 0.005695276207712362), (652, 0.005693009929306011), (4356, 0.005691504714584129), (4183, 0.005688056675693707), (1438, 0.005682313487953072), (2319, 0.005677134009286392), (3303, 0.005675603914427406), (216, 0.005675064812735214), (3402, 0.005673216403388447), (1454, 0.00566832536773709), (2034, 0.0056593407304935325), (2422, 0.005658145266884628), (3882, 0.005655351746512449), (2091, 0.005654816519954931), (4011, 0.005648280483596563), (4536, 0.0056478482365709196), (3571, 0.005636486106467509), (2169, 0.005636276122479776), (1209, 0.005636089625142259), (1122, 0.005634093575287883), (3811, 0.005632348706214416), (1891, 0.005629661910058958), (2642, 0.005629280000857212), (2972, 0.005629033072476823), (1229, 0.00562795828286657), (3435, 0.00562688066899807), (453, 0.0056260822707863934), (3227, 0.005625545746900651), (2904, 0.005624528804156552), (1140, 0.005620262713440161), (4420, 0.005612583232572705), (2496, 0.00561203908211617), (2520, 0.005611260795502551), (238, 0.00561098296075389), (951, 0.0056069290597591855), (2945, 0.005601392069525791), (1620, 0.0055994788588734495), (1335, 0.005597729703117118), (3673, 0.005590111409379143), (3014, 0.005585744648804), (4178, 0.005584633337075041), (3342, 0.005583571947694878), (3564, 0.005580065802709044), (3890, 0.005578364818700054), (2131, 0.005578194098797704), (2226, 0.005574005438051541), (11, 0.005573905728319721), (4530, 0.005563327862584039), (1472, 0.005561899492770737), (3953, 0.0055616935505968974), (165, 0.0055590848487136624), (3623, 0.005557482285692941), (2102, 0.005556221698620617), (127, 0.0055542220829807795), (2714, 0.005553911252827346), (16, 0.005552508014233892), (190, 0.0055501245419227), (198, 0.005549387927931424), (4429, 0.0055477328639767995), (2061, 0.005547412255217841), (2068, 0.00554254971528918), (2634, 0.005542333672116086), (1558, 0.005536525394875582), (348, 0.005534868004387093), (894, 0.005530643597767182), (3487, 0.005529860296493233), (2397, 0.00552863427991246), (3888, 0.005527915798500713), (1882, 0.005524684811828125), (865, 0.005520009050786959), (2029, 0.005514679341742058), (1138, 0.005506037881990134), (3477, 0.005500899636080978), (4394, 0.005499466531614358), (372, 0.005499330834859092), (2430, 0.0054983084515446), (3298, 0.0054934653586984575), (4472, 0.005490973225761735), (636, 0.005488992371313385), (1483, 0.005488418196868402), (1408, 0.005488339452774009), (1744, 0.005488315332922797), (2287, 0.005486198490646104), (2195, 0.005485064653022339), (200, 0.005484850564718329), (1131, 0.00548482435373733), (1667, 0.005484060381032778), (495, 0.005480515997475616), (3739, 0.0054694393342812), (1533, 0.00546722935461261), (3974, 0.005464226651328311), (1313, 0.005463600887337236), (969, 0.005463546466139349), (2612, 0.005463533576805845), (4135, 0.005463086078104016), (611, 0.005456679502005482), (490, 0.005456584556761295), (608, 0.005455361222540179), (558, 0.00545465774574181), (1983, 0.005449397064857791), (4487, 0.005446779946675562), (1598, 0.005444832306538889), (1084, 0.005441652930061005), (3876, 0.005439711498206252), (114, 0.005438912619893823), (3311, 0.0054379373374949325), (4137, 0.005437870062035377), (1191, 0.005437671366526673), (4069, 0.005432406631955498), (4345, 0.005431152256740487), (3868, 0.005427113886999052), (2965, 0.005426892711594593), (655, 0.005426604771231482), (2457, 0.005426240310628253), (749, 0.005425408939278144), (267, 0.0054158746891013075), (880, 0.0054123771744954965), (2878, 0.005410112949981449), (722, 0.005410077081380673), (509, 0.005409342609065874), (3220, 0.005409297584512069), (4085, 0.005404256117296229), (1044, 0.005404103090130327), (3646, 0.005398956116100686), (2862, 0.005398427049099578), (1170, 0.005396738777083971), (698, 0.0053950309036576724), (4636, 0.00538965811764664), (3379, 0.0053830550251169965), (2461, 0.005382637741702812), (3315, 0.005381746395432686), (1693, 0.005378243171933658), (2117, 0.005370626907919834), (3147, 0.005370102899049772), (1813, 0.005369775389159644), (3182, 0.005367079513929124), (3304, 0.005347755835818806), (3819, 0.005346304953031948), (907, 0.0053434756559710425), (3028, 0.005339341273022689), (2367, 0.005338653146219037), (4640, 0.005334105994403289), (1422, 0.005332720246175678), (2899, 0.005331497929456483), (3696, 0.005329236699589664), (3641, 0.005324744132231553), (1819, 0.005320276588512099), (769, 0.005317576621983908), (959, 0.005313718153256381), (4020, 0.005309249571871214), (798, 0.0053078544038361215), (2313, 0.005303681985867038), (1247, 0.005298861040831117), (2004, 0.0052903730274059405), (1462, 0.0052869833442261), (92, 0.0052803586904150565), (3807, 0.005280350038586836), (2069, 0.005280088585838021), (604, 0.005277517835462894), (1448, 0.005277162051825766), (522, 0.005275843591050456), (727, 0.005271950364044555), (598, 0.005265018839560274), (1605, 0.0052641380390485455), (4626, 0.005261968872004109), (4066, 0.005259145248501211), (388, 0.0052579338998752865), (359, 0.005253686981388539), (3254, 0.005253107795871559), (3347, 0.005252246777402219), (1123, 0.005247753844168202), (4674, 0.005246115276804709), (2892, 0.005238440424722629), (325, 0.005233595629705768), (3120, 0.005231886764429962), (2802, 0.0052280182645546725), (672, 0.005225163186315613), (1969, 0.0052209935195124835), (3910, 0.005220785393201515), (1481, 0.00521858711195461), (2355, 0.005216048575851853), (1543, 0.005215794037129463), (1041, 0.005215310256586521), (2031, 0.005213767149224487), (3122, 0.005205666513442161), (3660, 0.0051992931068190786), (18, 0.005193522780041566), (3300, 0.0051920455029262945), (1273, 0.005191391656829562), (854, 0.005187405409792687), (1370, 0.005183123674069809), (852, 0.005180553346197061), (480, 0.005176080349528196), (4473, 0.005175071884299749), (4591, 0.005174999072193487), (3327, 0.005173573528237084), (886, 0.005169311793772279), (1001, 0.005168427271950959), (355, 0.005168350518478953), (594, 0.005159651418302288), (605, 0.005155462304233527), (4282, 0.005155042663833504), (1027, 0.005154753253796793), (2201, 0.005150784822725174), (1034, 0.0051502860133526675), (1782, 0.00514735724508698), (1340, 0.005147147776264897), (1796, 0.005143298819734252), (3742, 0.0051425121023994805), (659, 0.00513658515197483), (357, 0.00513395777494919), (3071, 0.005124994949900126), (2920, 0.005121064966091595), (31, 0.005116287711440493), (1565, 0.005113474522925868), (3913, 0.0051117371315698035), (2800, 0.005110676825899526), (1421, 0.005108172801314251), (1060, 0.005107508258063928), (2399, 0.00510746785911989), (1582, 0.005097813076930238), (3474, 0.005096884664429482), (416, 0.005095742170942484), (2453, 0.005089800992053407), (2611, 0.005081075985129606), (2591, 0.0050792367974908095), (707, 0.00507656317332375), (1666, 0.005075140079645892), (121, 0.00507288499995458), (1763, 0.005072740883649721), (4152, 0.005072479435500654), (944, 0.005068593651798265), (1026, 0.00506810627267267), (1597, 0.005067564576272601), (2010, 0.005058571703491462), (2127, 0.005057755890680775), (2509, 0.005055937083599535), (1869, 0.005054463083495749), (1478, 0.005043519050932816), (1357, 0.005042722514704579), (2528, 0.005039551899158023), (3331, 0.0050387026059409085), (1372, 0.005036044003309045), (3200, 0.005030473955268781), (4350, 0.0050253613892315314), (1080, 0.005023969029110958), (1427, 0.005022253030534284), (1002, 0.005018560484638402), (2338, 0.00501699185530462), (3024, 0.005016493292646152), (3657, 0.00501612807918527), (136, 0.005015571579189295), (4247, 0.00501101241842214), (1977, 0.005009474501369335), (3194, 0.0050087742112689924), (2527, 0.005005536185927205), (373, 0.005002641272620003), (4733, 0.0049900632611385295), (1375, 0.0049881632535518595), (96, 0.004986224718170897), (910, 0.004984204973976292), (1627, 0.004982801103311053), (1608, 0.004982401948957138), (4479, 0.004975565054690909), (589, 0.004974030760135282), (1964, 0.004972354532885615), (2502, 0.004967837366591262), (1217, 0.004963431628880692), (2132, 0.004958840001882328), (4523, 0.004955671758501812), (349, 0.004954367863993406), (1079, 0.004951682845046334), (1352, 0.004950866292125742), (3503, 0.004949021770180163), (3956, 0.0049403230230415955), (3563, 0.0049398137764438965), (1078, 0.004936616461407709), (804, 0.004934032030829694), (1827, 0.0049326072999173265), (3614, 0.004931122819631248), (1423, 0.004915287011080077), (457, 0.004914117473508233), (3534, 0.004913301955646012), (3056, 0.004911895454207651), (3705, 0.004905872429002443), (2526, 0.004899388091222332), (215, 0.004899173067371235), (3575, 0.004896078655407223), (4402, 0.004892927181962399), (3460, 0.004890439958362701), (4154, 0.004890164440613633), (1488, 0.004886042801785385), (1503, 0.004878690804832749), (1760, 0.004873945335445205), (744, 0.004869164840413875), (195, 0.004869146568646445), (1107, 0.004862762309895664), (856, 0.0048604245466527226), (3569, 0.00484202267885918), (184, 0.004839801380683669), (2482, 0.004837724106630436), (1830, 0.00482965070908186), (1186, 0.004829595933466371), (1414, 0.004829215079105304), (3318, 0.004822140657758812), (851, 0.00482196558244594), (410, 0.004817383229661844), (4590, 0.004815652904327077), (2580, 0.004794761617202309), (4074, 0.004793633436954422), (3027, 0.004790142220342834), (981, 0.0047885211114312674), (2771, 0.004788122417342151), (3380, 0.004783802629127689), (1219, 0.004777906556984422), (1616, 0.0047724226514686266), (3137, 0.004765108774836573), (815, 0.004755362334054893), (4143, 0.004753069640809697), (4411, 0.004748224042808549), (111, 0.0047473537991943515), (4432, 0.004741319981841073), (2724, 0.004735307099407034), (97, 0.004724640679976648), (563, 0.004720364117336977), (2157, 0.004707338088264475), (1719, 0.004678995941392782), (286, 0.004676472847683377), (2845, 0.004663580710994164), (1199, 0.004629657163602366), (1318, 0.004621411601556312), (194, 0.004606104066991279), (617, 0.004592244743821467), (1251, 0.0045860123931211715), (712, 0.004573955942842435), (703, 0.004562056572648259), (2240, 0.004559647057031703), (1943, 0.004538165124841303), (3393, 0.004507786230870698), (1394, 0.004505338672964818), (475, 0.004495865551684696), (3855, 0.004488614869565454), (642, 0.004487239107884615), (1088, 0.00446588514073664), (3199, 0.004464711072462076), (1886, 0.004452679462277899), (3301, 0.0044294044699246735), (1828, 0.004423318722192862), (2697, 0.004416618037727051), (2359, 0.004409775045961421), (2758, 0.004403113315946714), (626, 0.004396691804710776), (256, 0.0043824703779756806), (1356, 0.004376284681004482), (2039, 0.0043665994824010025), (2761, 0.0043297220843041846), (1624, 0.004296675599606581), (953, 0.004286895490602879), (831, 0.004284595802874031), (607, 0.004278663741111829), (2441, 0.00425873640635392), (4752, 0.004240617642650973), (1989, 0.004210067241879807), (1677, 0.0041949456611465605), (1305, 0.004171395194578182), (1303, 0.004151010339287458), (3626, 0.004150268684819951), (3365, 0.004130674951633504), (351, 0.004087738274659939), (2767, 0.004067960001457011), (2766, 0.003988719973024543), (4171, 0.003953623788617995), (3546, 0.0039533695354911245), (571, 0.003934802024318976), (562, 0.003930692569774578), (228, 0.003812485904681422), (1351, 0.0036264673060942315), (129, 0.0035044756872724373), (455, 0.0035020304281526277), (202, 0.0034407041980824946), (858, 0.003403272475937965), (2534, 0.0021487266602649335), (1, 0.0), (2, 0.0), (4, 0.0), (6, 0.0), (10, 0.0), (14, 0.0), (17, 0.0), (20, 0.0), (24, 0.0), (26, 0.0), (27, 0.0), (28, 0.0), (30, 0.0), (36, 0.0), (37, 0.0), (38, 0.0), (39, 0.0), (42, 0.0), (47, 0.0), (49, 0.0), (50, 0.0), (53, 0.0), (54, 0.0), (55, 0.0), (58, 0.0), (59, 0.0), (64, 0.0), (66, 0.0), (69, 0.0), (70, 0.0), (72, 0.0), (73, 0.0), (76, 0.0), (77, 0.0), (80, 0.0), (81, 0.0), (84, 0.0), (90, 0.0), (91, 0.0), (93, 0.0), (94, 0.0), (95, 0.0), (98, 0.0), (99, 0.0), (100, 0.0), (101, 0.0), (102, 0.0), (110, 0.0), (115, 0.0), (117, 0.0), (118, 0.0), (128, 0.0), (133, 0.0), (134, 0.0), (135, 0.0), (138, 0.0), (139, 0.0), (140, 0.0), (141, 0.0), (143, 0.0), (146, 0.0), (150, 0.0), (151, 0.0), (152, 0.0), (153, 0.0), (154, 0.0), (157, 0.0), (158, 0.0), (163, 0.0), (167, 0.0), (171, 0.0), (176, 0.0), (186, 0.0), (187, 0.0), (188, 0.0), (189, 0.0), (191, 0.0), (196, 0.0), (205, 0.0), (211, 0.0), (212, 0.0), (214, 0.0), (217, 0.0), (219, 0.0), (220, 0.0), (223, 0.0), (225, 0.0), (226, 0.0), (229, 0.0), (233, 0.0), (234, 0.0), (235, 0.0), (237, 0.0), (239, 0.0), (240, 0.0), (241, 0.0), (245, 0.0), (246, 0.0), (247, 0.0), (249, 0.0), (250, 0.0), (253, 0.0), (257, 0.0), (258, 0.0), (259, 0.0), (260, 0.0), (262, 0.0), (264, 0.0), (265, 0.0), (268, 0.0), (272, 0.0), (275, 0.0), (278, 0.0), (279, 0.0), (284, 0.0), (289, 0.0), (290, 0.0), (291, 0.0), (293, 0.0), (294, 0.0), (295, 0.0), (297, 0.0), (298, 0.0), (299, 0.0), (302, 0.0), (303, 0.0), (304, 0.0), (305, 0.0), (306, 0.0), (308, 0.0), (310, 0.0), (311, 0.0), (312, 0.0), (314, 0.0), (315, 0.0), (316, 0.0), (319, 0.0), (320, 0.0), (323, 0.0), (324, 0.0), (331, 0.0), (335, 0.0), (337, 0.0), (338, 0.0), (339, 0.0), (344, 0.0), (347, 0.0), (352, 0.0), (361, 0.0), (362, 0.0), (365, 0.0), (366, 0.0), (367, 0.0), (375, 0.0), (376, 0.0), (377, 0.0), (378, 0.0), (379, 0.0), (380, 0.0), (382, 0.0), (383, 0.0), (384, 0.0), (389, 0.0), (390, 0.0), (391, 0.0), (392, 0.0), (393, 0.0), (394, 0.0), (395, 0.0), (397, 0.0), (398, 0.0), (399, 0.0), (401, 0.0), (404, 0.0), (405, 0.0), (411, 0.0), (415, 0.0), (417, 0.0), (420, 0.0), (421, 0.0), (422, 0.0), (423, 0.0), (424, 0.0), (425, 0.0), (426, 0.0), (427, 0.0), (432, 0.0), (439, 0.0), (440, 0.0), (444, 0.0), (451, 0.0), (454, 0.0), (459, 0.0), (460, 0.0), (462, 0.0), (466, 0.0), (467, 0.0), (469, 0.0), (473, 0.0), (474, 0.0), (476, 0.0), (478, 0.0), (484, 0.0), (486, 0.0), (487, 0.0), (489, 0.0), (491, 0.0), (492, 0.0), (497, 0.0), (498, 0.0), (499, 0.0), (503, 0.0), (505, 0.0), (506, 0.0), (507, 0.0), (508, 0.0), (512, 0.0), (513, 0.0), (514, 0.0), (516, 0.0), (517, 0.0), (518, 0.0), (520, 0.0), (524, 0.0), (525, 0.0), (526, 0.0), (528, 0.0), (529, 0.0), (531, 0.0), (532, 0.0), (535, 0.0), (536, 0.0), (539, 0.0), (541, 0.0), (546, 0.0), (548, 0.0), (549, 0.0), (550, 0.0), (552, 0.0), (554, 0.0), (556, 0.0), (557, 0.0), (559, 0.0), (560, 0.0), (565, 0.0), (567, 0.0), (569, 0.0), (570, 0.0), (572, 0.0), (573, 0.0), (574, 0.0), (575, 0.0), (577, 0.0), (581, 0.0), (585, 0.0), (591, 0.0), (592, 0.0), (593, 0.0), (595, 0.0), (599, 0.0), (601, 0.0), (602, 0.0), (603, 0.0), (610, 0.0), (619, 0.0), (621, 0.0), (624, 0.0), (625, 0.0), (630, 0.0), (632, 0.0), (633, 0.0), (634, 0.0), (639, 0.0), (640, 0.0), (645, 0.0), (646, 0.0), (647, 0.0), (649, 0.0), (650, 0.0), (656, 0.0), (658, 0.0), (661, 0.0), (662, 0.0), (663, 0.0), (665, 0.0), (666, 0.0), (674, 0.0), (678, 0.0), (679, 0.0), (680, 0.0), (681, 0.0), (685, 0.0), (686, 0.0), (687, 0.0), (690, 0.0), (699, 0.0), (700, 0.0), (702, 0.0), (704, 0.0), (708, 0.0), (709, 0.0), (711, 0.0), (713, 0.0), (714, 0.0), (717, 0.0), (718, 0.0), (720, 0.0), (723, 0.0), (724, 0.0), (725, 0.0), (726, 0.0), (730, 0.0), (731, 0.0), (736, 0.0), (738, 0.0), (740, 0.0), (741, 0.0), (745, 0.0), (746, 0.0), (747, 0.0), (751, 0.0), (754, 0.0), (756, 0.0), (759, 0.0), (764, 0.0), (765, 0.0), (767, 0.0), (770, 0.0), (771, 0.0), (772, 0.0), (773, 0.0), (777, 0.0), (780, 0.0), (781, 0.0), (784, 0.0), (785, 0.0), (786, 0.0), (789, 0.0), (791, 0.0), (793, 0.0), (797, 0.0), (802, 0.0), (803, 0.0), (805, 0.0), (807, 0.0), (810, 0.0), (811, 0.0), (819, 0.0), (820, 0.0), (822, 0.0), (823, 0.0), (825, 0.0), (837, 0.0), (839, 0.0), (840, 0.0), (841, 0.0), (845, 0.0), (846, 0.0), (848, 0.0), (849, 0.0), (855, 0.0), (859, 0.0), (862, 0.0), (863, 0.0), (868, 0.0), (875, 0.0), (881, 0.0), (882, 0.0), (883, 0.0), (884, 0.0), (885, 0.0), (887, 0.0), (889, 0.0), (890, 0.0), (891, 0.0), (892, 0.0), (893, 0.0), (898, 0.0), (901, 0.0), (902, 0.0), (909, 0.0), (912, 0.0), (913, 0.0), (914, 0.0), (917, 0.0), (919, 0.0), (920, 0.0), (922, 0.0), (926, 0.0), (927, 0.0), (928, 0.0), (932, 0.0), (933, 0.0), (938, 0.0), (941, 0.0), (943, 0.0), (945, 0.0), (946, 0.0), (950, 0.0), (954, 0.0), (955, 0.0), (956, 0.0), (960, 0.0), (961, 0.0), (964, 0.0), (965, 0.0), (971, 0.0), (972, 0.0), (973, 0.0), (974, 0.0), (977, 0.0), (978, 0.0), (982, 0.0), (983, 0.0), (984, 0.0), (987, 0.0), (990, 0.0), (992, 0.0), (993, 0.0), (995, 0.0), (996, 0.0), (997, 0.0), (1004, 0.0), (1008, 0.0), (1010, 0.0), (1011, 0.0), (1013, 0.0), (1016, 0.0), (1022, 0.0), (1025, 0.0), (1028, 0.0), (1029, 0.0), (1031, 0.0), (1032, 0.0), (1036, 0.0), (1038, 0.0), (1039, 0.0), (1042, 0.0), (1047, 0.0), (1051, 0.0), (1054, 0.0), (1055, 0.0), (1056, 0.0), (1057, 0.0), (1059, 0.0), (1062, 0.0), (1066, 0.0), (1067, 0.0), (1072, 0.0), (1073, 0.0), (1076, 0.0), (1081, 0.0), (1082, 0.0), (1085, 0.0), (1086, 0.0), (1089, 0.0), (1091, 0.0), (1092, 0.0), (1093, 0.0), (1097, 0.0), (1098, 0.0), (1100, 0.0), (1101, 0.0), (1103, 0.0), (1104, 0.0), (1105, 0.0), (1106, 0.0), (1108, 0.0), (1110, 0.0), (1113, 0.0), (1117, 0.0), (1120, 0.0), (1121, 0.0), (1126, 0.0), (1127, 0.0), (1130, 0.0), (1133, 0.0), (1135, 0.0), (1137, 0.0), (1139, 0.0), (1142, 0.0), (1143, 0.0), (1145, 0.0), (1147, 0.0), (1149, 0.0), (1150, 0.0), (1151, 0.0), (1153, 0.0), (1154, 0.0), (1155, 0.0), (1156, 0.0), (1158, 0.0), (1159, 0.0), (1164, 0.0), (1165, 0.0), (1166, 0.0), (1167, 0.0), (1168, 0.0), (1169, 0.0), (1171, 0.0), (1174, 0.0), (1178, 0.0), (1180, 0.0), (1181, 0.0), (1189, 0.0), (1190, 0.0), (1193, 0.0), (1196, 0.0), (1197, 0.0), (1198, 0.0), (1200, 0.0), (1201, 0.0), (1203, 0.0), (1204, 0.0), (1205, 0.0), (1207, 0.0), (1210, 0.0), (1211, 0.0), (1212, 0.0), (1213, 0.0), (1214, 0.0), (1218, 0.0), (1221, 0.0), (1222, 0.0), (1227, 0.0), (1228, 0.0), (1233, 0.0), (1235, 0.0), (1240, 0.0), (1242, 0.0), (1244, 0.0), (1246, 0.0), (1253, 0.0), (1256, 0.0), (1258, 0.0), (1259, 0.0), (1260, 0.0), (1263, 0.0), (1265, 0.0), (1268, 0.0), (1269, 0.0), (1271, 0.0), (1277, 0.0), (1280, 0.0), (1281, 0.0), (1282, 0.0), (1283, 0.0), (1284, 0.0), (1285, 0.0), (1287, 0.0), (1288, 0.0), (1289, 0.0), (1291, 0.0), (1294, 0.0), (1295, 0.0), (1296, 0.0), (1297, 0.0), (1298, 0.0), (1299, 0.0), (1301, 0.0), (1304, 0.0), (1309, 0.0), (1315, 0.0), (1319, 0.0), (1321, 0.0), (1322, 0.0), (1323, 0.0), (1326, 0.0), (1328, 0.0), (1330, 0.0), (1332, 0.0), (1333, 0.0), (1336, 0.0), (1344, 0.0), (1346, 0.0), (1347, 0.0), (1353, 0.0), (1354, 0.0), (1355, 0.0), (1362, 0.0), (1363, 0.0), (1366, 0.0), (1368, 0.0), (1373, 0.0), (1380, 0.0), (1381, 0.0), (1390, 0.0), (1391, 0.0), (1392, 0.0), (1395, 0.0), (1397, 0.0), (1399, 0.0), (1402, 0.0), (1404, 0.0), (1409, 0.0), (1411, 0.0), (1416, 0.0), (1424, 0.0), (1426, 0.0), (1428, 0.0), (1430, 0.0), (1431, 0.0), (1433, 0.0), (1434, 0.0), (1435, 0.0), (1437, 0.0), (1439, 0.0), (1441, 0.0), (1444, 0.0), (1447, 0.0), (1449, 0.0), (1450, 0.0), (1451, 0.0), (1452, 0.0), (1456, 0.0), (1457, 0.0), (1458, 0.0), (1459, 0.0), (1460, 0.0), (1466, 0.0), (1467, 0.0), (1468, 0.0), (1469, 0.0), (1470, 0.0), (1473, 0.0), (1479, 0.0), (1480, 0.0), (1482, 0.0), (1484, 0.0), (1485, 0.0), (1487, 0.0), (1490, 0.0), (1491, 0.0), (1495, 0.0), (1496, 0.0), (1497, 0.0), (1499, 0.0), (1502, 0.0), (1504, 0.0), (1507, 0.0), (1508, 0.0), (1511, 0.0), (1516, 0.0), (1517, 0.0), (1520, 0.0), (1521, 0.0), (1522, 0.0), (1524, 0.0), (1525, 0.0), (1528, 0.0), (1529, 0.0), (1530, 0.0), (1531, 0.0), (1532, 0.0), (1534, 0.0), (1535, 0.0), (1536, 0.0), (1540, 0.0), (1541, 0.0), (1545, 0.0), (1546, 0.0), (1548, 0.0), (1549, 0.0), (1550, 0.0), (1554, 0.0), (1555, 0.0), (1556, 0.0), (1557, 0.0), (1559, 0.0), (1560, 0.0), (1561, 0.0), (1562, 0.0), (1563, 0.0), (1564, 0.0), (1566, 0.0), (1569, 0.0), (1573, 0.0), (1574, 0.0), (1575, 0.0), (1576, 0.0), (1577, 0.0), (1578, 0.0), (1580, 0.0), (1581, 0.0), (1584, 0.0), (1586, 0.0), (1587, 0.0), (1588, 0.0), (1589, 0.0), (1590, 0.0), (1592, 0.0), (1593, 0.0), (1594, 0.0), (1596, 0.0), (1599, 0.0), (1600, 0.0), (1601, 0.0), (1602, 0.0), (1603, 0.0), (1604, 0.0), (1606, 0.0), (1607, 0.0), (1610, 0.0), (1611, 0.0), (1613, 0.0), (1614, 0.0), (1615, 0.0), (1617, 0.0), (1618, 0.0), (1622, 0.0), (1623, 0.0), (1625, 0.0), (1626, 0.0), (1631, 0.0), (1632, 0.0), (1633, 0.0), (1635, 0.0), (1636, 0.0), (1637, 0.0), (1638, 0.0), (1639, 0.0), (1640, 0.0), (1641, 0.0), (1642, 0.0), (1646, 0.0), (1649, 0.0), (1651, 0.0), (1652, 0.0), (1656, 0.0), (1657, 0.0), (1659, 0.0), (1660, 0.0), (1661, 0.0), (1663, 0.0), (1668, 0.0), (1669, 0.0), (1670, 0.0), (1672, 0.0), (1673, 0.0), (1679, 0.0), (1681, 0.0), (1683, 0.0), (1686, 0.0), (1689, 0.0), (1691, 0.0), (1697, 0.0), (1698, 0.0), (1699, 0.0), (1700, 0.0), (1702, 0.0), (1704, 0.0), (1709, 0.0), (1720, 0.0), (1724, 0.0), (1725, 0.0), (1726, 0.0), (1728, 0.0), (1729, 0.0), (1731, 0.0), (1732, 0.0), (1733, 0.0), (1734, 0.0), (1738, 0.0), (1742, 0.0), (1745, 0.0), (1749, 0.0), (1751, 0.0), (1753, 0.0), (1755, 0.0), (1756, 0.0), (1757, 0.0), (1758, 0.0), (1765, 0.0), (1766, 0.0), (1767, 0.0), (1769, 0.0), (1771, 0.0), (1772, 0.0), (1775, 0.0), (1777, 0.0), (1778, 0.0), (1780, 0.0), (1781, 0.0), (1783, 0.0), (1784, 0.0), (1785, 0.0), (1786, 0.0), (1789, 0.0), (1791, 0.0), (1792, 0.0), (1794, 0.0), (1800, 0.0), (1801, 0.0), (1803, 0.0), (1804, 0.0), (1805, 0.0), (1808, 0.0), (1810, 0.0), (1811, 0.0), (1814, 0.0), (1820, 0.0), (1823, 0.0), (1824, 0.0), (1825, 0.0), (1826, 0.0), (1829, 0.0), (1831, 0.0), (1834, 0.0), (1835, 0.0), (1836, 0.0), (1837, 0.0), (1839, 0.0), (1840, 0.0), (1842, 0.0), (1844, 0.0), (1846, 0.0), (1848, 0.0), (1855, 0.0), (1856, 0.0), (1857, 0.0), (1859, 0.0), (1862, 0.0), (1877, 0.0), (1879, 0.0), (1881, 0.0), (1883, 0.0), (1887, 0.0), (1888, 0.0), (1889, 0.0), (1890, 0.0), (1894, 0.0), (1898, 0.0), (1899, 0.0), (1900, 0.0), (1901, 0.0), (1904, 0.0), (1910, 0.0), (1912, 0.0), (1914, 0.0), (1915, 0.0), (1917, 0.0), (1921, 0.0), (1925, 0.0), (1926, 0.0), (1928, 0.0), (1929, 0.0), (1930, 0.0), (1932, 0.0), (1933, 0.0), (1938, 0.0), (1939, 0.0), (1940, 0.0), (1941, 0.0), (1944, 0.0), (1952, 0.0), (1953, 0.0), (1954, 0.0), (1955, 0.0), (1956, 0.0), (1958, 0.0), (1959, 0.0), (1961, 0.0), (1962, 0.0), (1963, 0.0), (1965, 0.0), (1966, 0.0), (1972, 0.0), (1973, 0.0), (1974, 0.0), (1975, 0.0), (1976, 0.0), (1978, 0.0), (1979, 0.0), (1980, 0.0), (1981, 0.0), (1982, 0.0), (1984, 0.0), (1987, 0.0), (1990, 0.0), (1991, 0.0), (1993, 0.0), (1998, 0.0), (1999, 0.0), (2001, 0.0), (2002, 0.0), (2003, 0.0), (2006, 0.0), (2007, 0.0), (2009, 0.0), (2012, 0.0), (2015, 0.0), (2017, 0.0), (2018, 0.0), (2019, 0.0), (2021, 0.0), (2025, 0.0), (2028, 0.0), (2030, 0.0), (2032, 0.0), (2033, 0.0), (2036, 0.0), (2038, 0.0), (2041, 0.0), (2042, 0.0), (2043, 0.0), (2044, 0.0), (2046, 0.0), (2047, 0.0), (2050, 0.0), (2054, 0.0), (2057, 0.0), (2059, 0.0), (2060, 0.0), (2063, 0.0), (2066, 0.0), (2071, 0.0), (2072, 0.0), (2077, 0.0), (2078, 0.0), (2079, 0.0), (2081, 0.0), (2084, 0.0), (2085, 0.0), (2086, 0.0), (2090, 0.0), (2092, 0.0), (2093, 0.0), (2099, 0.0), (2100, 0.0), (2106, 0.0), (2107, 0.0), (2111, 0.0), (2115, 0.0), (2118, 0.0), (2120, 0.0), (2124, 0.0), (2125, 0.0), (2128, 0.0), (2129, 0.0), (2130, 0.0), (2135, 0.0), (2136, 0.0), (2137, 0.0), (2138, 0.0), (2139, 0.0), (2140, 0.0), (2141, 0.0), (2142, 0.0), (2146, 0.0), (2147, 0.0), (2148, 0.0), (2150, 0.0), (2151, 0.0), (2152, 0.0), (2153, 0.0), (2158, 0.0), (2163, 0.0), (2164, 0.0), (2165, 0.0), (2166, 0.0), (2168, 0.0), (2170, 0.0), (2171, 0.0), (2172, 0.0), (2173, 0.0), (2178, 0.0), (2179, 0.0), (2180, 0.0), (2181, 0.0), (2182, 0.0), (2183, 0.0), (2184, 0.0), (2186, 0.0), (2187, 0.0), (2189, 0.0), (2190, 0.0), (2192, 0.0), (2194, 0.0), (2200, 0.0), (2204, 0.0), (2207, 0.0), (2208, 0.0), (2213, 0.0), (2215, 0.0), (2217, 0.0), (2218, 0.0), (2219, 0.0), (2220, 0.0), (2222, 0.0), (2225, 0.0), (2227, 0.0), (2228, 0.0), (2231, 0.0), (2232, 0.0), (2233, 0.0), (2234, 0.0), (2238, 0.0), (2241, 0.0), (2243, 0.0), (2245, 0.0), (2246, 0.0), (2247, 0.0), (2248, 0.0), (2249, 0.0), (2252, 0.0), (2253, 0.0), (2256, 0.0), (2259, 0.0), (2261, 0.0), (2262, 0.0), (2263, 0.0), (2267, 0.0), (2268, 0.0), (2270, 0.0), (2271, 0.0), (2272, 0.0), (2273, 0.0), (2274, 0.0), (2278, 0.0), (2281, 0.0), (2282, 0.0), (2283, 0.0), (2288, 0.0), (2292, 0.0), (2293, 0.0), (2296, 0.0), (2297, 0.0), (2299, 0.0), (2300, 0.0), (2304, 0.0), (2305, 0.0), (2307, 0.0), (2308, 0.0), (2310, 0.0), (2311, 0.0), (2312, 0.0), (2314, 0.0), (2315, 0.0), (2317, 0.0), (2322, 0.0), (2323, 0.0), (2324, 0.0), (2325, 0.0), (2326, 0.0), (2327, 0.0), (2328, 0.0), (2329, 0.0), (2330, 0.0), (2331, 0.0), (2332, 0.0), (2333, 0.0), (2336, 0.0), (2337, 0.0), (2340, 0.0), (2341, 0.0), (2342, 0.0), (2343, 0.0), (2345, 0.0), (2351, 0.0), (2352, 0.0), (2354, 0.0), (2356, 0.0), (2357, 0.0), (2358, 0.0), (2360, 0.0), (2363, 0.0), (2364, 0.0), (2365, 0.0), (2369, 0.0), (2370, 0.0), (2371, 0.0), (2372, 0.0), (2373, 0.0), (2377, 0.0), (2378, 0.0), (2380, 0.0), (2381, 0.0), (2382, 0.0), (2383, 0.0), (2384, 0.0), (2385, 0.0), (2387, 0.0), (2389, 0.0), (2392, 0.0), (2395, 0.0), (2396, 0.0), (2398, 0.0), (2401, 0.0), (2404, 0.0), (2409, 0.0), (2410, 0.0), (2413, 0.0), (2414, 0.0), (2416, 0.0), (2419, 0.0), (2420, 0.0), (2424, 0.0), (2425, 0.0), (2429, 0.0), (2431, 0.0), (2432, 0.0), (2433, 0.0), (2435, 0.0), (2442, 0.0), (2444, 0.0), (2445, 0.0), (2446, 0.0), (2449, 0.0), (2450, 0.0), (2451, 0.0), (2452, 0.0), (2454, 0.0), (2455, 0.0), (2456, 0.0), (2458, 0.0), (2462, 0.0), (2465, 0.0), (2470, 0.0), (2471, 0.0), (2472, 0.0), (2476, 0.0), (2479, 0.0), (2483, 0.0), (2485, 0.0), (2491, 0.0), (2493, 0.0), (2495, 0.0), (2497, 0.0), (2498, 0.0), (2499, 0.0), (2500, 0.0), (2501, 0.0), (2504, 0.0), (2506, 0.0), (2507, 0.0), (2508, 0.0), (2511, 0.0), (2514, 0.0), (2515, 0.0), (2516, 0.0), (2518, 0.0), (2519, 0.0), (2521, 0.0), (2523, 0.0), (2525, 0.0), (2532, 0.0), (2533, 0.0), (2536, 0.0), (2537, 0.0), (2539, 0.0), (2541, 0.0), (2542, 0.0), (2543, 0.0), (2544, 0.0), (2547, 0.0), (2548, 0.0), (2549, 0.0), (2551, 0.0), (2552, 0.0), (2557, 0.0), (2561, 0.0), (2562, 0.0), (2564, 0.0), (2566, 0.0), (2567, 0.0), (2569, 0.0), (2571, 0.0), (2573, 0.0), (2574, 0.0), (2575, 0.0), (2576, 0.0), (2577, 0.0), (2578, 0.0), (2581, 0.0), (2583, 0.0), (2584, 0.0), (2585, 0.0), (2586, 0.0), (2588, 0.0), (2589, 0.0), (2590, 0.0), (2594, 0.0), (2595, 0.0), (2596, 0.0), (2597, 0.0), (2599, 0.0), (2600, 0.0), (2604, 0.0), (2605, 0.0), (2608, 0.0), (2610, 0.0), (2613, 0.0), (2615, 0.0), (2616, 0.0), (2619, 0.0), (2620, 0.0), (2624, 0.0), (2626, 0.0), (2627, 0.0), (2628, 0.0), (2630, 0.0), (2631, 0.0), (2635, 0.0), (2636, 0.0), (2637, 0.0), (2641, 0.0), (2646, 0.0), (2648, 0.0), (2651, 0.0), (2656, 0.0), (2657, 0.0), (2658, 0.0), (2659, 0.0), (2662, 0.0), (2663, 0.0), (2666, 0.0), (2667, 0.0), (2669, 0.0), (2670, 0.0), (2671, 0.0), (2672, 0.0), (2673, 0.0), (2675, 0.0), (2676, 0.0), (2677, 0.0), (2679, 0.0), (2681, 0.0), (2682, 0.0), (2683, 0.0), (2684, 0.0), (2685, 0.0), (2686, 0.0), (2690, 0.0), (2693, 0.0), (2699, 0.0), (2700, 0.0), (2701, 0.0), (2703, 0.0), (2704, 0.0), (2707, 0.0), (2709, 0.0), (2710, 0.0), (2711, 0.0), (2713, 0.0), (2715, 0.0), (2717, 0.0), (2718, 0.0), (2719, 0.0), (2720, 0.0), (2721, 0.0), (2722, 0.0), (2723, 0.0), (2725, 0.0), (2728, 0.0), (2729, 0.0), (2730, 0.0), (2733, 0.0), (2734, 0.0), (2735, 0.0), (2736, 0.0), (2737, 0.0), (2738, 0.0), (2749, 0.0), (2750, 0.0), (2753, 0.0), (2754, 0.0), (2756, 0.0), (2757, 0.0), (2760, 0.0), (2763, 0.0), (2765, 0.0), (2770, 0.0), (2773, 0.0), (2781, 0.0), (2783, 0.0), (2785, 0.0), (2786, 0.0), (2787, 0.0), (2788, 0.0), (2790, 0.0), (2792, 0.0), (2793, 0.0), (2794, 0.0), (2799, 0.0), (2801, 0.0), (2804, 0.0), (2806, 0.0), (2810, 0.0), (2811, 0.0), (2813, 0.0), (2814, 0.0), (2815, 0.0), (2817, 0.0), (2818, 0.0), (2819, 0.0), (2824, 0.0), (2825, 0.0), (2826, 0.0), (2827, 0.0), (2828, 0.0), (2829, 0.0), (2833, 0.0), (2835, 0.0), (2836, 0.0), (2837, 0.0), (2839, 0.0), (2842, 0.0), (2843, 0.0), (2846, 0.0), (2847, 0.0), (2850, 0.0), (2851, 0.0), (2852, 0.0), (2853, 0.0), (2855, 0.0), (2856, 0.0), (2858, 0.0), (2860, 0.0), (2861, 0.0), (2863, 0.0), (2864, 0.0), (2865, 0.0), (2866, 0.0), (2875, 0.0), (2877, 0.0), (2880, 0.0), (2882, 0.0), (2884, 0.0), (2885, 0.0), (2891, 0.0), (2895, 0.0), (2896, 0.0), (2898, 0.0), (2900, 0.0), (2902, 0.0), (2905, 0.0), (2906, 0.0), (2909, 0.0), (2912, 0.0), (2921, 0.0), (2922, 0.0), (2923, 0.0), (2927, 0.0), (2928, 0.0), (2930, 0.0), (2937, 0.0), (2938, 0.0), (2940, 0.0), (2941, 0.0), (2947, 0.0), (2948, 0.0), (2949, 0.0), (2950, 0.0), (2951, 0.0), (2952, 0.0), (2953, 0.0), (2954, 0.0), (2955, 0.0), (2956, 0.0), (2957, 0.0), (2958, 0.0), (2959, 0.0), (2960, 0.0), (2962, 0.0), (2963, 0.0), (2967, 0.0), (2968, 0.0), (2970, 0.0), (2971, 0.0), (2973, 0.0), (2979, 0.0), (2982, 0.0), (2983, 0.0), (2984, 0.0), (2987, 0.0), (2990, 0.0), (2991, 0.0), (2993, 0.0), (2994, 0.0), (2997, 0.0), (3001, 0.0), (3002, 0.0), (3003, 0.0), (3005, 0.0), (3006, 0.0), (3007, 0.0), (3009, 0.0), (3011, 0.0), (3016, 0.0), (3017, 0.0), (3018, 0.0), (3020, 0.0), (3021, 0.0), (3022, 0.0), (3025, 0.0), (3026, 0.0), (3029, 0.0), (3030, 0.0), (3031, 0.0), (3034, 0.0), (3035, 0.0), (3038, 0.0), (3040, 0.0), (3041, 0.0), (3042, 0.0), (3047, 0.0), (3048, 0.0), (3049, 0.0), (3052, 0.0), (3053, 0.0), (3054, 0.0), (3055, 0.0), (3057, 0.0), (3058, 0.0), (3059, 0.0), (3060, 0.0), (3061, 0.0), (3063, 0.0), (3064, 0.0), (3068, 0.0), (3069, 0.0), (3073, 0.0), (3077, 0.0), (3078, 0.0), (3079, 0.0), (3080, 0.0), (3082, 0.0), (3083, 0.0), (3084, 0.0), (3087, 0.0), (3088, 0.0), (3089, 0.0), (3090, 0.0), (3092, 0.0), (3093, 0.0), (3100, 0.0), (3101, 0.0), (3103, 0.0), (3104, 0.0), (3105, 0.0), (3106, 0.0), (3107, 0.0), (3109, 0.0), (3113, 0.0), (3115, 0.0), (3117, 0.0), (3121, 0.0), (3124, 0.0), (3126, 0.0), (3128, 0.0), (3130, 0.0), (3131, 0.0), (3132, 0.0), (3133, 0.0), (3134, 0.0), (3135, 0.0), (3136, 0.0), (3138, 0.0), (3139, 0.0), (3141, 0.0), (3143, 0.0), (3145, 0.0), (3149, 0.0), (3150, 0.0), (3156, 0.0), (3158, 0.0), (3159, 0.0), (3160, 0.0), (3161, 0.0), (3162, 0.0), (3163, 0.0), (3167, 0.0), (3168, 0.0), (3169, 0.0), (3172, 0.0), (3173, 0.0), (3174, 0.0), (3175, 0.0), (3176, 0.0), (3177, 0.0), (3179, 0.0), (3180, 0.0), (3181, 0.0), (3185, 0.0), (3186, 0.0), (3188, 0.0), (3189, 0.0), (3190, 0.0), (3191, 0.0), (3193, 0.0), (3197, 0.0), (3201, 0.0), (3202, 0.0), (3203, 0.0), (3204, 0.0), (3206, 0.0), (3207, 0.0), (3208, 0.0), (3211, 0.0), (3212, 0.0), (3216, 0.0), (3217, 0.0), (3221, 0.0), (3223, 0.0), (3224, 0.0), (3225, 0.0), (3229, 0.0), (3230, 0.0), (3231, 0.0), (3236, 0.0), (3238, 0.0), (3239, 0.0), (3242, 0.0), (3243, 0.0), (3247, 0.0), (3250, 0.0), (3251, 0.0), (3252, 0.0), (3255, 0.0), (3260, 0.0), (3261, 0.0), (3263, 0.0), (3266, 0.0), (3269, 0.0), (3270, 0.0), (3271, 0.0), (3272, 0.0), (3277, 0.0), (3281, 0.0), (3283, 0.0), (3286, 0.0), (3287, 0.0), (3289, 0.0), (3290, 0.0), (3292, 0.0), (3305, 0.0), (3307, 0.0), (3310, 0.0), (3319, 0.0), (3320, 0.0), (3321, 0.0), (3322, 0.0), (3323, 0.0), (3324, 0.0), (3332, 0.0), (3333, 0.0), (3335, 0.0), (3336, 0.0), (3337, 0.0), (3338, 0.0), (3339, 0.0), (3340, 0.0), (3341, 0.0), (3343, 0.0), (3348, 0.0), (3350, 0.0), (3354, 0.0), (3358, 0.0), (3361, 0.0), (3366, 0.0), (3367, 0.0), (3368, 0.0), (3369, 0.0), (3371, 0.0), (3372, 0.0), (3378, 0.0), (3381, 0.0), (3383, 0.0), (3385, 0.0), (3390, 0.0), (3392, 0.0), (3394, 0.0), (3396, 0.0), (3397, 0.0), (3398, 0.0), (3400, 0.0), (3401, 0.0), (3404, 0.0), (3405, 0.0), (3411, 0.0), (3412, 0.0), (3414, 0.0), (3415, 0.0), (3419, 0.0), (3422, 0.0), (3424, 0.0), (3427, 0.0), (3428, 0.0), (3429, 0.0), (3431, 0.0), (3432, 0.0), (3434, 0.0), (3438, 0.0), (3439, 0.0), (3440, 0.0), (3441, 0.0), (3442, 0.0), (3443, 0.0), (3444, 0.0), (3448, 0.0), (3451, 0.0), (3452, 0.0), (3454, 0.0), (3455, 0.0), (3459, 0.0), (3461, 0.0), (3464, 0.0), (3467, 0.0), (3468, 0.0), (3470, 0.0), (3472, 0.0), (3473, 0.0), (3475, 0.0), (3476, 0.0), (3478, 0.0), (3481, 0.0), (3482, 0.0), (3484, 0.0), (3485, 0.0), (3488, 0.0), (3489, 0.0), (3490, 0.0), (3491, 0.0), (3494, 0.0), (3495, 0.0), (3497, 0.0), (3499, 0.0), (3502, 0.0), (3505, 0.0), (3507, 0.0), (3510, 0.0), (3513, 0.0), (3514, 0.0), (3517, 0.0), (3519, 0.0), (3520, 0.0), (3522, 0.0), (3523, 0.0), (3525, 0.0), (3529, 0.0), (3530, 0.0), (3531, 0.0), (3532, 0.0), (3533, 0.0), (3537, 0.0), (3538, 0.0), (3539, 0.0), (3540, 0.0), (3543, 0.0), (3544, 0.0), (3545, 0.0), (3547, 0.0), (3548, 0.0), (3549, 0.0), (3550, 0.0), (3554, 0.0), (3555, 0.0), (3561, 0.0), (3562, 0.0), (3565, 0.0), (3567, 0.0), (3568, 0.0), (3570, 0.0), (3572, 0.0), (3573, 0.0), (3574, 0.0), (3576, 0.0), (3578, 0.0), (3581, 0.0), (3583, 0.0), (3584, 0.0), (3585, 0.0), (3587, 0.0), (3588, 0.0), (3589, 0.0), (3591, 0.0), (3592, 0.0), (3593, 0.0), (3595, 0.0), (3600, 0.0), (3602, 0.0), (3603, 0.0), (3604, 0.0), (3605, 0.0), (3606, 0.0), (3607, 0.0), (3608, 0.0), (3609, 0.0), (3610, 0.0), (3611, 0.0), (3615, 0.0), (3616, 0.0), (3617, 0.0), (3619, 0.0), (3621, 0.0), (3622, 0.0), (3625, 0.0), (3627, 0.0), (3628, 0.0), (3629, 0.0), (3631, 0.0), (3633, 0.0), (3636, 0.0), (3644, 0.0), (3647, 0.0), (3649, 0.0), (3650, 0.0), (3651, 0.0), (3658, 0.0), (3662, 0.0), (3663, 0.0), (3664, 0.0), (3668, 0.0), (3671, 0.0), (3672, 0.0), (3674, 0.0), (3676, 0.0), (3677, 0.0), (3678, 0.0), (3679, 0.0), (3681, 0.0), (3682, 0.0), (3683, 0.0), (3685, 0.0), (3686, 0.0), (3687, 0.0), (3688, 0.0), (3690, 0.0), (3691, 0.0), (3693, 0.0), (3695, 0.0), (3697, 0.0), (3698, 0.0), (3700, 0.0), (3701, 0.0), (3702, 0.0), (3703, 0.0), (3709, 0.0), (3710, 0.0), (3712, 0.0), (3714, 0.0), (3715, 0.0), (3716, 0.0), (3717, 0.0), (3718, 0.0), (3719, 0.0), (3720, 0.0), (3721, 0.0), (3722, 0.0), (3723, 0.0), (3724, 0.0), (3725, 0.0), (3726, 0.0), (3729, 0.0), (3730, 0.0), (3732, 0.0), (3735, 0.0), (3736, 0.0), (3737, 0.0), (3738, 0.0), (3740, 0.0), (3743, 0.0), (3744, 0.0), (3746, 0.0), (3753, 0.0), (3757, 0.0), (3758, 0.0), (3759, 0.0), (3760, 0.0), (3761, 0.0), (3762, 0.0), (3764, 0.0), (3768, 0.0), (3769, 0.0), (3770, 0.0), (3773, 0.0), (3774, 0.0), (3775, 0.0), (3776, 0.0), (3779, 0.0), (3781, 0.0), (3782, 0.0), (3783, 0.0), (3785, 0.0), (3786, 0.0), (3787, 0.0), (3788, 0.0), (3789, 0.0), (3790, 0.0), (3791, 0.0), (3792, 0.0), (3793, 0.0), (3795, 0.0), (3796, 0.0), (3798, 0.0), (3800, 0.0), (3802, 0.0), (3803, 0.0), (3804, 0.0), (3805, 0.0), (3806, 0.0), (3808, 0.0), (3812, 0.0), (3814, 0.0), (3815, 0.0), (3816, 0.0), (3817, 0.0), (3818, 0.0), (3820, 0.0), (3823, 0.0), (3824, 0.0), (3830, 0.0), (3831, 0.0), (3833, 0.0), (3834, 0.0), (3836, 0.0), (3837, 0.0), (3838, 0.0), (3840, 0.0), (3841, 0.0), (3843, 0.0), (3844, 0.0), (3846, 0.0), (3847, 0.0), (3848, 0.0), (3849, 0.0), (3850, 0.0), (3851, 0.0), (3852, 0.0), (3856, 0.0), (3858, 0.0), (3859, 0.0), (3863, 0.0), (3869, 0.0), (3870, 0.0), (3871, 0.0), (3872, 0.0), (3874, 0.0), (3877, 0.0), (3878, 0.0), (3879, 0.0), (3881, 0.0), (3884, 0.0), (3885, 0.0), (3886, 0.0), (3887, 0.0), (3889, 0.0), (3891, 0.0), (3894, 0.0), (3896, 0.0), (3897, 0.0), (3899, 0.0), (3905, 0.0), (3906, 0.0), (3907, 0.0), (3908, 0.0), (3911, 0.0), (3912, 0.0), (3914, 0.0), (3916, 0.0), (3918, 0.0), (3921, 0.0), (3923, 0.0), (3929, 0.0), (3930, 0.0), (3931, 0.0), (3933, 0.0), (3935, 0.0), (3936, 0.0), (3937, 0.0), (3938, 0.0), (3939, 0.0), (3942, 0.0), (3943, 0.0), (3944, 0.0), (3945, 0.0), (3948, 0.0), (3949, 0.0), (3950, 0.0), (3963, 0.0), (3964, 0.0), (3965, 0.0), (3966, 0.0), (3967, 0.0), (3968, 0.0), (3969, 0.0), (3970, 0.0), (3971, 0.0), (3972, 0.0), (3975, 0.0), (3977, 0.0), (3979, 0.0), (3980, 0.0), (3981, 0.0), (3982, 0.0), (3985, 0.0), (3986, 0.0), (3987, 0.0), (3988, 0.0), (3989, 0.0), (3991, 0.0), (3994, 0.0), (3995, 0.0), (3996, 0.0), (3997, 0.0), (3999, 0.0), (4002, 0.0), (4003, 0.0), (4006, 0.0), (4010, 0.0), (4013, 0.0), (4015, 0.0), (4017, 0.0), (4018, 0.0), (4019, 0.0), (4021, 0.0), (4022, 0.0), (4023, 0.0), (4026, 0.0), (4027, 0.0), (4028, 0.0), (4029, 0.0), (4030, 0.0), (4031, 0.0), (4034, 0.0), (4037, 0.0), (4039, 0.0), (4040, 0.0), (4041, 0.0), (4042, 0.0), (4043, 0.0), (4044, 0.0), (4045, 0.0), (4047, 0.0), (4049, 0.0), (4058, 0.0), (4059, 0.0), (4063, 0.0), (4064, 0.0), (4065, 0.0), (4067, 0.0), (4070, 0.0), (4071, 0.0), (4072, 0.0), (4073, 0.0), (4075, 0.0), (4076, 0.0), (4078, 0.0), (4080, 0.0), (4083, 0.0), (4084, 0.0), (4086, 0.0), (4089, 0.0), (4090, 0.0), (4091, 0.0), (4093, 0.0), (4094, 0.0), (4097, 0.0), (4100, 0.0), (4102, 0.0), (4103, 0.0), (4104, 0.0), (4105, 0.0), (4107, 0.0), (4108, 0.0), (4109, 0.0), (4112, 0.0), (4114, 0.0), (4115, 0.0), (4119, 0.0), (4120, 0.0), (4122, 0.0), (4125, 0.0), (4126, 0.0), (4127, 0.0), (4128, 0.0), (4129, 0.0), (4131, 0.0), (4132, 0.0), (4136, 0.0), (4139, 0.0), (4140, 0.0), (4142, 0.0), (4144, 0.0), (4145, 0.0), (4146, 0.0), (4147, 0.0), (4148, 0.0), (4150, 0.0), (4153, 0.0), (4155, 0.0), (4157, 0.0), (4159, 0.0), (4161, 0.0), (4162, 0.0), (4166, 0.0), (4167, 0.0), (4168, 0.0), (4169, 0.0), (4170, 0.0), (4172, 0.0), (4173, 0.0), (4174, 0.0), (4179, 0.0), (4180, 0.0), (4181, 0.0), (4184, 0.0), (4185, 0.0), (4186, 0.0), (4188, 0.0), (4190, 0.0), (4191, 0.0), (4193, 0.0), (4194, 0.0), (4195, 0.0), (4197, 0.0), (4198, 0.0), (4199, 0.0), (4200, 0.0), (4201, 0.0), (4204, 0.0), (4206, 0.0), (4207, 0.0), (4208, 0.0), (4209, 0.0), (4211, 0.0), (4212, 0.0), (4213, 0.0), (4214, 0.0), (4215, 0.0), (4218, 0.0), (4219, 0.0), (4220, 0.0), (4221, 0.0), (4222, 0.0), (4223, 0.0), (4224, 0.0), (4225, 0.0), (4228, 0.0), (4229, 0.0), (4230, 0.0), (4234, 0.0), (4237, 0.0), (4238, 0.0), (4239, 0.0), (4240, 0.0), (4241, 0.0), (4245, 0.0), (4248, 0.0), (4250, 0.0), (4251, 0.0), (4252, 0.0), (4253, 0.0), (4254, 0.0), (4256, 0.0), (4258, 0.0), (4260, 0.0), (4262, 0.0), (4263, 0.0), (4264, 0.0), (4265, 0.0), (4267, 0.0), (4270, 0.0), (4271, 0.0), (4273, 0.0), (4274, 0.0), (4275, 0.0), (4276, 0.0), (4277, 0.0), (4278, 0.0), (4279, 0.0), (4280, 0.0), (4285, 0.0), (4289, 0.0), (4290, 0.0), (4291, 0.0), (4292, 0.0), (4294, 0.0), (4296, 0.0), (4297, 0.0), (4298, 0.0), (4299, 0.0), (4300, 0.0), (4301, 0.0), (4302, 0.0), (4304, 0.0), (4305, 0.0), (4306, 0.0), (4307, 0.0), (4308, 0.0), (4310, 0.0), (4312, 0.0), (4313, 0.0), (4315, 0.0), (4316, 0.0), (4317, 0.0), (4318, 0.0), (4319, 0.0), (4320, 0.0), (4322, 0.0), (4323, 0.0), (4324, 0.0), (4326, 0.0), (4327, 0.0), (4328, 0.0), (4329, 0.0), (4331, 0.0), (4332, 0.0), (4338, 0.0), (4339, 0.0), (4340, 0.0), (4341, 0.0), (4343, 0.0), (4346, 0.0), (4347, 0.0), (4348, 0.0), (4352, 0.0), (4353, 0.0), (4354, 0.0), (4355, 0.0), (4358, 0.0), (4359, 0.0), (4360, 0.0), (4361, 0.0), (4363, 0.0), (4364, 0.0), (4365, 0.0), (4370, 0.0), (4372, 0.0), (4376, 0.0), (4377, 0.0), (4378, 0.0), (4381, 0.0), (4383, 0.0), (4384, 0.0), (4386, 0.0), (4389, 0.0), (4390, 0.0), (4391, 0.0), (4392, 0.0), (4393, 0.0), (4396, 0.0), (4397, 0.0), (4400, 0.0), (4404, 0.0), (4405, 0.0), (4406, 0.0), (4407, 0.0), (4408, 0.0), (4409, 0.0), (4410, 0.0), (4413, 0.0), (4414, 0.0), (4415, 0.0), (4416, 0.0), (4417, 0.0), (4418, 0.0), (4421, 0.0), (4423, 0.0), (4424, 0.0), (4425, 0.0), (4426, 0.0), (4427, 0.0), (4428, 0.0), (4431, 0.0), (4433, 0.0), (4434, 0.0), (4437, 0.0), (4438, 0.0), (4439, 0.0), (4441, 0.0), (4445, 0.0), (4447, 0.0), (4449, 0.0), (4451, 0.0), (4452, 0.0), (4453, 0.0), (4454, 0.0), (4455, 0.0), (4457, 0.0), (4458, 0.0), (4460, 0.0), (4461, 0.0), (4462, 0.0), (4463, 0.0), (4464, 0.0), (4468, 0.0), (4471, 0.0), (4476, 0.0), (4478, 0.0), (4480, 0.0), (4483, 0.0), (4485, 0.0), (4488, 0.0), (4491, 0.0), (4493, 0.0), (4495, 0.0), (4496, 0.0), (4497, 0.0), (4498, 0.0), (4499, 0.0), (4500, 0.0), (4505, 0.0), (4506, 0.0), (4508, 0.0), (4509, 0.0), (4513, 0.0), (4514, 0.0), (4515, 0.0), (4518, 0.0), (4519, 0.0), (4525, 0.0), (4526, 0.0), (4527, 0.0), (4529, 0.0), (4532, 0.0), (4537, 0.0), (4538, 0.0), (4539, 0.0), (4540, 0.0), (4541, 0.0), (4542, 0.0), (4543, 0.0), (4544, 0.0), (4545, 0.0), (4547, 0.0), (4548, 0.0), (4549, 0.0), (4550, 0.0), (4552, 0.0), (4556, 0.0), (4558, 0.0), (4559, 0.0), (4560, 0.0), (4561, 0.0), (4562, 0.0), (4565, 0.0), (4567, 0.0), (4568, 0.0), (4569, 0.0), (4570, 0.0), (4572, 0.0), (4574, 0.0), (4577, 0.0), (4578, 0.0), (4579, 0.0), (4580, 0.0), (4582, 0.0), (4584, 0.0), (4585, 0.0), (4586, 0.0), (4587, 0.0), (4588, 0.0), (4592, 0.0), (4595, 0.0), (4597, 0.0), (4598, 0.0), (4599, 0.0), (4600, 0.0), (4602, 0.0), (4604, 0.0), (4606, 0.0), (4607, 0.0), (4608, 0.0), (4609, 0.0), (4611, 0.0), (4612, 0.0), (4613, 0.0), (4615, 0.0), (4616, 0.0), (4618, 0.0), (4620, 0.0), (4621, 0.0), (4622, 0.0), (4628, 0.0), (4630, 0.0), (4631, 0.0), (4633, 0.0), (4634, 0.0), (4635, 0.0), (4639, 0.0), (4641, 0.0), (4642, 0.0), (4644, 0.0), (4645, 0.0), (4646, 0.0), (4647, 0.0), (4648, 0.0), (4651, 0.0), (4653, 0.0), (4654, 0.0), (4655, 0.0), (4659, 0.0), (4661, 0.0), (4662, 0.0), (4664, 0.0), (4665, 0.0), (4666, 0.0), (4667, 0.0), (4671, 0.0), (4672, 0.0), (4675, 0.0), (4676, 0.0), (4677, 0.0), (4678, 0.0), (4680, 0.0), (4681, 0.0), (4683, 0.0), (4686, 0.0), (4687, 0.0), (4688, 0.0), (4689, 0.0), (4690, 0.0), (4691, 0.0), (4692, 0.0), (4693, 0.0), (4694, 0.0), (4696, 0.0), (4697, 0.0), (4698, 0.0), (4700, 0.0), (4702, 0.0), (4703, 0.0), (4704, 0.0), (4705, 0.0), (4707, 0.0), (4708, 0.0), (4709, 0.0), (4711, 0.0), (4714, 0.0), (4715, 0.0), (4716, 0.0), (4717, 0.0), (4719, 0.0), (4720, 0.0), (4721, 0.0), (4725, 0.0), (4728, 0.0), (4729, 0.0), (4730, 0.0), (4732, 0.0), (4736, 0.0), (4737, 0.0), (4740, 0.0), (4741, 0.0), (4742, 0.0), (4743, 0.0), (4744, 0.0), (4745, 0.0), (4746, 0.0), (4749, 0.0), (4750, 0.0), (4751, 0.0), (4753, 0.0), (4754, 0.0), (4755, 0.0), (4756, 0.0), (4757, 0.0), (4758, 0.0), (4759, 0.0)]\n"
          ]
        }
      ]
    },
    {
      "cell_type": "code",
      "source": [
        "#print the name of similar movies based on the index\n",
        "print('top 30 movies suggested for you:\\n')\n",
        "i=1\n",
        "for movie in Sorted_Similar_Movies:\n",
        "  index=movie[0]\n",
        "  title_from_index = df[df.index==index]['Movie_Title'].values[0]\n",
        "  if(i<31):\n",
        "    print(i,'.',title_from_index)\n",
        "    i+=1"
      ],
      "metadata": {
        "colab": {
          "base_uri": "https://localhost:8080/"
        },
        "id": "lplSJBibg4zj",
        "outputId": "25d8b41a-fc1c-4776-b9c2-405b12be7161"
      },
      "execution_count": null,
      "outputs": [
        {
          "output_type": "stream",
          "name": "stdout",
          "text": [
            "top 30 movies suggested for you:\n",
            "\n",
            "1 . Niagara\n",
            "2 . Eye for an Eye\n",
            "3 . Enough\n",
            "4 . Superman III\n",
            "5 . Brokeback Mountain\n",
            "6 . Harry Brown\n",
            "7 . Broken Vessels\n",
            "8 . The Odd Life of Timothy Green\n",
            "9 . Welcome to the Sticks\n",
            "10 . All That Jazz\n",
            "11 . The Horse Whisperer\n",
            "12 . Butterfly on a Wheel\n",
            "13 . Intolerable Cruelty\n",
            "14 . The Curse of Downers Grove\n",
            "15 . The Juror\n",
            "16 . Blackhat\n",
            "17 . Alexander's Ragtime Band\n",
            "18 . The Longest Yard\n",
            "19 . The Great Gatsby\n",
            "20 . Kung Fu Hustle\n",
            "21 . The End of the Affair\n",
            "22 . The Kentucky Fried Movie\n",
            "23 . The Raid\n",
            "24 . The Legend of Tarzan\n",
            "25 . The Boy Next Door\n",
            "26 . Just Looking\n",
            "27 . Runaway Bride\n",
            "28 . London\n",
            "29 . Twister\n",
            "30 . Ocean's Thirteen\n"
          ]
        }
      ]
    },
    {
      "cell_type": "markdown",
      "source": [
        "**Top 10 Movie Recommendation System**"
      ],
      "metadata": {
        "id": "mmR8jnyheU4s"
      }
    },
    {
      "cell_type": "code",
      "source": [
        "Movie_name=input('enter your favourite movie name:')\n",
        "list_of_all_titles=df['Movie_Title'].tolist()\n",
        "find_Close_Match=difflib.get_close_matches(Movie_Recommendation, list_of_all_titles)\n",
        "Close_match=find_Close_Match\n",
        "Index_of_Movie=df[df.Movie_Title==Close_Match]['Movie_ID'].values[0]\n",
        "Recommendation_score=list(enumerate(Similarity_score[Index_of_Movie]))\n",
        "Sorted_Similar_Movies=sorted(Recommendation_score, key=lambda x:x[1], reverse= True)\n",
        "print('top 10 movies suggested for you:/n')\n",
        "i=1\n",
        "for movie in Sorted_Similar_Movies:\n",
        "  index=movie[0]\n",
        "  title_from_index=df[df.Movie_ID==index]['Movie_Title'].values\n",
        "  if(i<11):\n",
        "    print(i,'.',title_from_index)\n",
        "    i+=1"
      ],
      "metadata": {
        "colab": {
          "base_uri": "https://localhost:8080/"
        },
        "id": "TT2pw1VjeFJn",
        "outputId": "3dbdd70e-3257-4b94-f301-60d95a54890c"
      },
      "execution_count": null,
      "outputs": [
        {
          "output_type": "stream",
          "name": "stdout",
          "text": [
            "enter your favourite movie name:avtaar\n",
            "top 10 movies suggested for you:/n\n",
            "1 . ['Avatar']\n",
            "2 . ['The Godfather']\n",
            "3 . ['New Nightmare']\n",
            "4 . ['Elizabethtown']\n",
            "5 . ['Gerry']\n",
            "6 . ['Cradle Will Rock']\n",
            "7 . ['A Prairie Home Companion']\n",
            "8 . ['Bright Lights, Big City']\n",
            "9 . ['Rollerball']\n",
            "10 . ['Walking and Talking']\n"
          ]
        }
      ]
    },
    {
      "cell_type": "code",
      "source": [
        "from google.colab import drive\n",
        "drive.mount('/content/drive')"
      ],
      "metadata": {
        "id": "2cDxxKqetbxf"
      },
      "execution_count": null,
      "outputs": []
    }
  ]
}